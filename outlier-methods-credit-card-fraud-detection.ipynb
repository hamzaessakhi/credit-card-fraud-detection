{
 "cells": [
  {
   "cell_type": "code",
   "execution_count": 20,
   "metadata": {},
   "outputs": [],
   "source": [
    "# importing the packages\n",
    "import datetime\n",
    "import warnings\n",
    "import numpy as np\n",
    "import pandas as pd\n",
    "import seaborn as sns\n",
    "from datetime import date\n",
    "import sklearn.exceptions\n",
    "from pylab import rcParams\n",
    "import matplotlib.pyplot as plt\n",
    "from sklearn.svm import OneClassSVM\n",
    "from imblearn.over_sampling import SMOTE\n",
    "from sklearn.ensemble import IsolationForest\n",
    "from imblearn.under_sampling import NearMiss \n",
    "from sklearn.metrics import confusion_matrix\n",
    "from sklearn.tree import DecisionTreeClassifier\n",
    "from sklearn.neighbors import LocalOutlierFactor\n",
    "from sklearn.metrics import plot_confusion_matrix\n",
    "from sklearn.linear_model import LogisticRegression\n",
    "from sklearn.metrics import classification_report,accuracy_score\n",
    "warnings.filterwarnings(\"ignore\", category=sklearn.exceptions.UndefinedMetricWarning)\n",
    "\n",
    "\n",
    "from numpy import asarray\n",
    "from sklearn.preprocessing import StandardScaler\n",
    "from sklearn.ensemble import IsolationForest\n",
    "from sklearn.neighbors import LocalOutlierFactor"
   ]
  },
  {
   "cell_type": "code",
   "execution_count": 3,
   "metadata": {},
   "outputs": [
    {
     "name": "stdout",
     "output_type": "stream",
     "text": [
      "(129668, 23) (27786, 23)\n",
      "(129668, 17) (27786, 17)\n",
      "(129668, 16) (129668,) (27786, 16) (27786,)\n",
      "(129668, 16) (27786, 16)\n",
      "merchant\n",
      "category\n",
      "gender\n",
      "street\n",
      "city\n",
      "state\n",
      "job\n",
      "(129668, 3077) (27786, 3077)\n",
      "0    128963\n",
      "1       705\n",
      "Name: is_fraud, dtype: int64 \n",
      " 0    27656\n",
      "1      130\n",
      "Name: is_fraud, dtype: int64\n",
      "(129668, 3077) (27786, 3077) (129668,) (27786,)\n"
     ]
    }
   ],
   "source": [
    "# loading data\n",
    "data_train = pd.read_csv(\"fraudTrain.csv\")\n",
    "data_test = pd.read_csv(\"fraudTest.csv\")\n",
    "# taking smaller sample to run the model faster\n",
    "\n",
    "df_train= data_train.sample(frac = 0.1,random_state=1)\n",
    "df_test= data_test.sample(frac = 0.05,random_state=1)\n",
    "print(df_train.shape,df_test.shape)\n",
    "# function to drop tbe columns\n",
    "def dropCol(data):\n",
    "    col_to_drop = ['trans_date_trans_time','Unnamed: 0','cc_num','first','last','trans_num']\n",
    "    res = data.drop(col_to_drop,axis = 1)\n",
    "    return res\n",
    "# dropping the columns\n",
    "# dropping the columns ['trans_date_trans_time','Unnamed: 0','cc_num','first','last','trans_num']\n",
    "# train data set\n",
    "df_train = dropCol(df_train)\n",
    "# test data set\n",
    "df_test = dropCol(df_test)\n",
    "\n",
    "print ( df_train.shape, df_test.shape)\n",
    "\n",
    "#Create independent and Dependent Features\n",
    "columns = df_train.columns.tolist()\n",
    "\n",
    "# removing the dependent feature is_fraud\n",
    "columns = [c for c in columns if c not in [\"is_fraud\"]]\n",
    "\n",
    "X_train = df_train[columns]\n",
    "Y_train = df_train['is_fraud']\n",
    "X_test = df_test[columns]\n",
    "Y_test = df_test['is_fraud']\n",
    "print ( X_train.shape, Y_train.shape,X_test.shape, Y_test.shape)\n",
    "\n",
    "# function to convert dob to years\n",
    "def age_years(born):\n",
    "    return 2019 - int(born[0:4])\n",
    "\n",
    "# replacing the dob column with age column in our data set for test and train\n",
    "X_train['age'] = X_train['dob'].apply(lambda x: age_years(x))\n",
    "X_train = X_train.drop(['dob'],axis =1)\n",
    "\n",
    "X_test['age'] = X_test['dob'].apply(lambda x: age_years(x))\n",
    "X_test = X_test.drop(['dob'],axis =1)\n",
    "print(X_train.shape,X_test.shape)\n",
    "\n",
    "# concanating the test and train data so that number of columns remain the same in both the data sets\n",
    "final_df = pd.concat([X_train,X_test],axis=0)\n",
    "final_df.shape\n",
    "\n",
    "\n",
    "# creating the list of categorical variables\n",
    "categorical_features =[feature for feature in X_train.columns if final_df[feature].dtypes == 'O']\n",
    "categorical_features\n",
    "\n",
    "# function to convert categorical variables to one hot encoding\n",
    "def category_onehot_multcols(data,multcolumns):\n",
    "    df_final = data\n",
    "    i=0\n",
    "    for fields in multcolumns:\n",
    "        print(fields)\n",
    "        df1=pd.get_dummies(final_df[fields],drop_first=True)\n",
    "        final_df.drop([fields],axis=1,inplace=True)\n",
    "        if i==0:\n",
    "            df_final=df1.copy()\n",
    "        else:           \n",
    "            df_final=pd.concat([df_final,df1],axis=1)\n",
    "        i=i+1             \n",
    "    df_final=pd.concat([final_df,df_final],axis=1)\n",
    "    return df_final\n",
    "\n",
    "# applying the one hot encoding\n",
    "final_df = category_onehot_multcols(final_df, categorical_features)\n",
    "\n",
    "# removing duplicated columns\n",
    "final_df =final_df.loc[:,~final_df.columns.duplicated()]\n",
    "final_df.shape\n",
    "\n",
    "# separating the test and training data\n",
    "df_Train=final_df.iloc[:129668,:]\n",
    "df_Test=final_df.iloc[129668:,:]\n",
    "print(df_Train.shape,df_Test.shape)\n",
    "\n",
    "print(Y_train.value_counts(),\"\\n\",Y_test.value_counts())\n",
    "\n",
    "# files ready for testing on models\n",
    "print(df_Train.shape, df_Test.shape, Y_train.shape, Y_test.shape)\n"
   ]
  },
  {
   "cell_type": "code",
   "execution_count": 18,
   "metadata": {},
   "outputs": [],
   "source": [
    "#Let's evaluate our model \n",
    "def print_eval(y_pred,model):\n",
    "    print(\"Training Accuracy: \",model.score(df_Train, Y_train))\n",
    "    print(\"Testing Accuracy: \", model.score(df_Test, Y_test))\n",
    "    cm = confusion_matrix(Y_test, y_pred)\n",
    "    print(cm)\n",
    "    print(classification_report(Y_test,y_pred))\n"
   ]
  },
  {
   "cell_type": "code",
   "execution_count": 77,
   "metadata": {},
   "outputs": [],
   "source": [
    "df_Train_copy = df_Train.copy()\n",
    "df_Test_copy = df_Test.copy()"
   ]
  },
  {
   "cell_type": "markdown",
   "metadata": {},
   "source": [
    "   \n",
    "### 5.  Considering the Fraud cases as anamoly and use anamoly detection methods such as:   \n",
    "> 5.1 Simple Statistical Methods : Metrics such as distribution, including mean, median, mode, and quantiles could be used to identify outliers since the definition of an anomalous data point is one that deviates by a certain standard deviation from the mean.    \n",
    "5.2 Density-Based Anomaly Detection : These include the    \n",
    "> 5.2.1 k-nearest neighbors algorithm   \n",
    "5.2.2 Relative density of data based method known as local outlier factor (LOF) algorithm **(Implemented)**   \n",
    "5.3 Isolation Forest **(Implemented)**   \n",
    "5.4 Clustering-Based Anomaly Detection : K-means algorithm  \n",
    "5.5 Support Vector Machine-Based Anomaly Detection          \n",
    "5.6 Using Auto Encoders **(Implemented)**       \n",
    "5.7 Neural Network  (Same as Autoencoders? ???)  \n",
    "5.8 OneClassSVM    \n",
    "5.9 DBSCAN    "
   ]
  },
  {
   "cell_type": "markdown",
   "metadata": {},
   "source": [
    "### 5.1 Simple Statistical Methods \n",
    "Metrics such as distribution, including mean, median, mode, and quantiles could be used to identify outliers since the definition of an anomalous data point is one that deviates by a certain standard deviation from the mean. \n"
   ]
  },
  {
   "cell_type": "code",
   "execution_count": null,
   "metadata": {},
   "outputs": [],
   "source": [
    "# upper and lower limit calculation with z score method and handling out liers\n",
    "#data = pd.read_csv('machine_0.csv',index_col=0)\n",
    "def handle_outlier(data):\n",
    "\"\"\"The function takes the data and replaces all the outlier values o f all columns\n",
    "with '0000000001' \"\"\"\n",
    "data_outlier_handled = data.copy() \n",
    "column_names = data.columns \n",
    "total_outliers = []\n",
    "for col in column_names:\n",
    "t=0\n",
    "upper_boundary = data_outlier_handled[col].mean() + 3 * data_out lier_handled[col].std()\n",
    "lower_boundary = data_outlier_handled[col].mean() - 3 * data_out lier_handled[col].std()\n",
    "data_outlier_handled.loc[data_outlier_handled[col] > upper_bound ary,col] = 0.0000000001\n",
    "data_outlier_handled.loc[data_outlier_handled[col] < lower_bound ary,col] = 0.0000000001\n",
    "tu = data[data[col] > upper_boundary].count()[1] tl = data[data[col] < lower_boundary].count()[1]\n",
    "#total_outliers.append(round((tu+tl)/len(data),2)) #to calculate the percent of outliers handled\n",
    "#print(total_outliers) #to print the percent of outliers handled\n",
    "return data_outlier_handled"
   ]
  },
  {
   "cell_type": "markdown",
   "metadata": {},
   "source": [
    "## -----------------------------------------------------------------------------------------------------------"
   ]
  },
  {
   "cell_type": "markdown",
   "metadata": {},
   "source": [
    "###  5.2  Local Outlier Factor  \n",
    "Density-Based Anomaly Detection : These include the k-nearest neighbors algorithm, Relative density of data based method known as local outlier factor (LOF) algorithm \n",
    "    "
   ]
  },
  {
   "cell_type": "markdown",
   "metadata": {},
   "source": [
    "#### Acknowledgement\n",
    "https://medium.com/datadriveninvestor/credit-card-fraud-detection-using-local-outlier-factor-and-isolation-forest-in-python-56edd0a44af5\n",
    "    "
   ]
  },
  {
   "cell_type": "code",
   "execution_count": 121,
   "metadata": {},
   "outputs": [
    {
     "name": "stdout",
     "output_type": "stream",
     "text": [
      "Normal cases in train set : 128963 \n",
      "Fraud cases in train set : 705\n",
      "Normal cases in test set : 27656 \n",
      "Fraud cases in test set : 130\n",
      "Fraud percentage : 0.0054\n",
      "Fraud percentage : 0.004678615129921543\n"
     ]
    }
   ],
   "source": [
    "## Get the Fraud and the normal  transaction numbers for test and train dataset \n",
    "\n",
    "fraud_train = df_train[df_train['is_fraud']==1]\n",
    "normal_train = df_train[df_train['is_fraud']==0]\n",
    "fraud_test = df_test[df_test['is_fraud']==1]\n",
    "normal_test = df_test[df_test['is_fraud']==0]\n",
    "\n",
    "print(\"Normal cases in train set :\",len(df_train)-len(fraud_train),\"\\nFraud cases in train set :\",len(fraud_train))\n",
    "print(\"Normal cases in test set :\",len(df_test)-len(fraud_test),\"\\nFraud cases in test set :\",len(fraud_test))\n",
    "outlier_fraction = round(len(fraud_train)/len(df_train),4)\n",
    "print(\"Fraud percentage :\", outlier_fraction)\n",
    "print(\"Fraud percentage :\", len(fraud_test)/len(df_test))"
   ]
  },
  {
   "cell_type": "code",
   "execution_count": 118,
   "metadata": {},
   "outputs": [
    {
     "name": "stdout",
     "output_type": "stream",
     "text": [
      "(129668, 3077) (27786, 3077) (129668,) (27786,)\n"
     ]
    }
   ],
   "source": [
    "# preprocssed files for our use\n",
    "print(df_Train.shape, df_Test.shape, Y_train.shape, Y_test.shape)"
   ]
  },
  {
   "cell_type": "code",
   "execution_count": 122,
   "metadata": {},
   "outputs": [
    {
     "name": "stdout",
     "output_type": "stream",
     "text": [
      "1394\n",
      "0.9892494678717957\n",
      "              precision    recall  f1-score   support\n",
      "\n",
      "           0       0.99      0.99      0.99    128967\n",
      "           1       0.01      0.01      0.01       701\n",
      "\n",
      "    accuracy                           0.99    129668\n",
      "   macro avg       0.50      0.50      0.50    129668\n",
      "weighted avg       0.99      0.99      0.99    129668\n",
      "\n"
     ]
    }
   ],
   "source": [
    "# train data set\n",
    "a = LocalOutlierFactor(n_neighbors = 20,contamination = outlier_fraction)\n",
    "y_prediction1 = a.fit_predict(df_Train) # Fitting the model.\n",
    "y_prediction1[y_prediction1 == 1] = 0 # Valid transactions are labelled as 0.\n",
    "y_prediction1[y_prediction1 == -1] = 1 # Fraudulent transactions are labelled as 1.\n",
    "errors1 = (y_prediction1 != Y_train).sum() # Total number of errors is calculated.\n",
    "print(errors1)\n",
    "print(accuracy_score(y_prediction1,Y_train))\n",
    "print(classification_report(y_prediction1,Y_train))"
   ]
  },
  {
   "cell_type": "code",
   "execution_count": 126,
   "metadata": {},
   "outputs": [
    {
     "name": "stdout",
     "output_type": "stream",
     "text": [
      "279\n",
      "0.9899589721442453\n",
      "              precision    recall  f1-score   support\n",
      "\n",
      "           0       0.99      1.00      0.99     27635\n",
      "           1       0.01      0.01      0.01       151\n",
      "\n",
      "    accuracy                           0.99     27786\n",
      "   macro avg       0.50      0.50      0.50     27786\n",
      "weighted avg       0.99      0.99      0.99     27786\n",
      "\n"
     ]
    }
   ],
   "source": [
    "# test data set\n",
    "\n",
    "y_prediction1 = a.fit_predict(df_Test) # Fitting the model.\n",
    "y_prediction1[y_prediction1 == 1] = 0 # Valid transactions are labelled as 0.\n",
    "y_prediction1[y_prediction1 == -1] = 1 # Fraudulent transactions are labelled as 1.\n",
    "errors1 = (y_prediction1 != Y_test).sum() # Total number of errors is calculated.\n",
    "print(errors1)\n",
    "print(accuracy_score(y_prediction1,Y_test))\n",
    "print(classification_report(y_prediction1,Y_test))"
   ]
  },
  {
   "cell_type": "markdown",
   "metadata": {},
   "source": [
    "#### We see that Local Outlier Factor does not perform well as it gives Recall of 0.01 for bothe Test set and Train set.  \n",
    "## -----------------------------------------------------------------------------------------------------------"
   ]
  },
  {
   "cell_type": "markdown",
   "metadata": {},
   "source": [
    "## 5.3 Isolation Forest    \n",
    "Isolation Forest is based on the Decision Tree algorithm. It isolates the outliers by randomly selecting a feature from the given set of features and then randomly selecting a split value between the max and min values of that feature. This random partitioning of features will produce shorter paths in trees for the anomalous data points, thus distinguishing them from the rest of the data."
   ]
  },
  {
   "cell_type": "markdown",
   "metadata": {},
   "source": [
    "#### Acknowledgement\n",
    "https://medium.com/datadriveninvestor/credit-card-fraud-detection-using-local-outlier-factor-and-isolation-forest-in-python-56edd0a44af5\n",
    "    \n",
    "\n",
    "#### https://www.youtube.com/watch?v=TP3wdwD8JVY "
   ]
  },
  {
   "cell_type": "code",
   "execution_count": 123,
   "metadata": {},
   "outputs": [
    {
     "name": "stdout",
     "output_type": "stream",
     "text": [
      "1376\n",
      "0.989388283925101\n",
      "              precision    recall  f1-score   support\n",
      "\n",
      "           0       0.99      0.99      0.99    128967\n",
      "           1       0.02      0.02      0.02       701\n",
      "\n",
      "    accuracy                           0.99    129668\n",
      "   macro avg       0.51      0.51      0.51    129668\n",
      "weighted avg       0.99      0.99      0.99    129668\n",
      "\n"
     ]
    }
   ],
   "source": [
    "# isolation forest for train\n",
    "b = IsolationForest(max_samples = len(df_Train),contamination = outlier_fraction).fit(df_Train) # Fitting the model.\n",
    "y_prediction2 = b.predict(df_Train) # Prediction using trained model.\n",
    "y_prediction2[y_prediction2 == 1] = 0 # Valid transactions are labelled as 0.\n",
    "y_prediction2[y_prediction2 == -1] = 1 # Fraudulent transactions are labelled as 1.\n",
    "errors2 = (y_prediction2 != Y_train).sum() # Total number of errors is calculated.\n",
    "print(errors2)\n",
    "print(accuracy_score(y_prediction2,Y_train))\n",
    "print(classification_report(y_prediction2,Y_train))"
   ]
  },
  {
   "cell_type": "code",
   "execution_count": 127,
   "metadata": {},
   "outputs": [
    {
     "name": "stdout",
     "output_type": "stream",
     "text": [
      "271\n",
      "0.9902468869214712\n",
      "              precision    recall  f1-score   support\n",
      "\n",
      "           0       0.99      1.00      1.00     27635\n",
      "           1       0.04      0.03      0.04       151\n",
      "\n",
      "    accuracy                           0.99     27786\n",
      "   macro avg       0.52      0.51      0.52     27786\n",
      "weighted avg       0.99      0.99      0.99     27786\n",
      "\n"
     ]
    }
   ],
   "source": [
    "# isolation forest for train\n",
    "b = IsolationForest(max_samples = len(df_Test),contamination = outlier_fraction).fit(df_Test) # Fitting the model.\n",
    "y_prediction2 = b.predict(df_Test) # Prediction using trained model.\n",
    "y_prediction2[y_prediction2 == 1] = 0 # Valid transactions are labelled as 0.\n",
    "y_prediction2[y_prediction2 == -1] = 1 # Fraudulent transactions are labelled as 1.\n",
    "errors2 = (y_prediction2 != Y_test).sum() # Total number of errors is calculated.\n",
    "print(errors2)\n",
    "print(accuracy_score(y_prediction2,Y_test))\n",
    "print(classification_report(y_prediction2,Y_test))"
   ]
  },
  {
   "cell_type": "markdown",
   "metadata": {},
   "source": [
    "#### We see that Isolation Forest does not perform well as it gives Recall of 0.03 on Test set and 0.02 on Train set."
   ]
  },
  {
   "cell_type": "markdown",
   "metadata": {},
   "source": [
    "## 5.6 Implementing Autoencoder to detect the fraud cases\n"
   ]
  },
  {
   "cell_type": "markdown",
   "metadata": {},
   "source": [
    "#### Acknowledgemet:\n",
    "https://medium.com/@curiousily/credit-card-fraud-detection-using-autoencoders-in-keras-tensorflow-for-hackers-part-vii-20e0c85301bd (Venelin Vankov)    \n",
    "https://github.com/curiousily/Credit-Card-Fraud-Detection-using-Autoencoders-in-Keras/blob/master/fraud_detection.ipynb    \n",
    "\n",
    "https://www.youtube.com/watch?v=S31E-ftRfQI    \n",
    "\n",
    "https://github.com/dpanagop/ML_and_AI_examples/blob/master/Credit_Fraud_detection_with_autoencoders.ipynb  (not used)   \n",
    "https://www.youtube.com/watch?v=S31E-ftRfQI  (refernce)  \n",
    "\n",
    "       "
   ]
  },
  {
   "cell_type": "code",
   "execution_count": 78,
   "metadata": {},
   "outputs": [],
   "source": [
    "# preprocessing \n",
    "\n",
    "\n",
    "df_Train_copy = df_Train_copy.drop(['unix_time'], axis=1)\n",
    "df_Test_copy = df_Test_copy.drop(['unix_time'], axis=1)\n",
    "\n",
    "df_Train_copy['amt'] = StandardScaler().fit_transform(df_Train_copy['amt'].values.reshape(-1, 1))\n",
    "df_Test_copy['amt'] = StandardScaler().fit_transform(df_Test_copy['amt'].values.reshape(-1, 1))"
   ]
  },
  {
   "cell_type": "code",
   "execution_count": 79,
   "metadata": {},
   "outputs": [
    {
     "data": {
      "text/plain": [
       "((129668, 3076), (27786, 3076))"
      ]
     },
     "execution_count": 79,
     "metadata": {},
     "output_type": "execute_result"
    }
   ],
   "source": [
    "df_Train_copy.shape,df_Test_copy.shape"
   ]
  },
  {
   "cell_type": "markdown",
   "metadata": {},
   "source": [
    "Our Autoencoder uses 4 fully connected layers with 14, 7, 7 and 29 neurons respectively. The first two layers are used for our encoder, the last two go for the decoder. Additionally, L1 regularization will be used during training:"
   ]
  },
  {
   "cell_type": "code",
   "execution_count": 80,
   "metadata": {},
   "outputs": [],
   "source": [
    "# building the model\n",
    "input_dim = df_Train_copy.shape[1]\n",
    "\n",
    "encoding_dim = 14\n",
    "\n",
    "input_layer = Input(shape=(input_dim, ))\n",
    "encoder = Dense(encoding_dim, activation=\"tanh\", \n",
    "                activity_regularizer=regularizers.l1(10e-5))(input_layer)\n",
    "encoder = Dense(int(encoding_dim / 2), activation=\"relu\")(encoder)\n",
    "decoder = Dense(int(encoding_dim / 2), activation='tanh')(encoder)\n",
    "decoder = Dense(input_dim, activation='relu')(decoder)\n",
    "autoencoder = Model(inputs=input_layer, outputs=decoder)"
   ]
  },
  {
   "cell_type": "code",
   "execution_count": 82,
   "metadata": {},
   "outputs": [
    {
     "name": "stdout",
     "output_type": "stream",
     "text": [
      "Epoch 1/100\n",
      "   2/4053 [..............................] - ETA: 6:12 - loss: 13892927.0000 - accuracy: 0.0000e+00WARNING:tensorflow:Callbacks method `on_train_batch_end` is slow compared to the batch time (batch time: 0.0078s vs `on_train_batch_end` time: 0.1719s). Check your callbacks.\n",
      "4053/4053 [==============================] - 12s 3ms/step - loss: 33123092.0000 - accuracy: 0.7762 - val_loss: 35099472.0000 - val_accuracy: 0.7910\n",
      "Epoch 2/100\n",
      "4053/4053 [==============================] - 9s 2ms/step - loss: 33120408.0000 - accuracy: 0.7910 - val_loss: 35096760.0000 - val_accuracy: 0.7910\n",
      "Epoch 3/100\n",
      "4053/4053 [==============================] - 11s 3ms/step - loss: 33117814.0000 - accuracy: 0.7910 - val_loss: 35094080.0000 - val_accuracy: 0.7910\n",
      "Epoch 4/100\n",
      "4053/4053 [==============================] - 12s 3ms/step - loss: 33115254.0000 - accuracy: 0.7910 - val_loss: 35091440.0000 - val_accuracy: 0.7910\n",
      "Epoch 5/100\n",
      "4053/4053 [==============================] - 10s 3ms/step - loss: 33112558.0000 - accuracy: 0.7910 - val_loss: 35088764.0000 - val_accuracy: 0.7910\n",
      "Epoch 6/100\n",
      "4053/4053 [==============================] - 10s 3ms/step - loss: 33109974.0000 - accuracy: 0.7910 - val_loss: 35086112.0000 - val_accuracy: 0.7910\n",
      "Epoch 7/100\n",
      "4053/4053 [==============================] - 11s 3ms/step - loss: 33107394.0000 - accuracy: 0.7910 - val_loss: 35083460.0000 - val_accuracy: 0.7910\n",
      "Epoch 8/100\n",
      "4053/4053 [==============================] - 10s 3ms/step - loss: 33104734.0000 - accuracy: 0.7910 - val_loss: 35080796.0000 - val_accuracy: 0.7910\n",
      "Epoch 9/100\n",
      "4053/4053 [==============================] - 11s 3ms/step - loss: 33102136.0000 - accuracy: 0.7910 - val_loss: 35078120.0000 - val_accuracy: 0.7910\n",
      "Epoch 10/100\n",
      "4053/4053 [==============================] - 10s 3ms/step - loss: 33099518.0000 - accuracy: 0.7910 - val_loss: 35075476.0000 - val_accuracy: 0.7910\n",
      "Epoch 11/100\n",
      "4053/4053 [==============================] - 11s 3ms/step - loss: 33096904.0000 - accuracy: 0.7910 - val_loss: 35072852.0000 - val_accuracy: 0.7910\n",
      "Epoch 12/100\n",
      "4053/4053 [==============================] - 11s 3ms/step - loss: 33094256.0000 - accuracy: 0.7910 - val_loss: 35070168.0000 - val_accuracy: 0.7910\n",
      "Epoch 13/100\n",
      "4053/4053 [==============================] - 10s 2ms/step - loss: 33091690.0000 - accuracy: 0.7910 - val_loss: 35067488.0000 - val_accuracy: 0.7910\n",
      "Epoch 14/100\n",
      "4053/4053 [==============================] - 11s 3ms/step - loss: 33089034.0000 - accuracy: 0.7910 - val_loss: 35064868.0000 - val_accuracy: 0.7910\n",
      "Epoch 15/100\n",
      "4053/4053 [==============================] - 12s 3ms/step - loss: 33086462.0000 - accuracy: 0.7910 - val_loss: 35062176.0000 - val_accuracy: 0.7910\n",
      "Epoch 16/100\n",
      "4053/4053 [==============================] - 12s 3ms/step - loss: 33083900.0000 - accuracy: 0.7910 - val_loss: 35059508.0000 - val_accuracy: 0.7910\n",
      "Epoch 17/100\n",
      "4053/4053 [==============================] - 11s 3ms/step - loss: 33081174.0000 - accuracy: 0.7910 - val_loss: 35056876.0000 - val_accuracy: 0.7910\n",
      "Epoch 18/100\n",
      "4053/4053 [==============================] - 14s 4ms/step - loss: 33078646.0000 - accuracy: 0.7910 - val_loss: 35054244.0000 - val_accuracy: 0.7910\n",
      "Epoch 19/100\n",
      "4053/4053 [==============================] - 15s 4ms/step - loss: 33076054.0000 - accuracy: 0.7910 - val_loss: 35051572.0000 - val_accuracy: 0.7910\n",
      "Epoch 20/100\n",
      "4053/4053 [==============================] - 12s 3ms/step - loss: 33073454.0000 - accuracy: 0.7910 - val_loss: 35048964.0000 - val_accuracy: 0.7910\n",
      "Epoch 21/100\n",
      "4053/4053 [==============================] - 11s 3ms/step - loss: 33070896.0000 - accuracy: 0.7910 - val_loss: 35046320.0000 - val_accuracy: 0.7910\n",
      "Epoch 22/100\n",
      "4053/4053 [==============================] - 14s 3ms/step - loss: 33068320.0000 - accuracy: 0.7910 - val_loss: 35043704.0000 - val_accuracy: 0.7910\n",
      "Epoch 23/100\n",
      "4053/4053 [==============================] - 14s 3ms/step - loss: 33065704.0000 - accuracy: 0.7910 - val_loss: 35041036.0000 - val_accuracy: 0.7910\n",
      "Epoch 24/100\n",
      "4053/4053 [==============================] - 15s 4ms/step - loss: 33063120.0000 - accuracy: 0.7910 - val_loss: 35038392.0000 - val_accuracy: 0.7910\n",
      "Epoch 25/100\n",
      "4053/4053 [==============================] - 13s 3ms/step - loss: 33060492.0000 - accuracy: 0.7910 - val_loss: 35035776.0000 - val_accuracy: 0.7910\n",
      "Epoch 26/100\n",
      "4053/4053 [==============================] - 13s 3ms/step - loss: 33057874.0000 - accuracy: 0.7910 - val_loss: 35033132.0000 - val_accuracy: 0.7910\n",
      "Epoch 27/100\n",
      "4053/4053 [==============================] - 14s 3ms/step - loss: 33055332.0000 - accuracy: 0.7910 - val_loss: 35030480.0000 - val_accuracy: 0.7910\n",
      "Epoch 28/100\n",
      "4053/4053 [==============================] - 13s 3ms/step - loss: 33052686.0000 - accuracy: 0.7910 - val_loss: 35027868.0000 - val_accuracy: 0.7910\n",
      "Epoch 29/100\n",
      "4053/4053 [==============================] - 12s 3ms/step - loss: 33050130.0000 - accuracy: 0.7910 - val_loss: 35025232.0000 - val_accuracy: 0.7910\n",
      "Epoch 30/100\n",
      "4053/4053 [==============================] - 13s 3ms/step - loss: 33047560.0000 - accuracy: 0.7910 - val_loss: 35022608.0000 - val_accuracy: 0.7910\n",
      "Epoch 31/100\n",
      "4053/4053 [==============================] - 13s 3ms/step - loss: 33044990.0000 - accuracy: 0.7910 - val_loss: 35019964.0000 - val_accuracy: 0.7910\n",
      "Epoch 32/100\n",
      "4053/4053 [==============================] - 12s 3ms/step - loss: 33042428.0000 - accuracy: 0.7910 - val_loss: 35017360.0000 - val_accuracy: 0.7910\n",
      "Epoch 33/100\n",
      "4053/4053 [==============================] - 12s 3ms/step - loss: 33039808.0000 - accuracy: 0.7910 - val_loss: 35014732.0000 - val_accuracy: 0.7910\n",
      "Epoch 34/100\n",
      "4053/4053 [==============================] - 12s 3ms/step - loss: 33037226.0000 - accuracy: 0.7910 - val_loss: 35012104.0000 - val_accuracy: 0.7910\n",
      "Epoch 35/100\n",
      "4053/4053 [==============================] - 12s 3ms/step - loss: 33034606.0000 - accuracy: 0.7910 - val_loss: 35009472.0000 - val_accuracy: 0.7910\n",
      "Epoch 36/100\n",
      "4053/4053 [==============================] - 12s 3ms/step - loss: 33032102.0000 - accuracy: 0.7910 - val_loss: 35006856.0000 - val_accuracy: 0.7910\n",
      "Epoch 37/100\n",
      "4053/4053 [==============================] - 13s 3ms/step - loss: 33029504.0000 - accuracy: 0.7910 - val_loss: 35004228.0000 - val_accuracy: 0.7910\n",
      "Epoch 38/100\n",
      "4053/4053 [==============================] - 12s 3ms/step - loss: 33026904.0000 - accuracy: 0.7910 - val_loss: 35001604.0000 - val_accuracy: 0.7910\n",
      "Epoch 39/100\n",
      "4053/4053 [==============================] - 12s 3ms/step - loss: 33024348.0000 - accuracy: 0.7910 - val_loss: 34998976.0000 - val_accuracy: 0.7910\n",
      "Epoch 40/100\n",
      "4053/4053 [==============================] - 12s 3ms/step - loss: 33021762.0000 - accuracy: 0.7910 - val_loss: 34996388.0000 - val_accuracy: 0.7910\n",
      "Epoch 41/100\n",
      "4053/4053 [==============================] - 14s 4ms/step - loss: 33019288.0000 - accuracy: 0.7910 - val_loss: 34993744.0000 - val_accuracy: 0.7910\n",
      "Epoch 42/100\n",
      "4053/4053 [==============================] - 15s 4ms/step - loss: 33016634.0000 - accuracy: 0.7910 - val_loss: 34991168.0000 - val_accuracy: 0.7910\n",
      "Epoch 43/100\n",
      "4053/4053 [==============================] - 16s 4ms/step - loss: 33014120.0000 - accuracy: 0.7910 - val_loss: 34988552.0000 - val_accuracy: 0.7910\n",
      "Epoch 44/100\n",
      "4053/4053 [==============================] - 14s 3ms/step - loss: 33011514.0000 - accuracy: 0.7910 - val_loss: 34985928.0000 - val_accuracy: 0.7910\n",
      "Epoch 45/100\n",
      "4053/4053 [==============================] - 13s 3ms/step - loss: 33008994.0000 - accuracy: 0.7910 - val_loss: 34983324.0000 - val_accuracy: 0.7910\n",
      "Epoch 46/100\n",
      "4053/4053 [==============================] - 12s 3ms/step - loss: 33006392.0000 - accuracy: 0.7910 - val_loss: 34980692.0000 - val_accuracy: 0.7910\n",
      "Epoch 47/100\n",
      "4053/4053 [==============================] - 13s 3ms/step - loss: 33003804.0000 - accuracy: 0.7910 - val_loss: 34978092.0000 - val_accuracy: 0.7910\n",
      "Epoch 48/100\n",
      "4053/4053 [==============================] - 14s 3ms/step - loss: 33001288.0000 - accuracy: 0.7910 - val_loss: 34975456.0000 - val_accuracy: 0.7910\n",
      "Epoch 49/100\n",
      "4053/4053 [==============================] - 14s 3ms/step - loss: 32998662.0000 - accuracy: 0.7910 - val_loss: 34972864.0000 - val_accuracy: 0.7910\n",
      "Epoch 50/100\n"
     ]
    },
    {
     "name": "stdout",
     "output_type": "stream",
     "text": [
      "4053/4053 [==============================] - 14s 3ms/step - loss: 32996124.0000 - accuracy: 0.7910 - val_loss: 34970228.0000 - val_accuracy: 0.7910\n",
      "Epoch 51/100\n",
      "4053/4053 [==============================] - 14s 3ms/step - loss: 32993570.0000 - accuracy: 0.7910 - val_loss: 34967676.0000 - val_accuracy: 0.7910\n",
      "Epoch 52/100\n",
      "4053/4053 [==============================] - 16s 4ms/step - loss: 32991026.0000 - accuracy: 0.7910 - val_loss: 34965048.0000 - val_accuracy: 0.7910\n",
      "Epoch 53/100\n",
      "4053/4053 [==============================] - 15s 4ms/step - loss: 32988432.0000 - accuracy: 0.7910 - val_loss: 34962480.0000 - val_accuracy: 0.7910\n",
      "Epoch 54/100\n",
      "4053/4053 [==============================] - 13s 3ms/step - loss: 32985950.0000 - accuracy: 0.7910 - val_loss: 34959868.0000 - val_accuracy: 0.7910\n",
      "Epoch 55/100\n",
      "4053/4053 [==============================] - 14s 3ms/step - loss: 32983384.0000 - accuracy: 0.7910 - val_loss: 34957276.0000 - val_accuracy: 0.7910\n",
      "Epoch 56/100\n",
      "4053/4053 [==============================] - 14s 3ms/step - loss: 32980792.0000 - accuracy: 0.7910 - val_loss: 34954660.0000 - val_accuracy: 0.7910\n",
      "Epoch 57/100\n",
      "4053/4053 [==============================] - 14s 3ms/step - loss: 32978308.0000 - accuracy: 0.7910 - val_loss: 34952080.0000 - val_accuracy: 0.7910\n",
      "Epoch 58/100\n",
      "4053/4053 [==============================] - 14s 4ms/step - loss: 32975704.0000 - accuracy: 0.7910 - val_loss: 34949488.0000 - val_accuracy: 0.7910\n",
      "Epoch 59/100\n",
      "4053/4053 [==============================] - 13s 3ms/step - loss: 32973192.0000 - accuracy: 0.7910 - val_loss: 34946888.0000 - val_accuracy: 0.7910\n",
      "Epoch 60/100\n",
      "4053/4053 [==============================] - 13s 3ms/step - loss: 32970622.0000 - accuracy: 0.7910 - val_loss: 34944276.0000 - val_accuracy: 0.7910\n",
      "Epoch 61/100\n",
      "4053/4053 [==============================] - 12s 3ms/step - loss: 32968054.0000 - accuracy: 0.7910 - val_loss: 34941696.0000 - val_accuracy: 0.7910\n",
      "Epoch 62/100\n",
      "4053/4053 [==============================] - 13s 3ms/step - loss: 32965546.0000 - accuracy: 0.7910 - val_loss: 34939084.0000 - val_accuracy: 0.7910\n",
      "Epoch 63/100\n",
      "4053/4053 [==============================] - 13s 3ms/step - loss: 32962960.0000 - accuracy: 0.7910 - val_loss: 34936532.0000 - val_accuracy: 0.7910\n",
      "Epoch 64/100\n",
      "4053/4053 [==============================] - 13s 3ms/step - loss: 32960398.0000 - accuracy: 0.7910 - val_loss: 34933948.0000 - val_accuracy: 0.7910\n",
      "Epoch 65/100\n",
      "4053/4053 [==============================] - 14s 4ms/step - loss: 32957924.0000 - accuracy: 0.7910 - val_loss: 34931364.0000 - val_accuracy: 0.7910\n",
      "Epoch 66/100\n",
      "4053/4053 [==============================] - 13s 3ms/step - loss: 32955360.0000 - accuracy: 0.7910 - val_loss: 34928776.0000 - val_accuracy: 0.7910\n",
      "Epoch 67/100\n",
      "4053/4053 [==============================] - 14s 4ms/step - loss: 32952852.0000 - accuracy: 0.7910 - val_loss: 34926212.0000 - val_accuracy: 0.7910\n",
      "Epoch 68/100\n",
      "4053/4053 [==============================] - 14s 3ms/step - loss: 32950234.0000 - accuracy: 0.7910 - val_loss: 34923636.0000 - val_accuracy: 0.7910\n",
      "Epoch 69/100\n",
      "4053/4053 [==============================] - 13s 3ms/step - loss: 32947806.0000 - accuracy: 0.7910 - val_loss: 34921044.0000 - val_accuracy: 0.7910\n",
      "Epoch 70/100\n",
      "4053/4053 [==============================] - 14s 3ms/step - loss: 32945264.0000 - accuracy: 0.7910 - val_loss: 34918464.0000 - val_accuracy: 0.7910\n",
      "Epoch 71/100\n",
      "4053/4053 [==============================] - 14s 3ms/step - loss: 32942708.0000 - accuracy: 0.7910 - val_loss: 34915888.0000 - val_accuracy: 0.7910\n",
      "Epoch 72/100\n",
      "4053/4053 [==============================] - 15s 4ms/step - loss: 32940198.0000 - accuracy: 0.7910 - val_loss: 34913324.0000 - val_accuracy: 0.7910\n",
      "Epoch 73/100\n",
      "4053/4053 [==============================] - 15s 4ms/step - loss: 32937666.0000 - accuracy: 0.7910 - val_loss: 34910732.0000 - val_accuracy: 0.7910\n",
      "Epoch 74/100\n",
      "4053/4053 [==============================] - 16s 4ms/step - loss: 32935156.0000 - accuracy: 0.7910 - val_loss: 34908184.0000 - val_accuracy: 0.7910\n",
      "Epoch 75/100\n",
      "4053/4053 [==============================] - 13s 3ms/step - loss: 32932644.0000 - accuracy: 0.7910 - val_loss: 34905612.0000 - val_accuracy: 0.7910\n",
      "Epoch 76/100\n",
      "4053/4053 [==============================] - 13s 3ms/step - loss: 32930102.0000 - accuracy: 0.7910 - val_loss: 34903052.0000 - val_accuracy: 0.7910\n",
      "Epoch 77/100\n",
      "4053/4053 [==============================] - 14s 3ms/step - loss: 32927606.0000 - accuracy: 0.7910 - val_loss: 34900452.0000 - val_accuracy: 0.7910\n",
      "Epoch 78/100\n",
      "4053/4053 [==============================] - 15s 4ms/step - loss: 32925066.0000 - accuracy: 0.7910 - val_loss: 34897916.0000 - val_accuracy: 0.7910\n",
      "Epoch 79/100\n",
      "4053/4053 [==============================] - 13s 3ms/step - loss: 32922538.0000 - accuracy: 0.7910 - val_loss: 34895352.0000 - val_accuracy: 0.7910\n",
      "Epoch 80/100\n",
      "4053/4053 [==============================] - 14s 3ms/step - loss: 32920038.0000 - accuracy: 0.7910 - val_loss: 34892768.0000 - val_accuracy: 0.7910\n",
      "Epoch 81/100\n",
      "4053/4053 [==============================] - 15s 4ms/step - loss: 32917460.0000 - accuracy: 0.7910 - val_loss: 34890212.0000 - val_accuracy: 0.7910\n",
      "Epoch 82/100\n",
      "4053/4053 [==============================] - 13s 3ms/step - loss: 32914974.0000 - accuracy: 0.7910 - val_loss: 34887640.0000 - val_accuracy: 0.7910\n",
      "Epoch 83/100\n",
      "4053/4053 [==============================] - 14s 3ms/step - loss: 32912492.0000 - accuracy: 0.7910 - val_loss: 34885084.0000 - val_accuracy: 0.7910\n",
      "Epoch 84/100\n",
      "4053/4053 [==============================] - 14s 4ms/step - loss: 32909982.0000 - accuracy: 0.7910 - val_loss: 34882540.0000 - val_accuracy: 0.7910\n",
      "Epoch 85/100\n",
      "4053/4053 [==============================] - 12s 3ms/step - loss: 32907412.0000 - accuracy: 0.7910 - val_loss: 34879988.0000 - val_accuracy: 0.7910\n",
      "Epoch 86/100\n",
      "4053/4053 [==============================] - 14s 4ms/step - loss: 32904864.0000 - accuracy: 0.7910 - val_loss: 34877436.0000 - val_accuracy: 0.7910\n",
      "Epoch 87/100\n",
      "4053/4053 [==============================] - 13s 3ms/step - loss: 32902430.0000 - accuracy: 0.7910 - val_loss: 34874860.0000 - val_accuracy: 0.7910\n",
      "Epoch 88/100\n",
      "4053/4053 [==============================] - 12s 3ms/step - loss: 32899918.0000 - accuracy: 0.7910 - val_loss: 34872308.0000 - val_accuracy: 0.7910\n",
      "Epoch 89/100\n",
      "4053/4053 [==============================] - 13s 3ms/step - loss: 32897422.0000 - accuracy: 0.7910 - val_loss: 34869752.0000 - val_accuracy: 0.7910\n",
      "Epoch 90/100\n",
      "4053/4053 [==============================] - 13s 3ms/step - loss: 32894842.0000 - accuracy: 0.7910 - val_loss: 34867224.0000 - val_accuracy: 0.7910\n",
      "Epoch 91/100\n",
      "4053/4053 [==============================] - 13s 3ms/step - loss: 32892420.0000 - accuracy: 0.7910 - val_loss: 34864656.0000 - val_accuracy: 0.7910\n",
      "Epoch 92/100\n",
      "4053/4053 [==============================] - 13s 3ms/step - loss: 32889864.0000 - accuracy: 0.7910 - val_loss: 34862132.0000 - val_accuracy: 0.7910\n",
      "Epoch 93/100\n",
      "4053/4053 [==============================] - 13s 3ms/step - loss: 32887428.0000 - accuracy: 0.7910 - val_loss: 34859600.0000 - val_accuracy: 0.7910\n",
      "Epoch 94/100\n",
      "4053/4053 [==============================] - 12s 3ms/step - loss: 32884914.0000 - accuracy: 0.7910 - val_loss: 34856996.0000 - val_accuracy: 0.7910\n",
      "Epoch 95/100\n",
      "4053/4053 [==============================] - 13s 3ms/step - loss: 32882412.0000 - accuracy: 0.7910 - val_loss: 34854476.0000 - val_accuracy: 0.7910\n",
      "Epoch 96/100\n",
      "4053/4053 [==============================] - 16s 4ms/step - loss: 32879940.0000 - accuracy: 0.7910 - val_loss: 34851920.0000 - val_accuracy: 0.7910\n",
      "Epoch 97/100\n",
      "4053/4053 [==============================] - 15s 4ms/step - loss: 32877382.0000 - accuracy: 0.7910 - val_loss: 34849392.0000 - val_accuracy: 0.7910\n",
      "Epoch 98/100\n",
      "4053/4053 [==============================] - 13s 3ms/step - loss: 32874878.0000 - accuracy: 0.7910 - val_loss: 34846848.0000 - val_accuracy: 0.7910\n",
      "Epoch 99/100\n",
      "4053/4053 [==============================] - 12s 3ms/step - loss: 32872370.0000 - accuracy: 0.7910 - val_loss: 34844292.0000 - val_accuracy: 0.7910\n",
      "Epoch 100/100\n",
      "4053/4053 [==============================] - 14s 3ms/step - loss: 32869920.0000 - accuracy: 0.7910 - val_loss: 34841736.0000 - val_accuracy: 0.7910\n"
     ]
    }
   ],
   "source": [
    "nb_epoch = 100\n",
    "batch_size = 32\n",
    "autoencoder.compile(optimizer='adam', \n",
    "                    loss='mean_squared_error', \n",
    "                    metrics=['accuracy'])\n",
    "checkpointer = ModelCheckpoint(filepath=\"model.h5\",\n",
    "                               verbose=0,\n",
    "                               save_best_only=True)\n",
    "tensorboard = TensorBoard(log_dir='./logs',\n",
    "                          histogram_freq=0,\n",
    "                          write_graph=True,\n",
    "                          write_images=True)\n",
    "history = autoencoder.fit(df_Train_copy, df_Train_copy,\n",
    "                    epochs=nb_epoch,\n",
    "                    batch_size=batch_size,\n",
    "                    shuffle=True,\n",
    "                    validation_data=(df_Test_copy, df_Test_copy),\n",
    "                    verbose=1,\n",
    "                    callbacks=[checkpointer, tensorboard]).history"
   ]
  },
  {
   "cell_type": "code",
   "execution_count": 83,
   "metadata": {},
   "outputs": [],
   "source": [
    "# loading the saved model\n",
    "autoencoder = load_model('model.h5')\n"
   ]
  },
  {
   "cell_type": "code",
   "execution_count": 84,
   "metadata": {},
   "outputs": [
    {
     "data": {
      "image/png": "[encoded data removed]",
      "text/plain": [
       "<Figure size 432x288 with 1 Axes>"
      ]
     },
     "metadata": {
      "needs_background": "light"
     },
     "output_type": "display_data"
    }
   ],
   "source": [
    "#evaluations\n",
    "plt.plot(history['loss'])\n",
    "plt.plot(history['val_loss'])\n",
    "plt.title('model loss')\n",
    "plt.ylabel('loss')\n",
    "plt.xlabel('epoch')\n",
    "plt.legend(['train', 'test'], loc='upper right');"
   ]
  },
  {
   "cell_type": "code",
   "execution_count": 85,
   "metadata": {},
   "outputs": [
    {
     "data": {
      "text/html": [
       "<div>\n",
       "<style scoped>\n",
       "    .dataframe tbody tr th:only-of-type {\n",
       "        vertical-align: middle;\n",
       "    }\n",
       "\n",
       "    .dataframe tbody tr th {\n",
       "        vertical-align: top;\n",
       "    }\n",
       "\n",
       "    .dataframe thead th {\n",
       "        text-align: right;\n",
       "    }\n",
       "</style>\n",
       "<table border=\"1\" class=\"dataframe\">\n",
       "  <thead>\n",
       "    <tr style=\"text-align: right;\">\n",
       "      <th></th>\n",
       "      <th>reconstruction_error</th>\n",
       "      <th>true_class</th>\n",
       "    </tr>\n",
       "  </thead>\n",
       "  <tbody>\n",
       "    <tr>\n",
       "      <th>count</th>\n",
       "      <td>2.778600e+04</td>\n",
       "      <td>27786.000000</td>\n",
       "    </tr>\n",
       "    <tr>\n",
       "      <th>mean</th>\n",
       "      <td>3.484177e+07</td>\n",
       "      <td>0.004679</td>\n",
       "    </tr>\n",
       "    <tr>\n",
       "      <th>std</th>\n",
       "      <td>2.099092e+08</td>\n",
       "      <td>0.068241</td>\n",
       "    </tr>\n",
       "    <tr>\n",
       "      <th>min</th>\n",
       "      <td>1.075042e+02</td>\n",
       "      <td>0.000000</td>\n",
       "    </tr>\n",
       "    <tr>\n",
       "      <th>25%</th>\n",
       "      <td>2.517275e+05</td>\n",
       "      <td>0.000000</td>\n",
       "    </tr>\n",
       "    <tr>\n",
       "      <th>50%</th>\n",
       "      <td>9.768356e+05</td>\n",
       "      <td>0.000000</td>\n",
       "    </tr>\n",
       "    <tr>\n",
       "      <th>75%</th>\n",
       "      <td>2.151963e+06</td>\n",
       "      <td>0.000000</td>\n",
       "    </tr>\n",
       "    <tr>\n",
       "      <th>max</th>\n",
       "      <td>2.743262e+09</td>\n",
       "      <td>1.000000</td>\n",
       "    </tr>\n",
       "  </tbody>\n",
       "</table>\n",
       "</div>"
      ],
      "text/plain": [
       "       reconstruction_error    true_class\n",
       "count          2.778600e+04  27786.000000\n",
       "mean           3.484177e+07      0.004679\n",
       "std            2.099092e+08      0.068241\n",
       "min            1.075042e+02      0.000000\n",
       "25%            2.517275e+05      0.000000\n",
       "50%            9.768356e+05      0.000000\n",
       "75%            2.151963e+06      0.000000\n",
       "max            2.743262e+09      1.000000"
      ]
     },
     "execution_count": 85,
     "metadata": {},
     "output_type": "execute_result"
    }
   ],
   "source": [
    "predictions = autoencoder.predict(df_Test_copy)\n",
    "\n",
    "mse = np.mean(np.power(df_Test_copy - predictions, 2), axis=1)\n",
    "error_df = pd.DataFrame({'reconstruction_error': mse,\n",
    "                        'true_class': Y_test})\n",
    "error_df.describe()"
   ]
  },
  {
   "cell_type": "markdown",
   "metadata": {},
   "source": [
    "In order to predict whether or not a new/unseen transaction is normal or fraudulent, we’ll calculate the reconstruction error from the transaction data itself.   \n",
    "If the error is larger than a predefined threshold, we’ll mark it as a fraud (since our model should have a low error on normal transactions).   \n",
    "Picking a value as .004 times the mean .( Chosen empirically)"
   ]
  },
  {
   "cell_type": "code",
   "execution_count": 110,
   "metadata": {},
   "outputs": [
    {
     "data": {
      "image/png": "[encoded data removed]",
      "text/plain": [
       "<Figure size 432x432 with 2 Axes>"
      ]
     },
     "metadata": {
      "needs_background": "light"
     },
     "output_type": "display_data"
    }
   ],
   "source": [
    "# predictions\n",
    "threshold = (3.484177e+07)*.004\n",
    "\n",
    "\n",
    "LABELS = [\"Normal\", \"Fraud\"]\n",
    "y_pred = [1 if e > threshold else 0 for e in error_df.reconstruction_error.values]\n",
    "conf_matrix = confusion_matrix(error_df.true_class, y_pred)\n",
    "plt.figure(figsize=(6, 6))\n",
    "sns.heatmap(conf_matrix, xticklabels=LABELS, yticklabels=LABELS, annot=True, fmt=\"d\");\n",
    "plt.title(\"Confusion matrix\")\n",
    "plt.ylabel('True class')\n",
    "plt.xlabel('Predicted class')\n",
    "plt.show()"
   ]
  },
  {
   "cell_type": "code",
   "execution_count": 111,
   "metadata": {},
   "outputs": [
    {
     "name": "stdout",
     "output_type": "stream",
     "text": [
      "              precision    recall  f1-score   support\n",
      "\n",
      "           0       0.99      0.18      0.31     27656\n",
      "           1       0.00      0.80      0.01       130\n",
      "\n",
      "    accuracy                           0.19     27786\n",
      "   macro avg       0.50      0.49      0.16     27786\n",
      "weighted avg       0.99      0.19      0.31     27786\n",
      "\n"
     ]
    }
   ],
   "source": [
    "print(classification_report(Y_test,y_pred))"
   ]
  },
  {
   "cell_type": "markdown",
   "metadata": {},
   "source": [
    "## Observation \n",
    "### Not effective \n",
    "The model is predicting the fraud with a recall of 80% , but at the same time it is classifying 22576 cases as fraud which were not fraud."
   ]
  },
  {
   "cell_type": "code",
   "execution_count": null,
   "metadata": {},
   "outputs": [],
   "source": []
  },
  {
   "cell_type": "code",
   "execution_count": null,
   "metadata": {},
   "outputs": [],
   "source": []
  },
  {
   "cell_type": "code",
   "execution_count": null,
   "metadata": {},
   "outputs": [],
   "source": []
  }
 ],
 "metadata": {
  "kernelspec": {
   "display_name": "Python 3",
   "language": "python",
   "name": "python3"
  },
  "language_info": {
   "codemirror_mode": {
    "name": "ipython",
    "version": 3
   },
   "file_extension": ".py",
   "mimetype": "text/x-python",
   "name": "python",
   "nbconvert_exporter": "python",
   "pygments_lexer": "ipython3",
   "version": "3.7.7"
  }
 },
 "nbformat": 4,
 "nbformat_minor": 4
}
