{
 "cells": [
  {
   "cell_type": "code",
   "execution_count": 1,
   "metadata": {},
   "outputs": [],
   "source": [
    "import pandas as pd\n",
    "import matplotlib.pyplot as plt"
   ]
  },
  {
   "cell_type": "markdown",
   "metadata": {},
   "source": [
    "Link to the data set is the kaggle link as follows:\n",
    "\n",
    "\n",
    "https://www.kaggle.com/kartik2112/fraud-detection"
   ]
  },
  {
   "cell_type": "code",
   "execution_count": 2,
   "metadata": {},
   "outputs": [],
   "source": [
    "df_train = pd.read_csv(\"fraudTrain.csv\")\n",
    "df_test = pd.read_csv(\"fraudTest.csv\")"
   ]
  },
  {
   "cell_type": "code",
   "execution_count": 203,
   "metadata": {},
   "outputs": [
    {
     "name": "stdout",
     "output_type": "stream",
     "text": [
      "(1296675, 23) (555719, 23)\n"
     ]
    }
   ],
   "source": [
    "print(df_train.shape,df_test.shape)"
   ]
  },
  {
   "cell_type": "markdown",
   "metadata": {},
   "source": [
    "## EDA"
   ]
  },
  {
   "cell_type": "code",
   "execution_count": 3,
   "metadata": {},
   "outputs": [
    {
     "data": {
      "text/html": [
       "<div>\n",
       "<style scoped>\n",
       "    .dataframe tbody tr th:only-of-type {\n",
       "        vertical-align: middle;\n",
       "    }\n",
       "\n",
       "    .dataframe tbody tr th {\n",
       "        vertical-align: top;\n",
       "    }\n",
       "\n",
       "    .dataframe thead th {\n",
       "        text-align: right;\n",
       "    }\n",
       "</style>\n",
       "<table border=\"1\" class=\"dataframe\">\n",
       "  <thead>\n",
       "    <tr style=\"text-align: right;\">\n",
       "      <th></th>\n",
       "      <th>Unnamed: 0</th>\n",
       "      <th>trans_date_trans_time</th>\n",
       "      <th>cc_num</th>\n",
       "      <th>merchant</th>\n",
       "      <th>category</th>\n",
       "      <th>amt</th>\n",
       "      <th>first</th>\n",
       "      <th>last</th>\n",
       "      <th>gender</th>\n",
       "      <th>street</th>\n",
       "      <th>...</th>\n",
       "      <th>lat</th>\n",
       "      <th>long</th>\n",
       "      <th>city_pop</th>\n",
       "      <th>job</th>\n",
       "      <th>dob</th>\n",
       "      <th>trans_num</th>\n",
       "      <th>unix_time</th>\n",
       "      <th>merch_lat</th>\n",
       "      <th>merch_long</th>\n",
       "      <th>is_fraud</th>\n",
       "    </tr>\n",
       "  </thead>\n",
       "  <tbody>\n",
       "    <tr>\n",
       "      <th>0</th>\n",
       "      <td>0</td>\n",
       "      <td>2019-01-01 00:00:18</td>\n",
       "      <td>2703186189652095</td>\n",
       "      <td>fraud_Rippin, Kub and Mann</td>\n",
       "      <td>misc_net</td>\n",
       "      <td>4.97</td>\n",
       "      <td>Jennifer</td>\n",
       "      <td>Banks</td>\n",
       "      <td>F</td>\n",
       "      <td>561 Perry Cove</td>\n",
       "      <td>...</td>\n",
       "      <td>36.0788</td>\n",
       "      <td>-81.1781</td>\n",
       "      <td>3495</td>\n",
       "      <td>Psychologist, counselling</td>\n",
       "      <td>1988-03-09</td>\n",
       "      <td>0b242abb623afc578575680df30655b9</td>\n",
       "      <td>1325376018</td>\n",
       "      <td>36.011293</td>\n",
       "      <td>-82.048315</td>\n",
       "      <td>0</td>\n",
       "    </tr>\n",
       "    <tr>\n",
       "      <th>1</th>\n",
       "      <td>1</td>\n",
       "      <td>2019-01-01 00:00:44</td>\n",
       "      <td>630423337322</td>\n",
       "      <td>fraud_Heller, Gutmann and Zieme</td>\n",
       "      <td>grocery_pos</td>\n",
       "      <td>107.23</td>\n",
       "      <td>Stephanie</td>\n",
       "      <td>Gill</td>\n",
       "      <td>F</td>\n",
       "      <td>43039 Riley Greens Suite 393</td>\n",
       "      <td>...</td>\n",
       "      <td>48.8878</td>\n",
       "      <td>-118.2105</td>\n",
       "      <td>149</td>\n",
       "      <td>Special educational needs teacher</td>\n",
       "      <td>1978-06-21</td>\n",
       "      <td>1f76529f8574734946361c461b024d99</td>\n",
       "      <td>1325376044</td>\n",
       "      <td>49.159047</td>\n",
       "      <td>-118.186462</td>\n",
       "      <td>0</td>\n",
       "    </tr>\n",
       "    <tr>\n",
       "      <th>2</th>\n",
       "      <td>2</td>\n",
       "      <td>2019-01-01 00:00:51</td>\n",
       "      <td>38859492057661</td>\n",
       "      <td>fraud_Lind-Buckridge</td>\n",
       "      <td>entertainment</td>\n",
       "      <td>220.11</td>\n",
       "      <td>Edward</td>\n",
       "      <td>Sanchez</td>\n",
       "      <td>M</td>\n",
       "      <td>594 White Dale Suite 530</td>\n",
       "      <td>...</td>\n",
       "      <td>42.1808</td>\n",
       "      <td>-112.2620</td>\n",
       "      <td>4154</td>\n",
       "      <td>Nature conservation officer</td>\n",
       "      <td>1962-01-19</td>\n",
       "      <td>a1a22d70485983eac12b5b88dad1cf95</td>\n",
       "      <td>1325376051</td>\n",
       "      <td>43.150704</td>\n",
       "      <td>-112.154481</td>\n",
       "      <td>0</td>\n",
       "    </tr>\n",
       "    <tr>\n",
       "      <th>3</th>\n",
       "      <td>3</td>\n",
       "      <td>2019-01-01 00:01:16</td>\n",
       "      <td>3534093764340240</td>\n",
       "      <td>fraud_Kutch, Hermiston and Farrell</td>\n",
       "      <td>gas_transport</td>\n",
       "      <td>45.00</td>\n",
       "      <td>Jeremy</td>\n",
       "      <td>White</td>\n",
       "      <td>M</td>\n",
       "      <td>9443 Cynthia Court Apt. 038</td>\n",
       "      <td>...</td>\n",
       "      <td>46.2306</td>\n",
       "      <td>-112.1138</td>\n",
       "      <td>1939</td>\n",
       "      <td>Patent attorney</td>\n",
       "      <td>1967-01-12</td>\n",
       "      <td>6b849c168bdad6f867558c3793159a81</td>\n",
       "      <td>1325376076</td>\n",
       "      <td>47.034331</td>\n",
       "      <td>-112.561071</td>\n",
       "      <td>0</td>\n",
       "    </tr>\n",
       "    <tr>\n",
       "      <th>4</th>\n",
       "      <td>4</td>\n",
       "      <td>2019-01-01 00:03:06</td>\n",
       "      <td>375534208663984</td>\n",
       "      <td>fraud_Keeling-Crist</td>\n",
       "      <td>misc_pos</td>\n",
       "      <td>41.96</td>\n",
       "      <td>Tyler</td>\n",
       "      <td>Garcia</td>\n",
       "      <td>M</td>\n",
       "      <td>408 Bradley Rest</td>\n",
       "      <td>...</td>\n",
       "      <td>38.4207</td>\n",
       "      <td>-79.4629</td>\n",
       "      <td>99</td>\n",
       "      <td>Dance movement psychotherapist</td>\n",
       "      <td>1986-03-28</td>\n",
       "      <td>a41d7549acf90789359a9aa5346dcb46</td>\n",
       "      <td>1325376186</td>\n",
       "      <td>38.674999</td>\n",
       "      <td>-78.632459</td>\n",
       "      <td>0</td>\n",
       "    </tr>\n",
       "  </tbody>\n",
       "</table>\n",
       "<p>5 rows × 23 columns</p>\n",
       "</div>"
      ],
      "text/plain": [
       "   Unnamed: 0 trans_date_trans_time            cc_num  \\\n",
       "0           0   2019-01-01 00:00:18  2703186189652095   \n",
       "1           1   2019-01-01 00:00:44      630423337322   \n",
       "2           2   2019-01-01 00:00:51    38859492057661   \n",
       "3           3   2019-01-01 00:01:16  3534093764340240   \n",
       "4           4   2019-01-01 00:03:06   375534208663984   \n",
       "\n",
       "                             merchant       category     amt      first  \\\n",
       "0          fraud_Rippin, Kub and Mann       misc_net    4.97   Jennifer   \n",
       "1     fraud_Heller, Gutmann and Zieme    grocery_pos  107.23  Stephanie   \n",
       "2                fraud_Lind-Buckridge  entertainment  220.11     Edward   \n",
       "3  fraud_Kutch, Hermiston and Farrell  gas_transport   45.00     Jeremy   \n",
       "4                 fraud_Keeling-Crist       misc_pos   41.96      Tyler   \n",
       "\n",
       "      last gender                        street  ...      lat      long  \\\n",
       "0    Banks      F                561 Perry Cove  ...  36.0788  -81.1781   \n",
       "1     Gill      F  43039 Riley Greens Suite 393  ...  48.8878 -118.2105   \n",
       "2  Sanchez      M      594 White Dale Suite 530  ...  42.1808 -112.2620   \n",
       "3    White      M   9443 Cynthia Court Apt. 038  ...  46.2306 -112.1138   \n",
       "4   Garcia      M              408 Bradley Rest  ...  38.4207  -79.4629   \n",
       "\n",
       "   city_pop                                job         dob  \\\n",
       "0      3495          Psychologist, counselling  1988-03-09   \n",
       "1       149  Special educational needs teacher  1978-06-21   \n",
       "2      4154        Nature conservation officer  1962-01-19   \n",
       "3      1939                    Patent attorney  1967-01-12   \n",
       "4        99     Dance movement psychotherapist  1986-03-28   \n",
       "\n",
       "                          trans_num   unix_time  merch_lat  merch_long  \\\n",
       "0  0b242abb623afc578575680df30655b9  1325376018  36.011293  -82.048315   \n",
       "1  1f76529f8574734946361c461b024d99  1325376044  49.159047 -118.186462   \n",
       "2  a1a22d70485983eac12b5b88dad1cf95  1325376051  43.150704 -112.154481   \n",
       "3  6b849c168bdad6f867558c3793159a81  1325376076  47.034331 -112.561071   \n",
       "4  a41d7549acf90789359a9aa5346dcb46  1325376186  38.674999  -78.632459   \n",
       "\n",
       "   is_fraud  \n",
       "0         0  \n",
       "1         0  \n",
       "2         0  \n",
       "3         0  \n",
       "4         0  \n",
       "\n",
       "[5 rows x 23 columns]"
      ]
     },
     "execution_count": 3,
     "metadata": {},
     "output_type": "execute_result"
    }
   ],
   "source": [
    "df_train.head()"
   ]
  },
  {
   "cell_type": "code",
   "execution_count": 4,
   "metadata": {},
   "outputs": [
    {
     "data": {
      "text/plain": [
       "Unnamed: 0               0\n",
       "trans_date_trans_time    0\n",
       "cc_num                   0\n",
       "merchant                 0\n",
       "category                 0\n",
       "amt                      0\n",
       "first                    0\n",
       "last                     0\n",
       "gender                   0\n",
       "street                   0\n",
       "city                     0\n",
       "state                    0\n",
       "zip                      0\n",
       "lat                      0\n",
       "long                     0\n",
       "city_pop                 0\n",
       "job                      0\n",
       "dob                      0\n",
       "trans_num                0\n",
       "unix_time                0\n",
       "merch_lat                0\n",
       "merch_long               0\n",
       "is_fraud                 0\n",
       "dtype: int64"
      ]
     },
     "execution_count": 4,
     "metadata": {},
     "output_type": "execute_result"
    }
   ],
   "source": [
    "df_train.isnull().sum()"
   ]
  },
  {
   "cell_type": "markdown",
   "metadata": {},
   "source": [
    "We see that no null values are present."
   ]
  },
  {
   "cell_type": "code",
   "execution_count": 5,
   "metadata": {},
   "outputs": [
    {
     "data": {
      "text/plain": [
       "Unnamed: 0                 int64\n",
       "trans_date_trans_time     object\n",
       "cc_num                     int64\n",
       "merchant                  object\n",
       "category                  object\n",
       "amt                      float64\n",
       "first                     object\n",
       "last                      object\n",
       "gender                    object\n",
       "street                    object\n",
       "city                      object\n",
       "state                     object\n",
       "zip                        int64\n",
       "lat                      float64\n",
       "long                     float64\n",
       "city_pop                   int64\n",
       "job                       object\n",
       "dob                       object\n",
       "trans_num                 object\n",
       "unix_time                  int64\n",
       "merch_lat                float64\n",
       "merch_long               float64\n",
       "is_fraud                   int64\n",
       "dtype: object"
      ]
     },
     "execution_count": 5,
     "metadata": {},
     "output_type": "execute_result"
    }
   ],
   "source": [
    "df_train.dtypes"
   ]
  },
  {
   "cell_type": "code",
   "execution_count": 26,
   "metadata": {},
   "outputs": [
    {
     "data": {
      "text/html": [
       "<div>\n",
       "<style scoped>\n",
       "    .dataframe tbody tr th:only-of-type {\n",
       "        vertical-align: middle;\n",
       "    }\n",
       "\n",
       "    .dataframe tbody tr th {\n",
       "        vertical-align: top;\n",
       "    }\n",
       "\n",
       "    .dataframe thead th {\n",
       "        text-align: right;\n",
       "    }\n",
       "</style>\n",
       "<table border=\"1\" class=\"dataframe\">\n",
       "  <thead>\n",
       "    <tr style=\"text-align: right;\">\n",
       "      <th></th>\n",
       "      <th>Unnamed: 0</th>\n",
       "      <th>cc_num</th>\n",
       "      <th>amt</th>\n",
       "      <th>zip</th>\n",
       "      <th>lat</th>\n",
       "      <th>long</th>\n",
       "      <th>city_pop</th>\n",
       "      <th>unix_time</th>\n",
       "      <th>merch_lat</th>\n",
       "      <th>merch_long</th>\n",
       "      <th>is_fraud</th>\n",
       "    </tr>\n",
       "  </thead>\n",
       "  <tbody>\n",
       "    <tr>\n",
       "      <th>Unnamed: 0</th>\n",
       "      <td>1.000000</td>\n",
       "      <td>0.000386</td>\n",
       "      <td>-0.000251</td>\n",
       "      <td>0.000709</td>\n",
       "      <td>0.000602</td>\n",
       "      <td>-0.000676</td>\n",
       "      <td>-0.001678</td>\n",
       "      <td>0.998971</td>\n",
       "      <td>0.000541</td>\n",
       "      <td>-0.000671</td>\n",
       "      <td>-0.004767</td>\n",
       "    </tr>\n",
       "    <tr>\n",
       "      <th>cc_num</th>\n",
       "      <td>0.000386</td>\n",
       "      <td>1.000000</td>\n",
       "      <td>0.001769</td>\n",
       "      <td>0.041459</td>\n",
       "      <td>-0.059271</td>\n",
       "      <td>-0.048278</td>\n",
       "      <td>-0.008991</td>\n",
       "      <td>0.000354</td>\n",
       "      <td>-0.058942</td>\n",
       "      <td>-0.048252</td>\n",
       "      <td>-0.000981</td>\n",
       "    </tr>\n",
       "    <tr>\n",
       "      <th>amt</th>\n",
       "      <td>-0.000251</td>\n",
       "      <td>0.001769</td>\n",
       "      <td>1.000000</td>\n",
       "      <td>0.001843</td>\n",
       "      <td>-0.001926</td>\n",
       "      <td>-0.000187</td>\n",
       "      <td>0.005818</td>\n",
       "      <td>-0.000293</td>\n",
       "      <td>-0.001873</td>\n",
       "      <td>-0.000151</td>\n",
       "      <td>0.219404</td>\n",
       "    </tr>\n",
       "    <tr>\n",
       "      <th>zip</th>\n",
       "      <td>0.000709</td>\n",
       "      <td>0.041459</td>\n",
       "      <td>0.001843</td>\n",
       "      <td>1.000000</td>\n",
       "      <td>-0.114290</td>\n",
       "      <td>-0.909732</td>\n",
       "      <td>0.078467</td>\n",
       "      <td>0.000670</td>\n",
       "      <td>-0.113561</td>\n",
       "      <td>-0.908924</td>\n",
       "      <td>-0.002162</td>\n",
       "    </tr>\n",
       "    <tr>\n",
       "      <th>lat</th>\n",
       "      <td>0.000602</td>\n",
       "      <td>-0.059271</td>\n",
       "      <td>-0.001926</td>\n",
       "      <td>-0.114290</td>\n",
       "      <td>1.000000</td>\n",
       "      <td>-0.015533</td>\n",
       "      <td>-0.155730</td>\n",
       "      <td>0.000632</td>\n",
       "      <td>0.993592</td>\n",
       "      <td>-0.015509</td>\n",
       "      <td>0.001894</td>\n",
       "    </tr>\n",
       "    <tr>\n",
       "      <th>long</th>\n",
       "      <td>-0.000676</td>\n",
       "      <td>-0.048278</td>\n",
       "      <td>-0.000187</td>\n",
       "      <td>-0.909732</td>\n",
       "      <td>-0.015533</td>\n",
       "      <td>1.000000</td>\n",
       "      <td>-0.052715</td>\n",
       "      <td>-0.000642</td>\n",
       "      <td>-0.015452</td>\n",
       "      <td>0.999120</td>\n",
       "      <td>0.001721</td>\n",
       "    </tr>\n",
       "    <tr>\n",
       "      <th>city_pop</th>\n",
       "      <td>-0.001678</td>\n",
       "      <td>-0.008991</td>\n",
       "      <td>0.005818</td>\n",
       "      <td>0.078467</td>\n",
       "      <td>-0.155730</td>\n",
       "      <td>-0.052715</td>\n",
       "      <td>1.000000</td>\n",
       "      <td>-0.001714</td>\n",
       "      <td>-0.154781</td>\n",
       "      <td>-0.052687</td>\n",
       "      <td>0.002136</td>\n",
       "    </tr>\n",
       "    <tr>\n",
       "      <th>unix_time</th>\n",
       "      <td>0.998971</td>\n",
       "      <td>0.000354</td>\n",
       "      <td>-0.000293</td>\n",
       "      <td>0.000670</td>\n",
       "      <td>0.000632</td>\n",
       "      <td>-0.000642</td>\n",
       "      <td>-0.001714</td>\n",
       "      <td>1.000000</td>\n",
       "      <td>0.000561</td>\n",
       "      <td>-0.000635</td>\n",
       "      <td>-0.005078</td>\n",
       "    </tr>\n",
       "    <tr>\n",
       "      <th>merch_lat</th>\n",
       "      <td>0.000541</td>\n",
       "      <td>-0.058942</td>\n",
       "      <td>-0.001873</td>\n",
       "      <td>-0.113561</td>\n",
       "      <td>0.993592</td>\n",
       "      <td>-0.015452</td>\n",
       "      <td>-0.154781</td>\n",
       "      <td>0.000561</td>\n",
       "      <td>1.000000</td>\n",
       "      <td>-0.015431</td>\n",
       "      <td>0.001741</td>\n",
       "    </tr>\n",
       "    <tr>\n",
       "      <th>merch_long</th>\n",
       "      <td>-0.000671</td>\n",
       "      <td>-0.048252</td>\n",
       "      <td>-0.000151</td>\n",
       "      <td>-0.908924</td>\n",
       "      <td>-0.015509</td>\n",
       "      <td>0.999120</td>\n",
       "      <td>-0.052687</td>\n",
       "      <td>-0.000635</td>\n",
       "      <td>-0.015431</td>\n",
       "      <td>1.000000</td>\n",
       "      <td>0.001721</td>\n",
       "    </tr>\n",
       "    <tr>\n",
       "      <th>is_fraud</th>\n",
       "      <td>-0.004767</td>\n",
       "      <td>-0.000981</td>\n",
       "      <td>0.219404</td>\n",
       "      <td>-0.002162</td>\n",
       "      <td>0.001894</td>\n",
       "      <td>0.001721</td>\n",
       "      <td>0.002136</td>\n",
       "      <td>-0.005078</td>\n",
       "      <td>0.001741</td>\n",
       "      <td>0.001721</td>\n",
       "      <td>1.000000</td>\n",
       "    </tr>\n",
       "  </tbody>\n",
       "</table>\n",
       "</div>"
      ],
      "text/plain": [
       "            Unnamed: 0    cc_num       amt       zip       lat      long  \\\n",
       "Unnamed: 0    1.000000  0.000386 -0.000251  0.000709  0.000602 -0.000676   \n",
       "cc_num        0.000386  1.000000  0.001769  0.041459 -0.059271 -0.048278   \n",
       "amt          -0.000251  0.001769  1.000000  0.001843 -0.001926 -0.000187   \n",
       "zip           0.000709  0.041459  0.001843  1.000000 -0.114290 -0.909732   \n",
       "lat           0.000602 -0.059271 -0.001926 -0.114290  1.000000 -0.015533   \n",
       "long         -0.000676 -0.048278 -0.000187 -0.909732 -0.015533  1.000000   \n",
       "city_pop     -0.001678 -0.008991  0.005818  0.078467 -0.155730 -0.052715   \n",
       "unix_time     0.998971  0.000354 -0.000293  0.000670  0.000632 -0.000642   \n",
       "merch_lat     0.000541 -0.058942 -0.001873 -0.113561  0.993592 -0.015452   \n",
       "merch_long   -0.000671 -0.048252 -0.000151 -0.908924 -0.015509  0.999120   \n",
       "is_fraud     -0.004767 -0.000981  0.219404 -0.002162  0.001894  0.001721   \n",
       "\n",
       "            city_pop  unix_time  merch_lat  merch_long  is_fraud  \n",
       "Unnamed: 0 -0.001678   0.998971   0.000541   -0.000671 -0.004767  \n",
       "cc_num     -0.008991   0.000354  -0.058942   -0.048252 -0.000981  \n",
       "amt         0.005818  -0.000293  -0.001873   -0.000151  0.219404  \n",
       "zip         0.078467   0.000670  -0.113561   -0.908924 -0.002162  \n",
       "lat        -0.155730   0.000632   0.993592   -0.015509  0.001894  \n",
       "long       -0.052715  -0.000642  -0.015452    0.999120  0.001721  \n",
       "city_pop    1.000000  -0.001714  -0.154781   -0.052687  0.002136  \n",
       "unix_time  -0.001714   1.000000   0.000561   -0.000635 -0.005078  \n",
       "merch_lat  -0.154781   0.000561   1.000000   -0.015431  0.001741  \n",
       "merch_long -0.052687  -0.000635  -0.015431    1.000000  0.001721  \n",
       "is_fraud    0.002136  -0.005078   0.001741    0.001721  1.000000  "
      ]
     },
     "execution_count": 26,
     "metadata": {},
     "output_type": "execute_result"
    }
   ],
   "source": [
    "df_train.corr()"
   ]
  },
  {
   "cell_type": "code",
   "execution_count": 33,
   "metadata": {},
   "outputs": [
    {
     "data": {
      "image/png": "[encoded data removed]",
      "text/plain": [
       "<Figure size 1440x1440 with 2 Axes>"
      ]
     },
     "metadata": {
      "needs_background": "light"
     },
     "output_type": "display_data"
    }
   ],
   "source": [
    "## Correlation\n",
    "import seaborn as sns\n",
    "#get correlations of each features in dataset\n",
    "\n",
    "corrmat = df_train.corr()\n",
    "top_corr_features = corrmat.index\n",
    "plt.figure(figsize=(20,20))\n",
    "#plot heat map\n",
    "g=sns.heatmap(df_train[top_corr_features].corr(),annot=True,cmap=\"RdYlGn\")"
   ]
  },
  {
   "cell_type": "code",
   "execution_count": 6,
   "metadata": {},
   "outputs": [
    {
     "data": {
      "text/plain": [
       "Text(0, 0.5, 'Frequency')"
      ]
     },
     "execution_count": 6,
     "metadata": {},
     "output_type": "execute_result"
    },
    {
     "data": {
      "image/png": "[encoded data removed]",
      "text/plain": [
       "<Figure size 432x288 with 1 Axes>"
      ]
     },
     "metadata": {
      "needs_background": "light"
     },
     "output_type": "display_data"
    }
   ],
   "source": [
    "count_classes = pd.value_counts(df_train['is_fraud'], sort = True)\n",
    "\n",
    "count_classes.plot(kind = 'bar', rot=0)\n",
    "\n",
    "plt.title(\"Transaction Class Distribution\")\n",
    "LABELS = ['Normal','Fraud']\n",
    "plt.xticks(range(2), LABELS)\n",
    "\n",
    "plt.xlabel(\"Class\")\n",
    "\n",
    "plt.ylabel(\"Frequency\")"
   ]
  },
  {
   "cell_type": "markdown",
   "metadata": {},
   "source": [
    "We see that data is imbalanced "
   ]
  },
  {
   "cell_type": "code",
   "execution_count": 204,
   "metadata": {},
   "outputs": [],
   "source": [
    "\n",
    "## Get the Fraud and the normal dataset \n",
    "\n",
    "fraud = df_train[df_train['is_fraud']==1]\n",
    "\n",
    "normal = df_train[df_train['is_fraud']==0]"
   ]
  },
  {
   "cell_type": "code",
   "execution_count": 205,
   "metadata": {},
   "outputs": [
    {
     "name": "stdout",
     "output_type": "stream",
     "text": [
      "(7506, 23) (1289169, 23)\n"
     ]
    }
   ],
   "source": [
    "print(fraud.shape,normal.shape)"
   ]
  },
  {
   "cell_type": "code",
   "execution_count": 9,
   "metadata": {},
   "outputs": [
    {
     "data": {
      "text/plain": [
       "count    7506.000000\n",
       "mean      531.320092\n",
       "std       390.560070\n",
       "min         1.060000\n",
       "25%       245.662500\n",
       "50%       396.505000\n",
       "75%       900.875000\n",
       "max      1376.040000\n",
       "Name: amt, dtype: float64"
      ]
     },
     "execution_count": 9,
     "metadata": {},
     "output_type": "execute_result"
    }
   ],
   "source": [
    "fraud.amt.describe()"
   ]
  },
  {
   "cell_type": "code",
   "execution_count": 10,
   "metadata": {},
   "outputs": [
    {
     "data": {
      "text/plain": [
       "count    1.289169e+06\n",
       "mean     6.766711e+01\n",
       "std      1.540080e+02\n",
       "min      1.000000e+00\n",
       "25%      9.610000e+00\n",
       "50%      4.728000e+01\n",
       "75%      8.254000e+01\n",
       "max      2.894890e+04\n",
       "Name: amt, dtype: float64"
      ]
     },
     "execution_count": 10,
     "metadata": {},
     "output_type": "execute_result"
    }
   ],
   "source": [
    "normal.amt.describe()"
   ]
  },
  {
   "cell_type": "code",
   "execution_count": 11,
   "metadata": {},
   "outputs": [
    {
     "data": {
      "image/png": "[encoded data removed]",
      "text/plain": [
       "<Figure size 432x288 with 2 Axes>"
      ]
     },
     "metadata": {
      "needs_background": "light"
     },
     "output_type": "display_data"
    }
   ],
   "source": [
    "\n",
    "f, (ax1, ax2) = plt.subplots(2, 1, sharex=True)\n",
    "f.suptitle('Amount per transaction by class')\n",
    "bins = 50\n",
    "ax1.hist(fraud.amt, bins = bins)\n",
    "ax1.set_title('Fraud')\n",
    "ax2.hist(normal.amt, bins = bins)\n",
    "ax2.set_title('Normal')\n",
    "plt.xlabel('Amount ($)')\n",
    "plt.ylabel('Number of Transactions')\n",
    "plt.xlim((0, 20000))\n",
    "plt.yscale('log')\n",
    "plt.show();"
   ]
  },
  {
   "cell_type": "code",
   "execution_count": 12,
   "metadata": {},
   "outputs": [
    {
     "name": "stderr",
     "output_type": "stream",
     "text": [
      "/Users/sapnasharma/miniconda3/lib/python3.7/site-packages/ipykernel_launcher.py:1: SettingWithCopyWarning: \n",
      "A value is trying to be set on a copy of a slice from a DataFrame.\n",
      "Try using .loc[row_indexer,col_indexer] = value instead\n",
      "\n",
      "See the caveats in the documentation: https://pandas.pydata.org/pandas-docs/stable/user_guide/indexing.html#returning-a-view-versus-a-copy\n",
      "  \"\"\"Entry point for launching an IPython kernel.\n",
      "/Users/sapnasharma/miniconda3/lib/python3.7/site-packages/ipykernel_launcher.py:2: SettingWithCopyWarning: \n",
      "A value is trying to be set on a copy of a slice from a DataFrame.\n",
      "Try using .loc[row_indexer,col_indexer] = value instead\n",
      "\n",
      "See the caveats in the documentation: https://pandas.pydata.org/pandas-docs/stable/user_guide/indexing.html#returning-a-view-versus-a-copy\n",
      "  \n"
     ]
    }
   ],
   "source": [
    "fraud['t_time'] = fraud.trans_date_trans_time.str[11:]\n",
    "normal['t_time'] = normal.trans_date_trans_time.str[11:]"
   ]
  },
  {
   "cell_type": "code",
   "execution_count": 13,
   "metadata": {},
   "outputs": [
    {
     "data": {
      "image/png": "[encoded data removed]",
      "text/plain": [
       "<Figure size 432x288 with 2 Axes>"
      ]
     },
     "metadata": {
      "needs_background": "light"
     },
     "output_type": "display_data"
    }
   ],
   "source": [
    "# We Will check is fraudulent transactions occur more often during certain time frame ? Let us find out with a visual representation.\n",
    "\n",
    "f, (ax1, ax2) = plt.subplots(2, 1, sharex=True)\n",
    "f.suptitle('Time of transaction vs Amount by class')\n",
    "ax1.scatter(fraud.t_time, fraud.amt)\n",
    "ax1.set_title('Fraud')\n",
    "ax2.scatter(normal.t_time, normal.amt)\n",
    "ax2.set_title('Normal')\n",
    "plt.xlabel('Time (in Seconds)')\n",
    "plt.ylabel('Amount')\n",
    "plt.show()"
   ]
  },
  {
   "cell_type": "code",
   "execution_count": 16,
   "metadata": {},
   "outputs": [
    {
     "data": {
      "text/plain": [
       "(array([171., 164., 166., 171., 171., 165., 167., 153., 169., 159., 159.,\n",
       "        165., 159., 167., 151., 155., 167., 153., 151., 162., 154., 151.,\n",
       "        157., 153., 146., 151., 142., 143., 147., 146., 145., 145., 143.,\n",
       "        149., 142., 146., 139., 140., 142., 138., 139., 136., 134., 136.,\n",
       "        135., 135., 134., 133., 130., 130.]),\n",
       " array([   0. ,  129.3,  258.6,  387.9,  517.2,  646.5,  775.8,  905.1,\n",
       "        1034.4, 1163.7, 1293. , 1422.3, 1551.6, 1680.9, 1810.2, 1939.5,\n",
       "        2068.8, 2198.1, 2327.4, 2456.7, 2586. , 2715.3, 2844.6, 2973.9,\n",
       "        3103.2, 3232.5, 3361.8, 3491.1, 3620.4, 3749.7, 3879. , 4008.3,\n",
       "        4137.6, 4266.9, 4396.2, 4525.5, 4654.8, 4784.1, 4913.4, 5042.7,\n",
       "        5172. , 5301.3, 5430.6, 5559.9, 5689.2, 5818.5, 5947.8, 6077.1,\n",
       "        6206.4, 6335.7, 6465. ]),\n",
       " <BarContainer object of 50 artists>)"
      ]
     },
     "execution_count": 16,
     "metadata": {},
     "output_type": "execute_result"
    },
    {
     "data": {
      "image/png": "[encoded data removed]",
      "text/plain": [
       "<Figure size 432x288 with 1 Axes>"
      ]
     },
     "metadata": {
      "needs_background": "light"
     },
     "output_type": "display_data"
    }
   ],
   "source": [
    "f, (ax1) = plt.subplots(1, 1, sharex=True)\n",
    "f.suptitle('Amount per transaction by time')\n",
    "bins = 50\n",
    "ax1.hist(fraud.t_time, bins = bins)\n",
    "\n",
    "\n",
    "\n",
    "#fraud.hist(column = 't_time')"
   ]
  },
  {
   "cell_type": "markdown",
   "metadata": {},
   "source": [
    "## 2) Preparing the data for use in different models"
   ]
  },
  {
   "cell_type": "markdown",
   "metadata": {},
   "source": [
    "## Observations and comments\n",
    "### Columns to drop\n",
    "The first column contains just the indices and is not useful so we will drop it.   \n",
    "The third column with customer card number is also not useful , so we will drop it. \n",
    "first name and last name can also be dropped.  \n",
    "Transaction number - is it really needed? can be dropped.\n",
    "\n",
    "\n",
    "### Feature Engineering\n",
    "We can calculate the age from the DOB column.  \n",
    "We can separate the date and time if need be.\n",
    "\n",
    "how do we use the unix_time?\n"
   ]
  },
  {
   "cell_type": "code",
   "execution_count": 44,
   "metadata": {},
   "outputs": [],
   "source": [
    "def dropCol(data):\n",
    "    col_to_drop = ['trans_date_trans_time','Unnamed: 0','cc_num','first','last','trans_num']\n",
    "    res = data.drop(col_to_drop,axis = 1)\n",
    "    return res\n",
    "new = dropCol(df_train)"
   ]
  },
  {
   "cell_type": "code",
   "execution_count": 45,
   "metadata": {},
   "outputs": [
    {
     "name": "stdout",
     "output_type": "stream",
     "text": [
      "<class 'pandas.core.frame.DataFrame'>\n",
      "RangeIndex: 1296675 entries, 0 to 1296674\n",
      "Data columns (total 17 columns):\n",
      " #   Column      Non-Null Count    Dtype  \n",
      "---  ------      --------------    -----  \n",
      " 0   merchant    1296675 non-null  object \n",
      " 1   category    1296675 non-null  object \n",
      " 2   amt         1296675 non-null  float64\n",
      " 3   gender      1296675 non-null  object \n",
      " 4   street      1296675 non-null  object \n",
      " 5   city        1296675 non-null  object \n",
      " 6   state       1296675 non-null  object \n",
      " 7   zip         1296675 non-null  int64  \n",
      " 8   lat         1296675 non-null  float64\n",
      " 9   long        1296675 non-null  float64\n",
      " 10  city_pop    1296675 non-null  int64  \n",
      " 11  job         1296675 non-null  object \n",
      " 12  dob         1296675 non-null  object \n",
      " 13  unix_time   1296675 non-null  int64  \n",
      " 14  merch_lat   1296675 non-null  float64\n",
      " 15  merch_long  1296675 non-null  float64\n",
      " 16  is_fraud    1296675 non-null  int64  \n",
      "dtypes: float64(5), int64(4), object(8)\n",
      "memory usage: 168.2+ MB\n"
     ]
    }
   ],
   "source": [
    "new.info()"
   ]
  },
  {
   "cell_type": "code",
   "execution_count": null,
   "metadata": {},
   "outputs": [],
   "source": []
  },
  {
   "cell_type": "code",
   "execution_count": 206,
   "metadata": {},
   "outputs": [
    {
     "data": {
      "text/plain": [
       "(129668, 23)"
      ]
     },
     "execution_count": 206,
     "metadata": {},
     "output_type": "execute_result"
    }
   ],
   "source": [
    "## Take some sample of the data\n",
    "\n",
    "train_sample= df_train.sample(frac = 0.1,random_state=1)\n",
    "\n",
    "train_sample.shape\n"
   ]
  },
  {
   "cell_type": "code",
   "execution_count": null,
   "metadata": {},
   "outputs": [],
   "source": []
  },
  {
   "cell_type": "code",
   "execution_count": 207,
   "metadata": {},
   "outputs": [
    {
     "name": "stdout",
     "output_type": "stream",
     "text": [
      "Outlier fraction original:0.005822355331224998 \n",
      "Outlier fraction Sample  :0.005466684242767306\n"
     ]
    }
   ],
   "source": [
    "# sampling to run the model faster\n",
    "fraud_sample = train_sample[train_sample['is_fraud']==1]\n",
    "valid_sample = train_sample[train_sample['is_fraud']==0]\n",
    "\n",
    "fraud_org = df_train[df_train['is_fraud']==1]\n",
    "valid_org = df_train[df_train['is_fraud']==0]\n",
    "# sanity check\n",
    "outlier_fraction = len(fraud_org)/float(len(valid_org))\n",
    "outlier_fraction_sample = len(fraud_sample)/float(len(valid_sample))\n",
    "\n",
    "print(\"Outlier fraction original:{} \\nOutlier fraction Sample  :{}\".format(outlier_fraction,outlier_fraction_sample))\n",
    "#print(\"Fraud Cases Sample : {}\".format(len(fraud_sample)))\n",
    "#print(\"Valid Cases Sample : {}\".format(len(valid_sample)))"
   ]
  },
  {
   "cell_type": "markdown",
   "metadata": {},
   "source": [
    "### We will be doing operations on train_sample"
   ]
  },
  {
   "cell_type": "code",
   "execution_count": 208,
   "metadata": {},
   "outputs": [
    {
     "name": "stdout",
     "output_type": "stream",
     "text": [
      "(129668, 17) (705, 17) (128963, 17) (555719, 17)\n"
     ]
    }
   ],
   "source": [
    "# dropping the columns\n",
    "# dropping the columns ['trans_date_trans_time','Unnamed: 0','cc_num','first','last','trans_num']\n",
    "# complete data set\n",
    "train_sample = dropCol(train_sample)\n",
    "# fraud\n",
    "fraud_sample = dropCol(fraud_sample)\n",
    "#valid\n",
    "valid_sample = dropCol(valid_sample)\n",
    "# for test data\n",
    "X_test = dropCol(df_test)\n",
    "print ( train_sample.shape, fraud_sample.shape, valid_sample.shape,X_test.shape)"
   ]
  },
  {
   "cell_type": "code",
   "execution_count": 166,
   "metadata": {},
   "outputs": [],
   "source": []
  },
  {
   "cell_type": "code",
   "execution_count": 224,
   "metadata": {},
   "outputs": [
    {
     "name": "stdout",
     "output_type": "stream",
     "text": [
      "(129668, 16) (129668,) (555719, 16) (555719,)\n"
     ]
    }
   ],
   "source": [
    "\n",
    "#Create independent and Dependent Features\n",
    "columns = train_sample.columns.tolist()\n",
    "# removing the dependent feature is_fraud\n",
    "\n",
    "columns = [c for c in columns if c not in [\"is_fraud\"]]\n",
    "\n",
    "\n",
    "X_train = train_sample[columns]\n",
    "\n",
    "Y_train = train_sample['is_fraud']\n",
    "\n",
    "X_test = df_test[columns]\n",
    "Y_test = df_test['is_fraud']\n",
    "print ( X_train.shape, Y_train.shape,X_test.shape, Y_test.shape)"
   ]
  },
  {
   "cell_type": "code",
   "execution_count": 1,
   "metadata": {},
   "outputs": [],
   "source": [
    "from sklearn.metrics import classification_report,accuracy_score\n",
    "from sklearn.ensemble import IsolationForest\n",
    "from sklearn.neighbors import LocalOutlierFactor\n",
    "from sklearn.svm import OneClassSVM\n",
    "from pylab import rcParams\n",
    "rcParams['figure.figsize'] = 14, 8\n",
    "RANDOM_SEED = 42\n",
    "LABELS = [\"Normal\", \"Fraud\"]"
   ]
  },
  {
   "cell_type": "markdown",
   "metadata": {},
   "source": [
    "### Converting dob to age"
   ]
  },
  {
   "cell_type": "code",
   "execution_count": 225,
   "metadata": {
    "scrolled": true
   },
   "outputs": [
    {
     "name": "stdout",
     "output_type": "stream",
     "text": [
      "(129668, 16) (555719, 16)\n"
     ]
    },
    {
     "name": "stderr",
     "output_type": "stream",
     "text": [
      "/Users/sapnasharma/miniconda3/lib/python3.7/site-packages/ipykernel_launcher.py:10: SettingWithCopyWarning: \n",
      "A value is trying to be set on a copy of a slice from a DataFrame.\n",
      "Try using .loc[row_indexer,col_indexer] = value instead\n",
      "\n",
      "See the caveats in the documentation: https://pandas.pydata.org/pandas-docs/stable/user_guide/indexing.html#returning-a-view-versus-a-copy\n",
      "  # Remove the CWD from sys.path while we load stuff.\n"
     ]
    }
   ],
   "source": [
    "import numpy as np\n",
    "import datetime\n",
    "from datetime import date\n",
    "def age_years(born):\n",
    "    return 2019 - int(born[0:4])\n",
    "\n",
    "X_train['age'] = X_train['dob'].apply(lambda x: age_years(x))\n",
    "X_train = X_train.drop(['dob'],axis =1)\n",
    "\n",
    "X_test['age'] = X_test['dob'].apply(lambda x: age_years(x))\n",
    "X_test = X_test.drop(['dob'],axis =1)\n",
    "print(X_train.shape,X_test.shape)\n"
   ]
  },
  {
   "cell_type": "code",
   "execution_count": 227,
   "metadata": {},
   "outputs": [
    {
     "data": {
      "text/plain": [
       "(685387, 16)"
      ]
     },
     "execution_count": 227,
     "metadata": {},
     "output_type": "execute_result"
    }
   ],
   "source": [
    "# concanating the test and train data so that number of columns remain the same in both the data sets\n",
    "final_df=pd.concat([X_train,X_test],axis=0)\n",
    "final_df.shape\n"
   ]
  },
  {
   "cell_type": "code",
   "execution_count": null,
   "metadata": {},
   "outputs": [],
   "source": []
  },
  {
   "cell_type": "code",
   "execution_count": 228,
   "metadata": {},
   "outputs": [
    {
     "data": {
      "text/plain": [
       "['merchant', 'category', 'gender', 'street', 'city', 'state', 'job']"
      ]
     },
     "execution_count": 228,
     "metadata": {},
     "output_type": "execute_result"
    }
   ],
   "source": [
    "categorical_features =[feature for feature in X_train.columns if X[feature].dtypes == 'O']\n",
    "categorical_features"
   ]
  },
  {
   "cell_type": "code",
   "execution_count": 229,
   "metadata": {},
   "outputs": [
    {
     "name": "stdout",
     "output_type": "stream",
     "text": [
      "Distinct categories for merchant  are 693\n",
      "Distinct categories for category  are 14\n",
      "Distinct categories for gender  are 2\n",
      "Distinct categories for street  are 951\n",
      "Distinct categories for city  are 867\n",
      "Distinct categories for state  are 51\n",
      "Distinct categories for job  are 486\n"
     ]
    }
   ],
   "source": [
    "for feature in categorical_features:\n",
    "    print(\"Distinct categories for {}  are {}\".format(feature,len(X[feature].unique())))"
   ]
  },
  {
   "cell_type": "code",
   "execution_count": 230,
   "metadata": {},
   "outputs": [],
   "source": [
    "# function to convert categorical variables to one hot encoding\n",
    "def category_onehot_multcols(multcolumns):\n",
    "    df_final=final_df\n",
    "    i=0\n",
    "    for fields in multcolumns:\n",
    "        \n",
    "        print(fields)\n",
    "        df1=pd.get_dummies(final_df[fields],drop_first=True)\n",
    "        \n",
    "        final_df.drop([fields],axis=1,inplace=True)\n",
    "        if i==0:\n",
    "            df_final=df1.copy()\n",
    "        else:\n",
    "            \n",
    "            df_final=pd.concat([df_final,df1],axis=1)\n",
    "        i=i+1\n",
    "       \n",
    "        \n",
    "    df_final=pd.concat([final_df,df_final],axis=1)\n",
    "        \n",
    "    return df_final"
   ]
  },
  {
   "cell_type": "code",
   "execution_count": 231,
   "metadata": {},
   "outputs": [
    {
     "name": "stdout",
     "output_type": "stream",
     "text": [
      "merchant\n",
      "category\n",
      "gender\n",
      "street\n",
      "city\n",
      "state\n",
      "job\n"
     ]
    }
   ],
   "source": [
    "\n",
    "final_df=category_onehot_multcols(categorical_features)\n"
   ]
  },
  {
   "cell_type": "code",
   "execution_count": 232,
   "metadata": {},
   "outputs": [],
   "source": [
    "\n",
    "# removing duplicated columns\n",
    "final_df =final_df.loc[:,~final_df.columns.duplicated()]"
   ]
  },
  {
   "cell_type": "code",
   "execution_count": 233,
   "metadata": {},
   "outputs": [
    {
     "data": {
      "text/plain": [
       "(685387, 3097)"
      ]
     },
     "execution_count": 233,
     "metadata": {},
     "output_type": "execute_result"
    }
   ],
   "source": [
    "final_df.shape\n"
   ]
  },
  {
   "cell_type": "code",
   "execution_count": 234,
   "metadata": {},
   "outputs": [],
   "source": [
    "# separating the test and training data\n",
    "df_Train=final_df.iloc[:129668,:]\n",
    "df_Test=final_df.iloc[129668:,:]"
   ]
  },
  {
   "cell_type": "code",
   "execution_count": 235,
   "metadata": {},
   "outputs": [
    {
     "name": "stdout",
     "output_type": "stream",
     "text": [
      "(129668, 3097) (555719, 3097)\n"
     ]
    }
   ],
   "source": [
    "print(df_Train.shape,df_Test.shape)"
   ]
  },
  {
   "cell_type": "code",
   "execution_count": null,
   "metadata": {},
   "outputs": [],
   "source": []
  },
  {
   "cell_type": "code",
   "execution_count": 155,
   "metadata": {},
   "outputs": [],
   "source": [
    "\n",
    "from sklearn.linear_model import LogisticRegression"
   ]
  },
  {
   "cell_type": "code",
   "execution_count": 237,
   "metadata": {},
   "outputs": [
    {
     "data": {
      "text/plain": [
       "LogisticRegression()"
      ]
     },
     "execution_count": 237,
     "metadata": {},
     "output_type": "execute_result"
    }
   ],
   "source": [
    "model_LR = LogisticRegression()\n",
    "model_LR.fit(df_Train,Y_train)"
   ]
  },
  {
   "cell_type": "code",
   "execution_count": 238,
   "metadata": {},
   "outputs": [],
   "source": [
    "y_predict = model_LR.predict(df_Test)"
   ]
  },
  {
   "cell_type": "code",
   "execution_count": 268,
   "metadata": {},
   "outputs": [
    {
     "data": {
      "text/plain": [
       "<sklearn.metrics._plot.confusion_matrix.ConfusionMatrixDisplay at 0x7fc246ea7d90>"
      ]
     },
     "execution_count": 268,
     "metadata": {},
     "output_type": "execute_result"
    },
    {
     "data": {
      "image/png": "[encoded data removed]",
      "text/plain": [
       "<Figure size 1008x576 with 2 Axes>"
      ]
     },
     "metadata": {
      "needs_background": "light"
     },
     "output_type": "display_data"
    }
   ],
   "source": [
    "from sklearn.metrics import plot_confusion_matrix\n",
    "plot_confusion_matrix(model_LR,df_Test, Y_test)"
   ]
  },
  {
   "cell_type": "code",
   "execution_count": 265,
   "metadata": {},
   "outputs": [
    {
     "name": "stdout",
     "output_type": "stream",
     "text": [
      "0 2145\n"
     ]
    }
   ],
   "source": [
    "print(y_predict.sum(),Y_test.sum())"
   ]
  },
  {
   "cell_type": "markdown",
   "metadata": {},
   "source": [
    "## Observation \n",
    "We see that the model has not predicted any fraud cases, while there were 2145 fraud cases.\n",
    "Clearly shows how poorly the Logistic regression model performed as we have not handled the imabalance in the dataset\n",
    "We proceed to handle the imbalance in data set."
   ]
  },
  {
   "cell_type": "code",
   "execution_count": null,
   "metadata": {},
   "outputs": [],
   "source": []
  }
 ],
 "metadata": {
  "kernelspec": {
   "display_name": "Python 3",
   "language": "python",
   "name": "python3"
  },
  "language_info": {
   "codemirror_mode": {
    "name": "ipython",
    "version": 3
   },
   "file_extension": ".py",
   "mimetype": "text/x-python",
   "name": "python",
   "nbconvert_exporter": "python",
   "pygments_lexer": "ipython3",
   "version": "3.7.7"
  }
 },
 "nbformat": 4,
 "nbformat_minor": 4
}
