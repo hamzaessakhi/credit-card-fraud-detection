{
 "cells": [
  {
   "cell_type": "code",
   "execution_count": null,
   "metadata": {},
   "outputs": [],
   "source": [
    "# importing the packages\n",
    "import datetime\n",
    "import warnings\n",
    "import numpy as np\n",
    "import pandas as pd\n",
    "import seaborn as sns\n",
    "from datetime import date\n",
    "import sklearn.exceptions\n",
    "from pylab import rcParams\n",
    "import matplotlib.pyplot as plt\n",
    "from sklearn.svm import OneClassSVM\n",
    "from imblearn.over_sampling import SMOTE\n",
    "from sklearn.ensemble import IsolationForest\n",
    "from imblearn.under_sampling import NearMiss \n",
    "from sklearn.metrics import confusion_matrix\n",
    "from sklearn.tree import DecisionTreeClassifier\n",
    "from sklearn.neighbors import LocalOutlierFactor\n",
    "from sklearn.metrics import plot_confusion_matrix\n",
    "from sklearn.linear_model import LogisticRegression\n",
    "from sklearn.metrics import precision_recall_fscore_support\n",
    "from sklearn.metrics import classification_report,accuracy_score\n",
    "warnings.filterwarnings(\"ignore\", category=sklearn.exceptions.UndefinedMetricWarning)\n",
    "\n",
    "from sklearn import linear_model"
   ]
  },
  {
   "cell_type": "markdown",
   "metadata": {},
   "source": [
    "## 1. Loading the data"
   ]
  },
  {
   "cell_type": "markdown",
   "metadata": {},
   "source": [
    "### Acknowledgements\n",
    "Link to the data set is the kaggle link as follows:\n",
    "\n",
    "https://www.kaggle.com/kartik2112/fraud-detection"
   ]
  },
  {
   "cell_type": "code",
   "execution_count": 2,
   "metadata": {},
   "outputs": [],
   "source": [
    "# loading data\n",
    "data_train = pd.read_csv(\"fraudTrain.csv\")\n",
    "data_test = pd.read_csv(\"fraudTest.csv\")"
   ]
  },
  {
   "cell_type": "markdown",
   "metadata": {},
   "source": [
    "## 2. Exploratory Data Analysis"
   ]
  },
  {
   "cell_type": "markdown",
   "metadata": {},
   "source": [
    "#### 2.1 Data information"
   ]
  },
  {
   "cell_type": "code",
   "execution_count": 3,
   "metadata": {},
   "outputs": [
    {
     "name": "stdout",
     "output_type": "stream",
     "text": [
      "<class 'pandas.core.frame.DataFrame'>\n",
      "RangeIndex: 1296675 entries, 0 to 1296674\n",
      "Data columns (total 23 columns):\n",
      " #   Column                 Non-Null Count    Dtype  \n",
      "---  ------                 --------------    -----  \n",
      " 0   Unnamed: 0             1296675 non-null  int64  \n",
      " 1   trans_date_trans_time  1296675 non-null  object \n",
      " 2   cc_num                 1296675 non-null  int64  \n",
      " 3   merchant               1296675 non-null  object \n",
      " 4   category               1296675 non-null  object \n",
      " 5   amt                    1296675 non-null  float64\n",
      " 6   first                  1296675 non-null  object \n",
      " 7   last                   1296675 non-null  object \n",
      " 8   gender                 1296675 non-null  object \n",
      " 9   street                 1296675 non-null  object \n",
      " 10  city                   1296675 non-null  object \n",
      " 11  state                  1296675 non-null  object \n",
      " 12  zip                    1296675 non-null  int64  \n",
      " 13  lat                    1296675 non-null  float64\n",
      " 14  long                   1296675 non-null  float64\n",
      " 15  city_pop               1296675 non-null  int64  \n",
      " 16  job                    1296675 non-null  object \n",
      " 17  dob                    1296675 non-null  object \n",
      " 18  trans_num              1296675 non-null  object \n",
      " 19  unix_time              1296675 non-null  int64  \n",
      " 20  merch_lat              1296675 non-null  float64\n",
      " 21  merch_long             1296675 non-null  float64\n",
      " 22  is_fraud               1296675 non-null  int64  \n",
      "dtypes: float64(5), int64(6), object(12)\n",
      "memory usage: 227.5+ MB\n"
     ]
    }
   ],
   "source": [
    "data_train.info()"
   ]
  },
  {
   "cell_type": "markdown",
   "metadata": {},
   "source": [
    "We see that there are 22 features    \n",
    "\"is_fraud\" is the dependent variable "
   ]
  },
  {
   "cell_type": "markdown",
   "metadata": {},
   "source": [
    "#### 2.2 Shape of Data\n"
   ]
  },
  {
   "cell_type": "code",
   "execution_count": 4,
   "metadata": {},
   "outputs": [
    {
     "name": "stdout",
     "output_type": "stream",
     "text": [
      "(1296675, 23) (555719, 23)\n"
     ]
    }
   ],
   "source": [
    "print(data_train.shape,data_test.shape)"
   ]
  },
  {
   "cell_type": "markdown",
   "metadata": {},
   "source": [
    "#### 2.3 Taking a fraction to run the model faster\n"
   ]
  },
  {
   "cell_type": "code",
   "execution_count": 5,
   "metadata": {},
   "outputs": [
    {
     "name": "stdout",
     "output_type": "stream",
     "text": [
      "(129668, 23) (27786, 23)\n"
     ]
    }
   ],
   "source": [
    "# taking smaller sample to run the model faster\n",
    "\n",
    "df_train= data_train.sample(frac = 0.1,random_state=1)\n",
    "df_test= data_test.sample(frac = 0.05,random_state=1)\n",
    "print(df_train.shape,df_test.shape)"
   ]
  },
  {
   "cell_type": "code",
   "execution_count": 6,
   "metadata": {},
   "outputs": [
    {
     "data": {
      "text/html": [
       "<div>\n",
       "<style scoped>\n",
       "    .dataframe tbody tr th:only-of-type {\n",
       "        vertical-align: middle;\n",
       "    }\n",
       "\n",
       "    .dataframe tbody tr th {\n",
       "        vertical-align: top;\n",
       "    }\n",
       "\n",
       "    .dataframe thead th {\n",
       "        text-align: right;\n",
       "    }\n",
       "</style>\n",
       "<table border=\"1\" class=\"dataframe\">\n",
       "  <thead>\n",
       "    <tr style=\"text-align: right;\">\n",
       "      <th></th>\n",
       "      <th>Unnamed: 0</th>\n",
       "      <th>trans_date_trans_time</th>\n",
       "      <th>cc_num</th>\n",
       "      <th>merchant</th>\n",
       "      <th>category</th>\n",
       "      <th>amt</th>\n",
       "      <th>first</th>\n",
       "      <th>last</th>\n",
       "      <th>gender</th>\n",
       "      <th>street</th>\n",
       "      <th>...</th>\n",
       "      <th>lat</th>\n",
       "      <th>long</th>\n",
       "      <th>city_pop</th>\n",
       "      <th>job</th>\n",
       "      <th>dob</th>\n",
       "      <th>trans_num</th>\n",
       "      <th>unix_time</th>\n",
       "      <th>merch_lat</th>\n",
       "      <th>merch_long</th>\n",
       "      <th>is_fraud</th>\n",
       "    </tr>\n",
       "  </thead>\n",
       "  <tbody>\n",
       "    <tr>\n",
       "      <th>94102</th>\n",
       "      <td>94102</td>\n",
       "      <td>2019-02-25 08:24:40</td>\n",
       "      <td>374497717543058</td>\n",
       "      <td>fraud_Funk Group</td>\n",
       "      <td>grocery_net</td>\n",
       "      <td>20.00</td>\n",
       "      <td>Linda</td>\n",
       "      <td>Hurst</td>\n",
       "      <td>F</td>\n",
       "      <td>31701 Tucker Square Suite 893</td>\n",
       "      <td>...</td>\n",
       "      <td>47.1709</td>\n",
       "      <td>-100.7944</td>\n",
       "      <td>1190</td>\n",
       "      <td>Designer, ceramics/pottery</td>\n",
       "      <td>1948-06-30</td>\n",
       "      <td>1595dec12f6f19ceaae9b7df0f8af5c0</td>\n",
       "      <td>1330158280</td>\n",
       "      <td>46.398331</td>\n",
       "      <td>-99.813959</td>\n",
       "      <td>0</td>\n",
       "    </tr>\n",
       "    <tr>\n",
       "      <th>198791</th>\n",
       "      <td>198791</td>\n",
       "      <td>2019-04-12 19:50:15</td>\n",
       "      <td>4428154703770710</td>\n",
       "      <td>fraud_Prosacco, Kreiger and Kovacek</td>\n",
       "      <td>home</td>\n",
       "      <td>284.88</td>\n",
       "      <td>Brittany</td>\n",
       "      <td>Guerra</td>\n",
       "      <td>F</td>\n",
       "      <td>79209 Gary Dale</td>\n",
       "      <td>...</td>\n",
       "      <td>46.5901</td>\n",
       "      <td>-117.1692</td>\n",
       "      <td>761</td>\n",
       "      <td>Chief Marketing Officer</td>\n",
       "      <td>1943-06-30</td>\n",
       "      <td>0ed26b649ed0fce94d8e632b7208dea0</td>\n",
       "      <td>1334260215</td>\n",
       "      <td>45.687331</td>\n",
       "      <td>-117.488135</td>\n",
       "      <td>0</td>\n",
       "    </tr>\n",
       "    <tr>\n",
       "      <th>1238587</th>\n",
       "      <td>1238587</td>\n",
       "      <td>2020-05-31 21:50:53</td>\n",
       "      <td>213148039875802</td>\n",
       "      <td>fraud_Langworth, Boehm and Gulgowski</td>\n",
       "      <td>shopping_net</td>\n",
       "      <td>5.07</td>\n",
       "      <td>Jill</td>\n",
       "      <td>Jacobs</td>\n",
       "      <td>F</td>\n",
       "      <td>034 Kimberly Mountains</td>\n",
       "      <td>...</td>\n",
       "      <td>27.9551</td>\n",
       "      <td>-82.2966</td>\n",
       "      <td>79613</td>\n",
       "      <td>Environmental consultant</td>\n",
       "      <td>1978-11-30</td>\n",
       "      <td>7096316ec1a4b261e8613013827abae7</td>\n",
       "      <td>1370037053</td>\n",
       "      <td>27.254081</td>\n",
       "      <td>-81.974799</td>\n",
       "      <td>0</td>\n",
       "    </tr>\n",
       "  </tbody>\n",
       "</table>\n",
       "<p>3 rows × 23 columns</p>\n",
       "</div>"
      ],
      "text/plain": [
       "         Unnamed: 0 trans_date_trans_time            cc_num  \\\n",
       "94102         94102   2019-02-25 08:24:40   374497717543058   \n",
       "198791       198791   2019-04-12 19:50:15  4428154703770710   \n",
       "1238587     1238587   2020-05-31 21:50:53   213148039875802   \n",
       "\n",
       "                                     merchant      category     amt     first  \\\n",
       "94102                        fraud_Funk Group   grocery_net   20.00     Linda   \n",
       "198791    fraud_Prosacco, Kreiger and Kovacek          home  284.88  Brittany   \n",
       "1238587  fraud_Langworth, Boehm and Gulgowski  shopping_net    5.07      Jill   \n",
       "\n",
       "           last gender                         street  ...      lat      long  \\\n",
       "94102     Hurst      F  31701 Tucker Square Suite 893  ...  47.1709 -100.7944   \n",
       "198791   Guerra      F                79209 Gary Dale  ...  46.5901 -117.1692   \n",
       "1238587  Jacobs      F         034 Kimberly Mountains  ...  27.9551  -82.2966   \n",
       "\n",
       "         city_pop                         job         dob  \\\n",
       "94102        1190  Designer, ceramics/pottery  1948-06-30   \n",
       "198791        761     Chief Marketing Officer  1943-06-30   \n",
       "1238587     79613    Environmental consultant  1978-11-30   \n",
       "\n",
       "                                trans_num   unix_time  merch_lat  merch_long  \\\n",
       "94102    1595dec12f6f19ceaae9b7df0f8af5c0  1330158280  46.398331  -99.813959   \n",
       "198791   0ed26b649ed0fce94d8e632b7208dea0  1334260215  45.687331 -117.488135   \n",
       "1238587  7096316ec1a4b261e8613013827abae7  1370037053  27.254081  -81.974799   \n",
       "\n",
       "         is_fraud  \n",
       "94102           0  \n",
       "198791          0  \n",
       "1238587         0  \n",
       "\n",
       "[3 rows x 23 columns]"
      ]
     },
     "execution_count": 6,
     "metadata": {},
     "output_type": "execute_result"
    }
   ],
   "source": [
    "df_train.head(3)"
   ]
  },
  {
   "cell_type": "markdown",
   "metadata": {},
   "source": [
    "#### 2.4 Checking the null values\n"
   ]
  },
  {
   "cell_type": "code",
   "execution_count": 7,
   "metadata": {},
   "outputs": [
    {
     "data": {
      "text/plain": [
       "Unnamed: 0               0\n",
       "trans_date_trans_time    0\n",
       "cc_num                   0\n",
       "merchant                 0\n",
       "category                 0\n",
       "amt                      0\n",
       "first                    0\n",
       "last                     0\n",
       "gender                   0\n",
       "street                   0\n",
       "city                     0\n",
       "state                    0\n",
       "zip                      0\n",
       "lat                      0\n",
       "long                     0\n",
       "city_pop                 0\n",
       "job                      0\n",
       "dob                      0\n",
       "trans_num                0\n",
       "unix_time                0\n",
       "merch_lat                0\n",
       "merch_long               0\n",
       "is_fraud                 0\n",
       "dtype: int64"
      ]
     },
     "execution_count": 7,
     "metadata": {},
     "output_type": "execute_result"
    }
   ],
   "source": [
    "df_train.isnull().sum()\n"
   ]
  },
  {
   "cell_type": "code",
   "execution_count": 8,
   "metadata": {},
   "outputs": [
    {
     "data": {
      "text/plain": [
       "Unnamed: 0               0\n",
       "trans_date_trans_time    0\n",
       "cc_num                   0\n",
       "merchant                 0\n",
       "category                 0\n",
       "amt                      0\n",
       "first                    0\n",
       "last                     0\n",
       "gender                   0\n",
       "street                   0\n",
       "city                     0\n",
       "state                    0\n",
       "zip                      0\n",
       "lat                      0\n",
       "long                     0\n",
       "city_pop                 0\n",
       "job                      0\n",
       "dob                      0\n",
       "trans_num                0\n",
       "unix_time                0\n",
       "merch_lat                0\n",
       "merch_long               0\n",
       "is_fraud                 0\n",
       "dtype: int64"
      ]
     },
     "execution_count": 8,
     "metadata": {},
     "output_type": "execute_result"
    }
   ],
   "source": [
    "df_test.isnull().sum()"
   ]
  },
  {
   "cell_type": "markdown",
   "metadata": {},
   "source": [
    "We see that no null values are present."
   ]
  },
  {
   "cell_type": "markdown",
   "metadata": {},
   "source": [
    "#### 2.5 Correlation Matrix\n"
   ]
  },
  {
   "cell_type": "code",
   "execution_count": 9,
   "metadata": {},
   "outputs": [
    {
     "data": {
      "image/png": "[encoded data removed]",
      "text/plain": [
       "<Figure size 1080x1080 with 2 Axes>"
      ]
     },
     "metadata": {
      "needs_background": "light"
     },
     "output_type": "display_data"
    }
   ],
   "source": [
    "#get correlations of each features in dataset\n",
    "corrmat = df_train.corr()\n",
    "top_corr_features = corrmat.index\n",
    "plt.figure(figsize=(15,15))\n",
    "\n",
    "#plot heat map\n",
    "g=sns.heatmap(df_train[top_corr_features].corr(),annot=True,cmap=\"RdYlGn\")"
   ]
  },
  {
   "cell_type": "markdown",
   "metadata": {},
   "source": [
    "#### 2.6 Histograms"
   ]
  },
  {
   "cell_type": "code",
   "execution_count": 10,
   "metadata": {},
   "outputs": [
    {
     "data": {
      "image/png": "[encoded data removed]",
      "text/plain": [
       "<Figure size 1080x1080 with 12 Axes>"
      ]
     },
     "metadata": {
      "needs_background": "light"
     },
     "output_type": "display_data"
    }
   ],
   "source": [
    "#visual representation of the data using histograms \n",
    "df_train.hist(figsize = (15, 15))\n",
    "plt.show()"
   ]
  },
  {
   "cell_type": "markdown",
   "metadata": {},
   "source": [
    "#### 2.7 Plotting the classes "
   ]
  },
  {
   "cell_type": "code",
   "execution_count": 11,
   "metadata": {},
   "outputs": [
    {
     "data": {
      "text/plain": [
       "Text(0, 0.5, 'Frequency')"
      ]
     },
     "execution_count": 11,
     "metadata": {},
     "output_type": "execute_result"
    },
    {
     "data": {
      "image/png": "[encoded data removed]",
      "text/plain": [
       "<Figure size 360x360 with 1 Axes>"
      ]
     },
     "metadata": {
      "needs_background": "light"
     },
     "output_type": "display_data"
    }
   ],
   "source": [
    "# plotting the classes\n",
    "plt.figure(figsize=(5,5))\n",
    "count_classes = pd.value_counts(df_train['is_fraud'], sort = True)\n",
    "count_classes.plot(kind = 'bar', rot=0)\n",
    "plt.title(\"Transaction Class Distribution\")\n",
    "LABELS = ['Normal','Fraud']\n",
    "plt.xticks(range(2), LABELS)\n",
    "plt.xlabel(\"Class of transaction\")\n",
    "plt.ylabel(\"Frequency\")"
   ]
  },
  {
   "cell_type": "code",
   "execution_count": 229,
   "metadata": {},
   "outputs": [
    {
     "data": {
      "text/plain": [
       "<seaborn.axisgrid.FacetGrid at 0x7fc9b7627950>"
      ]
     },
     "execution_count": 229,
     "metadata": {},
     "output_type": "execute_result"
    },
    {
     "data": {
      "image/png": "[encoded data removed]",
      "text/plain": [
       "<Figure size 407.75x360 with 1 Axes>"
      ]
     },
     "metadata": {
      "needs_background": "light"
     },
     "output_type": "display_data"
    }
   ],
   "source": [
    "sns.relplot(y = 'unix_time', x = 'amt' , hue = 'is_fraud',data = df_train)"
   ]
  },
  {
   "cell_type": "code",
   "execution_count": 231,
   "metadata": {},
   "outputs": [],
   "source": [
    "#sns.catplot(y = 'unix_time', x = 'amt' , hue = 'is_fraud',data = df_train)"
   ]
  },
  {
   "cell_type": "markdown",
   "metadata": {},
   "source": [
    "We see that data is imbalanced    \n",
    "#### 2.8  Getting the Fraud and the Normal  transaction numbers for test and train dataset\n"
   ]
  },
  {
   "cell_type": "code",
   "execution_count": 12,
   "metadata": {},
   "outputs": [
    {
     "name": "stdout",
     "output_type": "stream",
     "text": [
      "Normal cases in train set : 128963 \n",
      "Fraud cases in train set : 705\n",
      "Normal cases in test set : 27656 \n",
      "Fraud cases in test set : 130\n"
     ]
    }
   ],
   "source": [
    "## Get the Fraud and the normal  transaction numbers for test and train dataset \n",
    "\n",
    "fraud_train = df_train[df_train['is_fraud']==1]\n",
    "normal_train = df_train[df_train['is_fraud']==0]\n",
    "fraud_test = df_test[df_test['is_fraud']==1]\n",
    "normal_test = df_test[df_test['is_fraud']==0]\n",
    "\n",
    "print(\"Normal cases in train set :\",len(df_train)-len(fraud_train),\"\\nFraud cases in train set :\",len(fraud_train))\n",
    "print(\"Normal cases in test set :\",len(df_test)-len(fraud_test),\"\\nFraud cases in test set :\",len(fraud_test))\n"
   ]
  },
  {
   "cell_type": "markdown",
   "metadata": {},
   "source": [
    "\n",
    "## 3. Data transformation and feature engineering"
   ]
  },
  {
   "cell_type": "markdown",
   "metadata": {},
   "source": [
    "\n",
    "From the exploratory data Analysis we make the following observations:   \n",
    "\n",
    "1. The first column contains just the indices and is not useful so we will drop it.   \n",
    "2. The third column with customer card number is also not useful , so we will drop it. \n",
    "3. \"first name\" and \"last name\" can also be dropped.  \n",
    "4. Transaction number - is it really needed? can be dropped.\n",
    "5. Date time column can be used to calculate the age of the customer\n"
   ]
  },
  {
   "cell_type": "markdown",
   "metadata": {},
   "source": [
    "#### 3.1 Dropping the columns not needed\n"
   ]
  },
  {
   "cell_type": "code",
   "execution_count": 13,
   "metadata": {},
   "outputs": [],
   "source": [
    "# function to drop tbe columns\n",
    "def dropCol(data):\n",
    "    col_to_drop = ['trans_date_trans_time','Unnamed: 0','cc_num','first','last','trans_num']\n",
    "    res = data.drop(col_to_drop,axis = 1)\n",
    "    return res\n"
   ]
  },
  {
   "cell_type": "code",
   "execution_count": 14,
   "metadata": {},
   "outputs": [
    {
     "name": "stdout",
     "output_type": "stream",
     "text": [
      "(129668, 17) (27786, 17)\n"
     ]
    }
   ],
   "source": [
    "# dropping the columns\n",
    "# dropping the columns ['trans_date_trans_time','Unnamed: 0','cc_num','first','last','trans_num']\n",
    "# train data set\n",
    "df_train = dropCol(df_train)\n",
    "# test data set\n",
    "df_test = dropCol(df_test)\n",
    "\n",
    "print ( df_train.shape, df_test.shape)"
   ]
  },
  {
   "cell_type": "markdown",
   "metadata": {},
   "source": [
    "#### 3.2 Dropping the columns not needed\n"
   ]
  },
  {
   "cell_type": "code",
   "execution_count": 15,
   "metadata": {},
   "outputs": [
    {
     "name": "stdout",
     "output_type": "stream",
     "text": [
      "(129668, 16) (129668,) (27786, 16) (27786,)\n"
     ]
    }
   ],
   "source": [
    "#Create independent and Dependent Features\n",
    "columns = df_train.columns.tolist()\n",
    "\n",
    "# removing the dependent feature is_fraud\n",
    "columns = [c for c in columns if c not in [\"is_fraud\"]]\n",
    "\n",
    "X_train = df_train[columns]\n",
    "Y_train = df_train['is_fraud']\n",
    "X_test = df_test[columns]\n",
    "Y_test = df_test['is_fraud']\n",
    "print ( X_train.shape, Y_train.shape,X_test.shape, Y_test.shape)"
   ]
  },
  {
   "cell_type": "markdown",
   "metadata": {},
   "source": [
    "#### 3.3 Converting dob to age\n"
   ]
  },
  {
   "cell_type": "code",
   "execution_count": 16,
   "metadata": {
    "scrolled": true
   },
   "outputs": [
    {
     "name": "stdout",
     "output_type": "stream",
     "text": [
      "(129668, 16) (27786, 16)\n"
     ]
    }
   ],
   "source": [
    "# function to convert dob to years\n",
    "def age_years(born):\n",
    "    return 2019 - int(born[0:4])\n",
    "\n",
    "# replacing the dob column with age column in our data set for test and train\n",
    "X_train['age'] = X_train['dob'].apply(lambda x: age_years(x))\n",
    "X_train = X_train.drop(['dob'],axis =1)\n",
    "\n",
    "X_test['age'] = X_test['dob'].apply(lambda x: age_years(x))\n",
    "X_test = X_test.drop(['dob'],axis =1)\n",
    "print(X_train.shape,X_test.shape)\n"
   ]
  },
  {
   "cell_type": "markdown",
   "metadata": {},
   "source": [
    "#### 3.4 Converting the categorical features to numerical by one- hot - encoding\n",
    "\n"
   ]
  },
  {
   "cell_type": "code",
   "execution_count": 17,
   "metadata": {},
   "outputs": [
    {
     "data": {
      "text/plain": [
       "(157454, 16)"
      ]
     },
     "execution_count": 17,
     "metadata": {},
     "output_type": "execute_result"
    }
   ],
   "source": [
    "# concanating the test and train data so that number of columns remain the same in both the data sets\n",
    "final_df = pd.concat([X_train,X_test],axis=0)\n",
    "final_df.shape\n"
   ]
  },
  {
   "cell_type": "code",
   "execution_count": 18,
   "metadata": {},
   "outputs": [
    {
     "data": {
      "text/plain": [
       "['merchant', 'category', 'gender', 'street', 'city', 'state', 'job']"
      ]
     },
     "execution_count": 18,
     "metadata": {},
     "output_type": "execute_result"
    }
   ],
   "source": [
    "# creating the list of categorical variables\n",
    "categorical_features =[feature for feature in X_train.columns if final_df[feature].dtypes == 'O']\n",
    "categorical_features"
   ]
  },
  {
   "cell_type": "code",
   "execution_count": 19,
   "metadata": {},
   "outputs": [
    {
     "name": "stdout",
     "output_type": "stream",
     "text": [
      "Distinct categories for merchant  are 693\n",
      "Distinct categories for category  are 14\n",
      "Distinct categories for gender  are 2\n",
      "Distinct categories for street  are 957\n",
      "Distinct categories for city  are 872\n",
      "Distinct categories for state  are 51\n",
      "Distinct categories for job  are 486\n"
     ]
    }
   ],
   "source": [
    "#observing the unique values in each feature\n",
    "for feature in categorical_features:\n",
    "    print(\"Distinct categories for {}  are {}\".format(feature,len(final_df[feature].unique())))"
   ]
  },
  {
   "cell_type": "code",
   "execution_count": 20,
   "metadata": {},
   "outputs": [],
   "source": [
    "# function to convert categorical variables to one hot encoding\n",
    "def category_onehot_multcols(data,multcolumns):\n",
    "    df_final = data\n",
    "    i=0\n",
    "    for fields in multcolumns:\n",
    "        print(fields)\n",
    "        df1=pd.get_dummies(final_df[fields],drop_first=True)\n",
    "        final_df.drop([fields],axis=1,inplace=True)\n",
    "        if i==0:\n",
    "            df_final=df1.copy()\n",
    "        else:           \n",
    "            df_final=pd.concat([df_final,df1],axis=1)\n",
    "        i=i+1             \n",
    "    df_final=pd.concat([final_df,df_final],axis=1)\n",
    "    return df_final"
   ]
  },
  {
   "cell_type": "code",
   "execution_count": 21,
   "metadata": {},
   "outputs": [
    {
     "name": "stdout",
     "output_type": "stream",
     "text": [
      "merchant\n",
      "category\n",
      "gender\n",
      "street\n",
      "city\n",
      "state\n",
      "job\n"
     ]
    }
   ],
   "source": [
    "# applying the one hot encoding\n",
    "final_df = category_onehot_multcols(final_df, categorical_features)\n"
   ]
  },
  {
   "cell_type": "code",
   "execution_count": 22,
   "metadata": {},
   "outputs": [
    {
     "data": {
      "text/plain": [
       "(157454, 3077)"
      ]
     },
     "execution_count": 22,
     "metadata": {},
     "output_type": "execute_result"
    }
   ],
   "source": [
    "# removing duplicated columns\n",
    "final_df =final_df.loc[:,~final_df.columns.duplicated()]\n",
    "final_df.shape"
   ]
  },
  {
   "cell_type": "code",
   "execution_count": 23,
   "metadata": {},
   "outputs": [
    {
     "name": "stdout",
     "output_type": "stream",
     "text": [
      "(129668, 3077) (27786, 3077)\n"
     ]
    }
   ],
   "source": [
    "# separating the test and training data\n",
    "df_Train=final_df.iloc[:129668,:]\n",
    "df_Test=final_df.iloc[129668:,:]\n",
    "print(df_Train.shape,df_Test.shape)"
   ]
  },
  {
   "cell_type": "code",
   "execution_count": 24,
   "metadata": {},
   "outputs": [
    {
     "name": "stdout",
     "output_type": "stream",
     "text": [
      "0    128963\n",
      "1       705\n",
      "Name: is_fraud, dtype: int64 \n",
      " 0    27656\n",
      "1      130\n",
      "Name: is_fraud, dtype: int64\n"
     ]
    }
   ],
   "source": [
    "print(Y_train.value_counts(),\"\\n\",Y_test.value_counts())"
   ]
  },
  {
   "cell_type": "code",
   "execution_count": 25,
   "metadata": {},
   "outputs": [
    {
     "name": "stdout",
     "output_type": "stream",
     "text": [
      "(129668, 3077) (27786, 3077) (129668,) (27786,)\n"
     ]
    }
   ],
   "source": [
    "# files ready for testing on models\n",
    "print(df_Train.shape, df_Test.shape, Y_train.shape, Y_test.shape)\n"
   ]
  },
  {
   "cell_type": "code",
   "execution_count": 26,
   "metadata": {},
   "outputs": [
    {
     "data": {
      "text/plain": [
       "0.005466684242767306"
      ]
     },
     "execution_count": 26,
     "metadata": {},
     "output_type": "execute_result"
    }
   ],
   "source": [
    "705/128963"
   ]
  },
  {
   "cell_type": "markdown",
   "metadata": {},
   "source": [
    "As we see that the data is skewed, i.e the number of samples for class 1 is less tha 0.5% of the samples of class 0.\n",
    "In this case the the machine learning algorithms with not predict the Fraud cases correctly.\n",
    "To predict the Fraud correctly we have two approaches:   \n",
    "1. Handle the imbalance in Data and apply various Machine Learning algorithms and then apply ML models.    \n",
    "2. Predict Fraud as outlier/Anomaly    \n",
    "3. Change detection is similar to anomaly detection except rather than looking for an anomaly it is looking for a change or difference. This might be a change in behavior of a user as observed by usage patterns or bank transactions.\n",
    "\n",
    "We proceed for the first method first.\n"
   ]
  },
  {
   "cell_type": "markdown",
   "metadata": {},
   "source": [
    "## 4. Handling the Imbalance in data \n",
    "\n",
    "   \n",
    "Handling the Imbalance in data by one of the following methods:   \n",
    "> 4.1 Random Under-Sampling   \n",
    "       4.2 Random Over-Sampling   \n",
    "       4.3 SMOTE (Synthetic Minority over sampling technique)   \n",
    "       4.4 Near Miss algorighm ( under sampling )   \n",
    "       4.5 Ensemble method \n",
    "   \n",
    "\n",
    "\n"
   ]
  },
  {
   "cell_type": "markdown",
   "metadata": {},
   "source": [
    "First we apply the model without handling the imbalance. We will use Logistic Regression and Decision Tree classifier for our exploration of the method to apply to handle imbalance in data. "
   ]
  },
  {
   "cell_type": "code",
   "execution_count": 27,
   "metadata": {},
   "outputs": [],
   "source": [
    "# Logistic Regression\n",
    "model_LR = LogisticRegression()\n",
    "model_LR.fit(df_Train,Y_train)\n",
    "y_pred = model_LR.predict(df_Test)"
   ]
  },
  {
   "cell_type": "code",
   "execution_count": 28,
   "metadata": {},
   "outputs": [],
   "source": [
    "#Let's evaluate our model \n",
    "def print_eval(y_pred,model):\n",
    "    print(\"Training Accuracy: \",model.score(df_Train, Y_train))\n",
    "    print(\"Testing Accuracy: \", model.score(df_Test, Y_test))\n",
    "    cm = confusion_matrix(Y_test, y_pred)\n",
    "    print(cm)\n",
    "    print(classification_report(Y_test,y_pred))\n"
   ]
  },
  {
   "cell_type": "code",
   "execution_count": 29,
   "metadata": {},
   "outputs": [
    {
     "name": "stdout",
     "output_type": "stream",
     "text": [
      "Training Accuracy:  0.9945630379122066\n",
      "Testing Accuracy:  0.9953213848700785\n",
      "[[27656     0]\n",
      " [  130     0]]\n",
      "              precision    recall  f1-score   support\n",
      "\n",
      "           0       1.00      1.00      1.00     27656\n",
      "           1       0.00      0.00      0.00       130\n",
      "\n",
      "    accuracy                           1.00     27786\n",
      "   macro avg       0.50      0.50      0.50     27786\n",
      "weighted avg       0.99      1.00      0.99     27786\n",
      "\n"
     ]
    }
   ],
   "source": [
    "print_eval(y_pred,model_LR)"
   ]
  },
  {
   "cell_type": "code",
   "execution_count": 30,
   "metadata": {},
   "outputs": [
    {
     "name": "stdout",
     "output_type": "stream",
     "text": [
      "Training Accuracy:  1.0\n",
      "Testing Accuracy:  0.9866839415533002\n",
      "[[27333   323]\n",
      " [   47    83]]\n",
      "              precision    recall  f1-score   support\n",
      "\n",
      "           0       1.00      0.99      0.99     27656\n",
      "           1       0.20      0.64      0.31       130\n",
      "\n",
      "    accuracy                           0.99     27786\n",
      "   macro avg       0.60      0.81      0.65     27786\n",
      "weighted avg       0.99      0.99      0.99     27786\n",
      "\n"
     ]
    }
   ],
   "source": [
    "# decision tree\n",
    "decision_tree_model = DecisionTreeClassifier(random_state=137)\n",
    "decision_tree_model.fit(df_Train,Y_train)\n",
    "y_pred = decision_tree_model.predict(df_Test)\n",
    "print_eval(y_pred,decision_tree_model)"
   ]
  },
  {
   "cell_type": "markdown",
   "metadata": {},
   "source": [
    "#### Metric Analysis\n",
    "\n",
    "1. **True  Positives** : Correctly classified as Safe Transaction     = 27333 (.99)   \n",
    "2. **False Negitives** : Mis-classified Safe Transaction              = 323 (Harmless)   \n",
    "3. **False Positives** : Mis-classified as Fraud Transactions         = 47 (Dangerous )   \n",
    "4. **True Negatives**  : Correctly classified as Fraud Transactions   = 83 (out of 130 -> .64)   \n",
    "5. **Accuracy**        : .99   \n",
    "\n",
    "Here the accuracy is not taken into account as it is misleading.   \n",
    "We want to get maximum True Negatives i.e we want to predict the Fraud tranactions with maximum accuracy. This can be done by monitoring the Recall.\n",
    "\n",
    "So when the data is imbalanced the Recall is    \n",
    "class 0 (Safe) : 0.99   \n",
    "class 1 (Fraud): 0.64   \n",
    "\n",
    "**We want the recall of class 1 to be close to 1.00**    \n",
    "**We can also use f1-score as a metric to observe**\n",
    "\n",
    "\n"
   ]
  },
  {
   "cell_type": "markdown",
   "metadata": {},
   "source": [
    "### 4.1 Implementing Random Under-sampling\n",
    "\n",
    "**Advantages**   \n",
    "- It can help improve run time and storage problems by reducing the number of training data samples when the training data set is huge.   \n",
    "\n",
    "**Disadvantages**   \n",
    "- It can discard potentially useful information which could be important for building rule classifiers.\n",
    "The sample chosen by random under sampling may be a biased sample. And it will not be an accurate representative of the population. Thereby, resulting in inaccurate results with the actual test data set.\n",
    "\n"
   ]
  },
  {
   "cell_type": "code",
   "execution_count": 31,
   "metadata": {},
   "outputs": [
    {
     "name": "stdout",
     "output_type": "stream",
     "text": [
      "(129668,) (129668, 3077)\n"
     ]
    },
    {
     "data": {
      "text/plain": [
       "(129668, 3078)"
      ]
     },
     "execution_count": 31,
     "metadata": {},
     "output_type": "execute_result"
    }
   ],
   "source": [
    "# adding the dependent feature in the train data set\n",
    "print(Y_train.shape,df_Train.shape)\n",
    "df_train = pd.concat([df_Train,Y_train],axis = 1)\n",
    "df_train.shape\n"
   ]
  },
  {
   "cell_type": "code",
   "execution_count": 32,
   "metadata": {},
   "outputs": [
    {
     "name": "stdout",
     "output_type": "stream",
     "text": [
      "128963 705\n",
      "(128963, 3078) (705, 3078)\n"
     ]
    }
   ],
   "source": [
    "# Class count\n",
    "count_class_0, count_class_1 = df_train.is_fraud.value_counts()\n",
    "print(count_class_0, count_class_1)\n",
    "# Divide by class\n",
    "df_class_0 = df_train[df_train['is_fraud'] == 0]\n",
    "df_class_1 = df_train[df_train['is_fraud'] == 1]\n",
    "print(df_class_0.shape,df_class_1.shape)"
   ]
  },
  {
   "cell_type": "code",
   "execution_count": 33,
   "metadata": {},
   "outputs": [
    {
     "name": "stdout",
     "output_type": "stream",
     "text": [
      "Random under-sampling:\n",
      "1    705\n",
      "0    705\n",
      "Name: is_fraud, dtype: int64\n"
     ]
    }
   ],
   "source": [
    "# Undersample 0-class and concat the DataFrames of both class\n",
    "df_class_0_under = df_class_0.sample(count_class_1)\n",
    "df_train_under_sample = pd.concat([df_class_0_under, df_class_1], axis=0)\n",
    "\n",
    "print('Random under-sampling:')\n",
    "print(df_train_under_sample.is_fraud.value_counts())\n"
   ]
  },
  {
   "cell_type": "code",
   "execution_count": 34,
   "metadata": {},
   "outputs": [
    {
     "name": "stdout",
     "output_type": "stream",
     "text": [
      "Training Accuracy:  0.8581994015485702\n",
      "Testing Accuracy:  0.8594256100194343\n",
      "[[27656     0]\n",
      " [  130     0]]\n",
      "              precision    recall  f1-score   support\n",
      "\n",
      "           0       1.00      1.00      1.00     27656\n",
      "           1       0.00      0.00      0.00       130\n",
      "\n",
      "    accuracy                           1.00     27786\n",
      "   macro avg       0.50      0.50      0.50     27786\n",
      "weighted avg       0.99      1.00      0.99     27786\n",
      "\n"
     ]
    }
   ],
   "source": [
    "# training and predictions : Logistic Regression\n",
    "X = df_train_under_sample.drop('is_fraud',axis='columns')\n",
    "y = df_train_under_sample['is_fraud']\n",
    "model_LR_under_sample = LogisticRegression()\n",
    "model_LR_under_sample.fit(X,y)\n",
    "y_pred = model_LR.predict(df_Test)\n",
    "print_eval(y_pred,model_LR_under_sample)"
   ]
  },
  {
   "cell_type": "code",
   "execution_count": 35,
   "metadata": {},
   "outputs": [
    {
     "name": "stdout",
     "output_type": "stream",
     "text": [
      "Training Accuracy:  0.9324505660610174\n",
      "Testing Accuracy:  0.9344993881810983\n",
      "[[25840  1816]\n",
      " [    4   126]]\n",
      "              precision    recall  f1-score   support\n",
      "\n",
      "           0       1.00      0.93      0.97     27656\n",
      "           1       0.06      0.97      0.12       130\n",
      "\n",
      "    accuracy                           0.93     27786\n",
      "   macro avg       0.53      0.95      0.54     27786\n",
      "weighted avg       1.00      0.93      0.96     27786\n",
      "\n"
     ]
    }
   ],
   "source": [
    "# training and predictions : decision tree\n",
    "decision_tree_model_undersample = DecisionTreeClassifier(random_state=137)\n",
    "decision_tree_model_undersample.fit(X,y)\n",
    "y_pred = decision_tree_model_undersample.predict(df_Test)\n",
    "print_eval(y_pred,decision_tree_model_undersample)"
   ]
  },
  {
   "cell_type": "markdown",
   "metadata": {},
   "source": [
    "### Comparision of results and Observations :\n",
    "\n",
    "|                                       | Class-0 Recall| Class-1 Recall|Class-0 f1-score| Class-1 f1-score|\n",
    "|---------------------------------------|---------------|---------------|----------------|-----------------|\n",
    "|Logistic Regression                    |     1.00      |     0.00      |     1.00       |      0.00       |\n",
    "|Decision Tree Classifier               |     0.99      |     0.64      |     0.99       |      0.31       |\n",
    "|Logistic Regression Under Sampling     |     1.00      |     0.00      |     1.00       |      0.50       |\n",
    "|Decision Tree Classifier Under Sampling|     0.94      |     0.95      |     0.97       |      0.13       |\n"
   ]
  },
  {
   "cell_type": "markdown",
   "metadata": {},
   "source": [
    "### 4.2 Implementing Random Over-sampling\n",
    "\n",
    "**Advantages**\n",
    "- Unlike under sampling this method leads to no information loss.\n",
    "- Outperforms under sampling  \n",
    "\n",
    "**Disadvantages**\n",
    "- It increases the likelihood of overfitting since it replicates the minority class events.\n"
   ]
  },
  {
   "cell_type": "code",
   "execution_count": 36,
   "metadata": {},
   "outputs": [
    {
     "name": "stdout",
     "output_type": "stream",
     "text": [
      "128963 705\n",
      "(128963, 3078) (705, 3078)\n"
     ]
    }
   ],
   "source": [
    "# Class count\n",
    "count_class_0, count_class_1 = df_train.is_fraud.value_counts()\n",
    "print(count_class_0, count_class_1)\n",
    "# Divide by class\n",
    "df_class_0 = df_train[df_train['is_fraud'] == 0]\n",
    "df_class_1 = df_train[df_train['is_fraud'] == 1]\n",
    "print(df_class_0.shape,df_class_1.shape)"
   ]
  },
  {
   "cell_type": "code",
   "execution_count": 37,
   "metadata": {},
   "outputs": [
    {
     "name": "stdout",
     "output_type": "stream",
     "text": [
      "Random over-sampling:\n",
      "1    128963\n",
      "0    128963\n",
      "Name: is_fraud, dtype: int64\n"
     ]
    }
   ],
   "source": [
    "# Oversample 1-class and concat the DataFrames of both class\n",
    "df_class_1_over = df_class_1.sample(count_class_0,replace=True)\n",
    "df_train_over_sample = pd.concat([df_class_0, df_class_1_over], axis=0)\n",
    "\n",
    "print('Random over-sampling:')\n",
    "\n",
    "print(df_train_over_sample.is_fraud.value_counts())"
   ]
  },
  {
   "cell_type": "code",
   "execution_count": 38,
   "metadata": {},
   "outputs": [
    {
     "name": "stdout",
     "output_type": "stream",
     "text": [
      "Training Accuracy:  0.8593716259987044\n",
      "Testing Accuracy:  0.8623767364860001\n",
      "[[23950  3706]\n",
      " [  118    12]]\n",
      "              precision    recall  f1-score   support\n",
      "\n",
      "           0       1.00      0.87      0.93     27656\n",
      "           1       0.00      0.09      0.01       130\n",
      "\n",
      "    accuracy                           0.86     27786\n",
      "   macro avg       0.50      0.48      0.47     27786\n",
      "weighted avg       0.99      0.86      0.92     27786\n",
      "\n"
     ]
    }
   ],
   "source": [
    "# training and predictions : Logistic Regression\n",
    "X = df_train_over_sample.drop('is_fraud',axis='columns')\n",
    "y = df_train_over_sample['is_fraud']\n",
    "model_LR_over_sample = LogisticRegression()\n",
    "model_LR_over_sample.fit(X,y)\n",
    "y_pred = model_LR_over_sample.predict(df_Test)\n",
    "print_eval(y_pred,model_LR_over_sample)"
   ]
  },
  {
   "cell_type": "code",
   "execution_count": 39,
   "metadata": {},
   "outputs": [
    {
     "name": "stdout",
     "output_type": "stream",
     "text": [
      "Training Accuracy:  1.0\n",
      "Testing Accuracy:  0.9940977470668682\n",
      "[[27544   112]\n",
      " [   52    78]]\n",
      "              precision    recall  f1-score   support\n",
      "\n",
      "           0       1.00      1.00      1.00     27656\n",
      "           1       0.41      0.60      0.49       130\n",
      "\n",
      "    accuracy                           0.99     27786\n",
      "   macro avg       0.70      0.80      0.74     27786\n",
      "weighted avg       1.00      0.99      0.99     27786\n",
      "\n"
     ]
    }
   ],
   "source": [
    "# training and predictions : decision tree\n",
    "decision_tree_model_over_sample = DecisionTreeClassifier(random_state=137)\n",
    "decision_tree_model_over_sample.fit(X,y)\n",
    "y_pred = decision_tree_model_over_sample.predict(df_Test)\n",
    "print_eval(y_pred,decision_tree_model_over_sample)"
   ]
  },
  {
   "cell_type": "markdown",
   "metadata": {},
   "source": [
    "### Comparision of results and Observations :\n",
    "\n",
    "|                                       | Class-0 Recall| Class-1 Recall|Class-0 f1-score| Class-1 f1-score|\n",
    "|---------------------------------------|---------------|---------------|----------------|-----------------|\n",
    "|Logistic Regression                    |     1.00      |     0.00      |     1.00       |      0.00       |\n",
    "|Decision Tree Classifier               |     0.99      |     0.64      |     0.99       |      0.31       |\n",
    "|Logistic Regression Under Sampling     |     1.00      |     0.00      |     1.00       |      0.50       |\n",
    "|Decision Tree Classifier Under Sampling|     0.94      |   **0.95**    |     0.97       |      0.13       |\n",
    "|Logistic Regression Over Sampling      |     0.87      |     0.09      |     0.93       |      0.01       |\n",
    "|Decision Tree Classifier Over Sampling |     1.00      |     0.26      |     1.00       |      0.28       |\n",
    "\n",
    "**We see that Under sampling gives better results till now**\n"
   ]
  },
  {
   "cell_type": "markdown",
   "metadata": {},
   "source": [
    "### 4.3 Implementing SMOTE (Synthetic Minority Over Sampling Technique) - Informed Over Sampling\n",
    "\n",
    "SMOTE algorithm works in 4 simple steps:\n",
    "\n",
    "- Choose a minority class as the input vector\n",
    "- Find its k nearest neighbors (k_neighbors is specified as an argument in the SMOTE() function)\n",
    "- Choose one of these neighbors and place a synthetic point anywhere on the line joining the point under consideration and its chosen neighbor\n",
    "- Repeat the steps until data is balanced\n",
    "\n",
    "**Advantages**\n",
    "- Mitigates the problem of overfitting caused by random oversampling as synthetic examples are generated rather than replication of instances   \n",
    "- No loss of useful information   \n",
    "\n",
    "**Disadvantages**\n",
    "- While generating synthetic examples SMOTE does not take into consideration neighboring examples from other classes. This can result in increase in overlapping of classes and can introduce additional noise   \n",
    "- SMOTE is not very effective for high dimensional data"
   ]
  },
  {
   "cell_type": "code",
   "execution_count": 40,
   "metadata": {},
   "outputs": [
    {
     "data": {
      "text/plain": [
       "1    128963\n",
       "0    128963\n",
       "Name: is_fraud, dtype: int64"
      ]
     },
     "execution_count": 40,
     "metadata": {},
     "output_type": "execute_result"
    }
   ],
   "source": [
    "# smote implementation\n",
    "smote = SMOTE(sampling_strategy = 'minority')\n",
    "X_sm, y_sm = smote.fit_sample(X, y)\n",
    "y_sm.value_counts()"
   ]
  },
  {
   "cell_type": "code",
   "execution_count": 41,
   "metadata": {},
   "outputs": [
    {
     "name": "stdout",
     "output_type": "stream",
     "text": [
      "Training Accuracy:  0.8593716259987044\n",
      "Testing Accuracy:  0.8623767364860001\n",
      "[[27544   112]\n",
      " [   52    78]]\n",
      "              precision    recall  f1-score   support\n",
      "\n",
      "           0       1.00      1.00      1.00     27656\n",
      "           1       0.41      0.60      0.49       130\n",
      "\n",
      "    accuracy                           0.99     27786\n",
      "   macro avg       0.70      0.80      0.74     27786\n",
      "weighted avg       1.00      0.99      0.99     27786\n",
      "\n"
     ]
    }
   ],
   "source": [
    "# training and predictions : Logistic Regression\n",
    "\n",
    "model_LR_smote = LogisticRegression()\n",
    "model_LR_smote.fit(X_sm,y_sm)\n",
    "y_predict = model_LR_smote.predict(df_Test)\n",
    "print_eval(y_pred,model_LR_smote)"
   ]
  },
  {
   "cell_type": "code",
   "execution_count": 42,
   "metadata": {
    "scrolled": true
   },
   "outputs": [
    {
     "name": "stdout",
     "output_type": "stream",
     "text": [
      "Training Accuracy:  1.0\n",
      "Testing Accuracy:  0.9940977470668682\n",
      "[[27544   112]\n",
      " [   52    78]]\n",
      "              precision    recall  f1-score   support\n",
      "\n",
      "           0       1.00      1.00      1.00     27656\n",
      "           1       0.41      0.60      0.49       130\n",
      "\n",
      "    accuracy                           0.99     27786\n",
      "   macro avg       0.70      0.80      0.74     27786\n",
      "weighted avg       1.00      0.99      0.99     27786\n",
      "\n"
     ]
    }
   ],
   "source": [
    "# training and predictions : decision tree\n",
    "decision_tree_model_smote = DecisionTreeClassifier(random_state=137)\n",
    "decision_tree_model_smote.fit(X_sm,y_sm)\n",
    "y_pred = decision_tree_model_smote.predict(df_Test)\n",
    "print_eval(y_pred,decision_tree_model_smote)"
   ]
  },
  {
   "cell_type": "markdown",
   "metadata": {},
   "source": [
    "### Comparision of results and Observations :\n",
    "\n",
    "|                                       | Class-0 Recall| Class-1 Recall|Class-0 f1-score| Class-1 f1-score|\n",
    "|---------------------------------------|---------------|---------------|----------------|-----------------|\n",
    "|Logistic Regression                    |     1.00      |     0.00      |     1.00       |      0.00       |\n",
    "|Decision Tree Classifier               |     0.99      |     0.64      |     0.99       |      0.31       |\n",
    "|Logistic Regression Under Sampling     |     1.00      |     0.00      |     1.00       |      0.50       |\n",
    "|Decision Tree Classifier Under Sampling|     0.94      |   **0.95**    |     0.97       |      0.13       |\n",
    "|Logistic Regression Over Sampling      |     0.87      |     0.09      |     0.93       |      0.01       |\n",
    "|Decision Tree Classifier Over Sampling |     1.00      |     0.26      |     1.00       |      0.28       |\n",
    "|Logistic Regression SMOTE              |     1.00      |     0.60      |     1.00       |      0.49       |\n",
    "|Decision Tree ClassifierSMOTE          |     1.00      |     0.60      |     1.00       |      0.49       |\n",
    "\n",
    "**We see that Under sampling gives better results till now**\n",
    "### 4.4 Implementing Near Miss\n",
    "\n",
    "NearMiss is an under-sampling technique. Instead of resampling the Minority class, using a distance, this will make the majority class equal to the minority class.\n"
   ]
  },
  {
   "cell_type": "code",
   "execution_count": 47,
   "metadata": {},
   "outputs": [
    {
     "name": "stdout",
     "output_type": "stream",
     "text": [
      "Near Miss:\n",
      "1    128963\n",
      "0    128963\n",
      "Name: is_fraud, dtype: int64\n"
     ]
    }
   ],
   "source": [
    "# near miss\n",
    "nr = NearMiss() \n",
    "X_train_miss, y_train_miss = nr.fit_sample(X, y) \n",
    "print('Near Miss:')\n",
    "print(y_train_miss.value_counts())"
   ]
  },
  {
   "cell_type": "code",
   "execution_count": 48,
   "metadata": {},
   "outputs": [
    {
     "name": "stdout",
     "output_type": "stream",
     "text": [
      "1    128963\n",
      "0    128963\n",
      "Name: is_fraud, dtype: int64\n"
     ]
    }
   ],
   "source": [
    "print(y_train_miss.value_counts())"
   ]
  },
  {
   "cell_type": "code",
   "execution_count": 49,
   "metadata": {},
   "outputs": [
    {
     "name": "stdout",
     "output_type": "stream",
     "text": [
      "Training Accuracy:  0.8593716259987044\n",
      "Testing Accuracy:  0.8623767364860001\n",
      "[[23950  3706]\n",
      " [  118    12]]\n",
      "              precision    recall  f1-score   support\n",
      "\n",
      "           0       1.00      0.87      0.93     27656\n",
      "           1       0.00      0.09      0.01       130\n",
      "\n",
      "    accuracy                           0.86     27786\n",
      "   macro avg       0.50      0.48      0.47     27786\n",
      "weighted avg       0.99      0.86      0.92     27786\n",
      "\n"
     ]
    }
   ],
   "source": [
    "# training and predictions : Logistic Regression\n",
    "\n",
    "model_LR_nm = LogisticRegression()\n",
    "model_LR_nm.fit(X_train_miss,y_train_miss)\n",
    "y_pred = model_LR_nm.predict(df_Test)\n",
    "print_eval(y_pred,model_LR_nm)"
   ]
  },
  {
   "cell_type": "code",
   "execution_count": 50,
   "metadata": {},
   "outputs": [
    {
     "name": "stdout",
     "output_type": "stream",
     "text": [
      "Training Accuracy:  1.0\n",
      "Testing Accuracy:  0.9940977470668682\n",
      "[[27544   112]\n",
      " [   52    78]]\n",
      "              precision    recall  f1-score   support\n",
      "\n",
      "           0       1.00      1.00      1.00     27656\n",
      "           1       0.41      0.60      0.49       130\n",
      "\n",
      "    accuracy                           0.99     27786\n",
      "   macro avg       0.70      0.80      0.74     27786\n",
      "weighted avg       1.00      0.99      0.99     27786\n",
      "\n"
     ]
    }
   ],
   "source": [
    "# training and predictions : decision tree\n",
    "decision_tree_model_nm = DecisionTreeClassifier(random_state=137)\n",
    "decision_tree_model_nm.fit(X_train_miss,y_train_miss)\n",
    "y_pred = decision_tree_model_nm.predict(df_Test)\n",
    "print_eval(y_pred,decision_tree_model_nm)"
   ]
  },
  {
   "cell_type": "markdown",
   "metadata": {},
   "source": [
    "### Comparision of results and Observations :\n",
    "\n",
    "|                                       | Class-0 Recall| Class-1 Recall|Class-0 f1-score| Class-1 f1-score|\n",
    "|---------------------------------------|---------------|---------------|----------------|-----------------|\n",
    "|Logistic Regression                    |     1.00      |     0.00      |     1.00       |      0.00       |\n",
    "|Decision Tree Classifier               |     0.99      |     0.64      |     0.99       |      0.31       |\n",
    "|Logistic Regression Under Sampling     |     1.00      |     0.00      |     1.00       |      0.50       |\n",
    "|Decision Tree Classifier Under Sampling|     0.94      |   **0.95**    |     0.97       |      0.13       |\n",
    "|Logistic Regression Over Sampling      |     0.87      |     0.09      |     0.93       |      0.01       |\n",
    "|Decision Tree Classifier Over Sampling |     1.00      |     0.26      |     1.00       |      0.28       |\n",
    "|Logistic Regression SMOTE              |     1.00      |     0.26      |     1.00       |      0.28       |\n",
    "|Decision Tree Classifier SMOTE         |     1.00      |     0.26      |     1.00       |      0.28       |\n",
    "|Logistic Regression Near-Miss          |     0.87      |     0.09      |     0.93       |      0.01       |\n",
    "|Decision Tree Classifier Near-Miss     |     1.00      |     0.26      |     1.00       |      0.28       |\n",
    "\n",
    "**We see that Under sampling gives better results till now**"
   ]
  },
  {
   "cell_type": "markdown",
   "metadata": {},
   "source": [
    "### 4.5 Comparisions of different models\n"
   ]
  },
  {
   "cell_type": "code",
   "execution_count": 60,
   "metadata": {},
   "outputs": [],
   "source": [
    "from sklearn import datasets, metrics, preprocessing, svm\n",
    "import plot_functions as pf"
   ]
  },
  {
   "cell_type": "code",
   "execution_count": 76,
   "metadata": {},
   "outputs": [
    {
     "name": "stdout",
     "output_type": "stream",
     "text": [
      "\n",
      "========================== Model Test Results ========================\n",
      "\n",
      "=== dc ===\n",
      "Model Accuracy:  98.7%\n",
      "\n",
      "Recall:\n",
      " 0.6384615384615384\n",
      "\n",
      "\n",
      "Classification Report:\n",
      "               precision    recall  f1-score   support\n",
      "\n",
      "           0       1.00      0.99      0.99     27656\n",
      "           1       0.20      0.64      0.31       130\n",
      "\n",
      "    accuracy                           0.99     27786\n",
      "   macro avg       0.60      0.81      0.65     27786\n",
      "weighted avg       0.99      0.99      0.99     27786\n",
      "\n",
      "\n",
      "=== dc_us ===\n",
      "Model Accuracy:  93.4%\n",
      "\n",
      "Recall:\n",
      " 0.9692307692307692\n",
      "\n",
      "\n",
      "Classification Report:\n",
      "               precision    recall  f1-score   support\n",
      "\n",
      "           0       1.00      0.93      0.97     27656\n",
      "           1       0.06      0.97      0.12       130\n",
      "\n",
      "    accuracy                           0.93     27786\n",
      "   macro avg       0.53      0.95      0.54     27786\n",
      "weighted avg       1.00      0.93      0.96     27786\n",
      "\n",
      "\n",
      "=== dc_os ===\n",
      "Model Accuracy:  99.4%\n",
      "\n",
      "Recall:\n",
      " 0.6\n",
      "\n",
      "\n",
      "Classification Report:\n",
      "               precision    recall  f1-score   support\n",
      "\n",
      "           0       1.00      1.00      1.00     27656\n",
      "           1       0.41      0.60      0.49       130\n",
      "\n",
      "    accuracy                           0.99     27786\n",
      "   macro avg       0.70      0.80      0.74     27786\n",
      "weighted avg       1.00      0.99      0.99     27786\n",
      "\n",
      "\n",
      "=== dc_smote ===\n",
      "Model Accuracy:  99.4%\n",
      "\n",
      "Recall:\n",
      " 0.6\n",
      "\n",
      "\n",
      "Classification Report:\n",
      "               precision    recall  f1-score   support\n",
      "\n",
      "           0       1.00      1.00      1.00     27656\n",
      "           1       0.41      0.60      0.49       130\n",
      "\n",
      "    accuracy                           0.99     27786\n",
      "   macro avg       0.70      0.80      0.74     27786\n",
      "weighted avg       1.00      0.99      0.99     27786\n",
      "\n",
      "\n",
      "=== dc_nm ===\n",
      "Model Accuracy:  99.4%\n",
      "\n",
      "Recall:\n",
      " 0.6\n",
      "\n",
      "\n",
      "Classification Report:\n",
      "               precision    recall  f1-score   support\n",
      "\n",
      "           0       1.00      1.00      1.00     27656\n",
      "           1       0.41      0.60      0.49       130\n",
      "\n",
      "    accuracy                           0.99     27786\n",
      "   macro avg       0.70      0.80      0.74     27786\n",
      "weighted avg       1.00      0.99      0.99     27786\n",
      "\n",
      "\n",
      "============================= ROC Curve ===============================\n",
      "\n"
     ]
    },
    {
     "data": {
      "image/png": "[encoded data removed]",
      "text/plain": [
       "<Figure size 576x432 with 1 Axes>"
      ]
     },
     "metadata": {
      "needs_background": "light"
     },
     "output_type": "display_data"
    }
   ],
   "source": [
    "# Test models\n",
    "classdict = {'normal':0, 'fraudulent':1}\n",
    "print()\n",
    "print('========================== Model Test Results ========================' \"\\n\")   \n",
    "modlist = [('dc', decision_tree_model),\n",
    "           ('dc_us', decision_tree_model_undersample),\n",
    "           ('dc_os', decision_tree_model_over_sample),\n",
    "           ('dc_smote', decision_tree_model_smote),\n",
    "           ('dc_nm', decision_tree_model_nm)\n",
    "           \n",
    "          ] \n",
    "models = [j for j in modlist]\n",
    "for i, v in models:\n",
    "    accuracy = metrics.accuracy_score(Y_test, v.predict(df_Test))\n",
    "    confusion_matrix = metrics.confusion_matrix(Y_test, v.predict(df_Test))\n",
    "    classification = metrics.classification_report(Y_test, v.predict(df_Test))   \n",
    "    print('=== {} ==='.format(i))\n",
    "    print (\"Model Accuracy: \",  '{}%'.format(np.round(accuracy, 3) * 100))\n",
    "    print()\n",
    "    print(\"Recall:\" \"\\n\", confusion_matrix[1][1]/130)\n",
    "    print()\n",
    "    #pf.plot_confusion_matrix(confusion_matrix, classes = list(classdict.keys()),title='Confusion Matrix Plot', cmap=plt.cm.summer)\n",
    "    print() \n",
    "    print(\"Classification Report:\" \"\\n\", classification) \n",
    "    print() \n",
    "\n",
    "print('============================= ROC Curve ===============================' \"\\n\")      \n",
    "pf.plot_roc_auc(arg1=models, arg2=df_Test, arg3=Y_test)\n",
    "\n"
   ]
  },
  {
   "attachments": {},
   "cell_type": "markdown",
   "metadata": {},
   "source": [
    "### 4.5 Implementing the models\n",
    ">4.5.1\tLogistic Regression   \n",
    "4.5.2\tSVM    \n",
    "4.5.3\tXGBoost    \n",
    "4.5.4\tRandom Forest   \n",
    "4.5.5\tArtificial Neural Network   \n",
    "4.5.6   Penalized-SVM   \n",
    "\n",
    "\n",
    "Penalize Algorithms (Cost-Sensitive Training)\n",
    "The next tactic is to use penalized learning algorithms that increase the cost of classification mistakes on the minority class.\n",
    "\n",
    "A popular algorithm for this technique is Penalized-SVM.\n",
    "\n",
    "During training, we can use the argument class_weight=’balanced’ to penalize mistakes on the minority class by an amount proportional to how under-represented it is.\n",
    "\n",
    "We also want to include the argument probability=True if we want to enable probability estimates for SVM algorithms.\n",
    "\n",
    "Let’s train a model using Penalized-SVM on the original imbalanced dataset:"
   ]
  },
  {
   "cell_type": "markdown",
   "metadata": {},
   "source": [
    "### 4.6 Taking into consideration all samples that were considered fraud by any of the model"
   ]
  },
  {
   "cell_type": "code",
   "execution_count": 223,
   "metadata": {},
   "outputs": [
    {
     "name": "stdout",
     "output_type": "stream",
     "text": [
      "              precision    recall  f1-score   support\n",
      "\n",
      "           0       1.00      0.92      0.96     27656\n",
      "           1       0.06      0.98      0.11       130\n",
      "\n",
      "    accuracy                           0.92     27786\n",
      "   macro avg       0.53      0.95      0.53     27786\n",
      "weighted avg       1.00      0.92      0.96     27786\n",
      "\n",
      "\u001b[1m  Recall of combined results is : 0.9846\n"
     ]
    }
   ],
   "source": [
    "# method to combine all the fraud samples\n",
    "modlist = [('dc      ', decision_tree_model),\n",
    "           ('dc_us   ', decision_tree_model_undersample),\n",
    "           ('dc_os   ', decision_tree_model_over_sample),\n",
    "           ('dc_smote', decision_tree_model_smote),\n",
    "           ('dc_nm   ', decision_tree_model_nm)]\n",
    "res_recall = {}\n",
    "res = pd.DataFrame()\n",
    "for i,v in modlist:\n",
    "    pred = v.predict(df_Test)\n",
    "    y_df = pd.DataFrame(pred)\n",
    "    res = pd.concat([res,y_df],axis = 1)\n",
    "    #recall\n",
    "    prfs = precision_recall_fscore_support(Y_test,pred , average=None)\n",
    "    res_recall[i] = round(prfs[1][1],2)\n",
    "\n",
    "# column total has value 1 if any of the models has predicted a fraud\n",
    "res.loc[:,'total'] = res.max(axis = 1)  \n",
    "res = res['total']\n",
    "report = classification_report(Y_test,res)\n",
    "print(classification_report(Y_test,res))\n",
    "\n",
    "prfs = precision_recall_fscore_support(Y_test,res , average=None)\n",
    "res_recall['Combined'] = round(prfs[1][1],2)\n",
    "print('\\033[1m', \" Recall of combined results is :\" ,round(prfs[1][1],4) )"
   ]
  },
  {
   "cell_type": "code",
   "execution_count": 227,
   "metadata": {},
   "outputs": [
    {
     "name": "stdout",
     "output_type": "stream",
     "text": [
      "Model            Recall\n",
      "dc       \t 0.64\n",
      "dc_us    \t 0.97\n",
      "dc_os    \t 0.6\n",
      "dc_smote \t 0.6\n",
      "dc_nm    \t 0.6\n",
      "Combined \t 0.98\n"
     ]
    }
   ],
   "source": [
    "# report generation of recall of all models\n",
    "print(\"Model\" , \"           Recall\")\n",
    "for i,v in res_recall.items():\n",
    "    print( i ,\"\\t\",v)"
   ]
  },
  {
   "cell_type": "code",
   "execution_count": 195,
   "metadata": {},
   "outputs": [],
   "source": [
    "# load library\n",
    "from sklearn.svm import SVC\n",
    "\n",
    "# we can add class_weight='balanced' to add panalize mistake\n",
    "# svc_model = SVC(class_weight='balanced', probability=True)\n",
    "# svc_model.fit(df_Train,Y_train)\n",
    "# svc_predict = svc_model.predict(df_Test)\n",
    "# print_eval(svc_predict,decision_tree_model_nm)"
   ]
  },
  {
   "cell_type": "code",
   "execution_count": null,
   "metadata": {},
   "outputs": [],
   "source": []
  },
  {
   "cell_type": "markdown",
   "metadata": {},
   "source": [
    "   \n",
    "### 5.  Considering the Fraud cases as anamoly and use anamoly detection methods such as:   \n",
    "> 5.1 Simple Statistical Methods : Metrics such as distribution, including mean, median, mode, and quantiles could be used to identify outliers since the definition of an anomalous data point is one that deviates by a certain standard deviation from the mean. \n",
    "       5.2 Density-Based Anomaly Detection : These include the k-nearest neighbors algorithm, Relative density of data based method known as local outlier factor (LOF) algorithm    \n",
    "       5.3 Clustering-Based Anomaly Detection : K-means algorithm  \n",
    "       5.4 Support Vector Machine-Based Anomaly Detection      \n",
    "       5.5 Isolation Forest : https://www.youtube.com/watch?v=TP3wdwD8JVY    \n",
    "       5.6 Using Auto Encoders : https://www.youtube.com/watch?v=S31E-ftRfQI\n",
    "   \n"
   ]
  },
  {
   "cell_type": "markdown",
   "metadata": {},
   "source": [
    "#### 5.1 Simple Statistical Methods: Z-score"
   ]
  },
  {
   "cell_type": "code",
   "execution_count": null,
   "metadata": {},
   "outputs": [],
   "source": [
    "# upper and lower limit calculation with z score method and handling out liers\n",
    "#data = pd.read_csv('machine_0.csv',index_col=0)\n",
    "def handle_outlier(data):\n",
    "\"\"\"The function takes the data and replaces all the outlier values o f all columns\n",
    "with '0000000001' \"\"\"\n",
    "data_outlier_handled = data.copy() \n",
    "column_names = data.columns \n",
    "total_outliers = []\n",
    "for col in column_names:\n",
    "t=0\n",
    "upper_boundary = data_outlier_handled[col].mean() + 3 * data_out lier_handled[col].std()\n",
    "lower_boundary = data_outlier_handled[col].mean() - 3 * data_out lier_handled[col].std()\n",
    "data_outlier_handled.loc[data_outlier_handled[col] > upper_bound ary,col] = 0.0000000001\n",
    "data_outlier_handled.loc[data_outlier_handled[col] < lower_bound ary,col] = 0.0000000001\n",
    "tu = data[data[col] > upper_boundary].count()[1] tl = data[data[col] < lower_boundary].count()[1]\n",
    "#total_outliers.append(round((tu+tl)/len(data),2)) #to calculate the percent of outliers handled\n",
    "#print(total_outliers) #to print the percent of outliers handled\n",
    "return data_outlier_handled"
   ]
  },
  {
   "cell_type": "markdown",
   "metadata": {},
   "source": [
    " We will deal with anomaly detection in a separate notebook"
   ]
  },
  {
   "cell_type": "code",
   "execution_count": null,
   "metadata": {},
   "outputs": [],
   "source": []
  }
 ],
 "metadata": {
  "kernelspec": {
   "display_name": "Python 3",
   "language": "python",
   "name": "python3"
  },
  "language_info": {
   "codemirror_mode": {
    "name": "ipython",
    "version": 3
   },
   "file_extension": ".py",
   "mimetype": "text/x-python",
   "name": "python",
   "nbconvert_exporter": "python",
   "pygments_lexer": "ipython3",
   "version": "3.7.7"
  }
 },
 "nbformat": 4,
 "nbformat_minor": 4
}
