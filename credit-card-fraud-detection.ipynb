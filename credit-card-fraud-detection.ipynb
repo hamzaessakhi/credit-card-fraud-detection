{
 "cells": [
  {
   "cell_type": "code",
   "execution_count": 295,
   "metadata": {},
   "outputs": [],
   "source": [
    "# importing the packages\n",
    "import datetime\n",
    "import warnings\n",
    "import numpy as np\n",
    "import pandas as pd\n",
    "import seaborn as sns\n",
    "from datetime import date\n",
    "import sklearn.exceptions\n",
    "from pylab import rcParams\n",
    "import matplotlib.pyplot as plt\n",
    "from sklearn.svm import OneClassSVM\n",
    "from imblearn.over_sampling import SMOTE\n",
    "from sklearn.ensemble import IsolationForest\n",
    "from sklearn.tree import DecisionTreeClassifier\n",
    "from sklearn.neighbors import LocalOutlierFactor\n",
    "from sklearn.metrics import plot_confusion_matrix\n",
    "from sklearn.linear_model import LogisticRegression\n",
    "from sklearn.metrics import classification_report,accuracy_score\n",
    "warnings.filterwarnings(\"ignore\", category=sklearn.exceptions.UndefinedMetricWarning)\n",
    "\n"
   ]
  },
  {
   "cell_type": "markdown",
   "metadata": {},
   "source": [
    "## 1. Loading the data"
   ]
  },
  {
   "cell_type": "markdown",
   "metadata": {},
   "source": [
    "### Acknowledgements\n",
    "Link to the data set is the kaggle link as follows:\n",
    "\n",
    "https://www.kaggle.com/kartik2112/fraud-detection"
   ]
  },
  {
   "cell_type": "code",
   "execution_count": 256,
   "metadata": {},
   "outputs": [],
   "source": [
    "# loading data\n",
    "data_train = pd.read_csv(\"fraudTrain.csv\")\n",
    "data_test = pd.read_csv(\"fraudTest.csv\")"
   ]
  },
  {
   "cell_type": "markdown",
   "metadata": {},
   "source": [
    "## 2. Exploratory Data Analysis"
   ]
  },
  {
   "cell_type": "markdown",
   "metadata": {},
   "source": [
    "#### 2.1 Data information"
   ]
  },
  {
   "cell_type": "code",
   "execution_count": 284,
   "metadata": {},
   "outputs": [
    {
     "name": "stdout",
     "output_type": "stream",
     "text": [
      "<class 'pandas.core.frame.DataFrame'>\n",
      "Int64Index: 129668 entries, 94102 to 1171139\n",
      "Data columns (total 23 columns):\n",
      " #   Column                 Non-Null Count   Dtype  \n",
      "---  ------                 --------------   -----  \n",
      " 0   Unnamed: 0             129668 non-null  int64  \n",
      " 1   trans_date_trans_time  129668 non-null  object \n",
      " 2   cc_num                 129668 non-null  int64  \n",
      " 3   merchant               129668 non-null  object \n",
      " 4   category               129668 non-null  object \n",
      " 5   amt                    129668 non-null  float64\n",
      " 6   first                  129668 non-null  object \n",
      " 7   last                   129668 non-null  object \n",
      " 8   gender                 129668 non-null  object \n",
      " 9   street                 129668 non-null  object \n",
      " 10  city                   129668 non-null  object \n",
      " 11  state                  129668 non-null  object \n",
      " 12  zip                    129668 non-null  int64  \n",
      " 13  lat                    129668 non-null  float64\n",
      " 14  long                   129668 non-null  float64\n",
      " 15  city_pop               129668 non-null  int64  \n",
      " 16  job                    129668 non-null  object \n",
      " 17  dob                    129668 non-null  object \n",
      " 18  trans_num              129668 non-null  object \n",
      " 19  unix_time              129668 non-null  int64  \n",
      " 20  merch_lat              129668 non-null  float64\n",
      " 21  merch_long             129668 non-null  float64\n",
      " 22  is_fraud               129668 non-null  int64  \n",
      "dtypes: float64(5), int64(6), object(12)\n",
      "memory usage: 23.7+ MB\n"
     ]
    }
   ],
   "source": [
    "df_train.info()"
   ]
  },
  {
   "cell_type": "markdown",
   "metadata": {},
   "source": [
    "We see that there are 22 features    \n",
    "\"is_fraud\" is the dependent variable "
   ]
  },
  {
   "cell_type": "markdown",
   "metadata": {},
   "source": [
    "#### 2.1 Shape of Data\n"
   ]
  },
  {
   "cell_type": "code",
   "execution_count": 257,
   "metadata": {},
   "outputs": [
    {
     "name": "stdout",
     "output_type": "stream",
     "text": [
      "(129668, 23) (27786, 23)\n"
     ]
    }
   ],
   "source": [
    "print(df_train.shape,df_test.shape)"
   ]
  },
  {
   "cell_type": "markdown",
   "metadata": {},
   "source": [
    "#### 2.2 Taking a fraction to run the model faster\n"
   ]
  },
  {
   "cell_type": "code",
   "execution_count": 258,
   "metadata": {},
   "outputs": [
    {
     "name": "stdout",
     "output_type": "stream",
     "text": [
      "(129668, 23) (27786, 23)\n"
     ]
    }
   ],
   "source": [
    "# taking smaller sample to run the model faster\n",
    "\n",
    "df_train= data_train.sample(frac = 0.1,random_state=1)\n",
    "df_test= data_test.sample(frac = 0.05,random_state=1)\n",
    "print(df_train.shape,df_test.shape)"
   ]
  },
  {
   "cell_type": "code",
   "execution_count": 259,
   "metadata": {},
   "outputs": [
    {
     "data": {
      "text/html": [
       "<div>\n",
       "<style scoped>\n",
       "    .dataframe tbody tr th:only-of-type {\n",
       "        vertical-align: middle;\n",
       "    }\n",
       "\n",
       "    .dataframe tbody tr th {\n",
       "        vertical-align: top;\n",
       "    }\n",
       "\n",
       "    .dataframe thead th {\n",
       "        text-align: right;\n",
       "    }\n",
       "</style>\n",
       "<table border=\"1\" class=\"dataframe\">\n",
       "  <thead>\n",
       "    <tr style=\"text-align: right;\">\n",
       "      <th></th>\n",
       "      <th>Unnamed: 0</th>\n",
       "      <th>trans_date_trans_time</th>\n",
       "      <th>cc_num</th>\n",
       "      <th>merchant</th>\n",
       "      <th>category</th>\n",
       "      <th>amt</th>\n",
       "      <th>first</th>\n",
       "      <th>last</th>\n",
       "      <th>gender</th>\n",
       "      <th>street</th>\n",
       "      <th>...</th>\n",
       "      <th>lat</th>\n",
       "      <th>long</th>\n",
       "      <th>city_pop</th>\n",
       "      <th>job</th>\n",
       "      <th>dob</th>\n",
       "      <th>trans_num</th>\n",
       "      <th>unix_time</th>\n",
       "      <th>merch_lat</th>\n",
       "      <th>merch_long</th>\n",
       "      <th>is_fraud</th>\n",
       "    </tr>\n",
       "  </thead>\n",
       "  <tbody>\n",
       "    <tr>\n",
       "      <th>94102</th>\n",
       "      <td>94102</td>\n",
       "      <td>2019-02-25 08:24:40</td>\n",
       "      <td>374497717543058</td>\n",
       "      <td>fraud_Funk Group</td>\n",
       "      <td>grocery_net</td>\n",
       "      <td>20.00</td>\n",
       "      <td>Linda</td>\n",
       "      <td>Hurst</td>\n",
       "      <td>F</td>\n",
       "      <td>31701 Tucker Square Suite 893</td>\n",
       "      <td>...</td>\n",
       "      <td>47.1709</td>\n",
       "      <td>-100.7944</td>\n",
       "      <td>1190</td>\n",
       "      <td>Designer, ceramics/pottery</td>\n",
       "      <td>1948-06-30</td>\n",
       "      <td>1595dec12f6f19ceaae9b7df0f8af5c0</td>\n",
       "      <td>1330158280</td>\n",
       "      <td>46.398331</td>\n",
       "      <td>-99.813959</td>\n",
       "      <td>0</td>\n",
       "    </tr>\n",
       "    <tr>\n",
       "      <th>198791</th>\n",
       "      <td>198791</td>\n",
       "      <td>2019-04-12 19:50:15</td>\n",
       "      <td>4428154703770710</td>\n",
       "      <td>fraud_Prosacco, Kreiger and Kovacek</td>\n",
       "      <td>home</td>\n",
       "      <td>284.88</td>\n",
       "      <td>Brittany</td>\n",
       "      <td>Guerra</td>\n",
       "      <td>F</td>\n",
       "      <td>79209 Gary Dale</td>\n",
       "      <td>...</td>\n",
       "      <td>46.5901</td>\n",
       "      <td>-117.1692</td>\n",
       "      <td>761</td>\n",
       "      <td>Chief Marketing Officer</td>\n",
       "      <td>1943-06-30</td>\n",
       "      <td>0ed26b649ed0fce94d8e632b7208dea0</td>\n",
       "      <td>1334260215</td>\n",
       "      <td>45.687331</td>\n",
       "      <td>-117.488135</td>\n",
       "      <td>0</td>\n",
       "    </tr>\n",
       "    <tr>\n",
       "      <th>1238587</th>\n",
       "      <td>1238587</td>\n",
       "      <td>2020-05-31 21:50:53</td>\n",
       "      <td>213148039875802</td>\n",
       "      <td>fraud_Langworth, Boehm and Gulgowski</td>\n",
       "      <td>shopping_net</td>\n",
       "      <td>5.07</td>\n",
       "      <td>Jill</td>\n",
       "      <td>Jacobs</td>\n",
       "      <td>F</td>\n",
       "      <td>034 Kimberly Mountains</td>\n",
       "      <td>...</td>\n",
       "      <td>27.9551</td>\n",
       "      <td>-82.2966</td>\n",
       "      <td>79613</td>\n",
       "      <td>Environmental consultant</td>\n",
       "      <td>1978-11-30</td>\n",
       "      <td>7096316ec1a4b261e8613013827abae7</td>\n",
       "      <td>1370037053</td>\n",
       "      <td>27.254081</td>\n",
       "      <td>-81.974799</td>\n",
       "      <td>0</td>\n",
       "    </tr>\n",
       "  </tbody>\n",
       "</table>\n",
       "<p>3 rows × 23 columns</p>\n",
       "</div>"
      ],
      "text/plain": [
       "         Unnamed: 0 trans_date_trans_time            cc_num  \\\n",
       "94102         94102   2019-02-25 08:24:40   374497717543058   \n",
       "198791       198791   2019-04-12 19:50:15  4428154703770710   \n",
       "1238587     1238587   2020-05-31 21:50:53   213148039875802   \n",
       "\n",
       "                                     merchant      category     amt     first  \\\n",
       "94102                        fraud_Funk Group   grocery_net   20.00     Linda   \n",
       "198791    fraud_Prosacco, Kreiger and Kovacek          home  284.88  Brittany   \n",
       "1238587  fraud_Langworth, Boehm and Gulgowski  shopping_net    5.07      Jill   \n",
       "\n",
       "           last gender                         street  ...      lat      long  \\\n",
       "94102     Hurst      F  31701 Tucker Square Suite 893  ...  47.1709 -100.7944   \n",
       "198791   Guerra      F                79209 Gary Dale  ...  46.5901 -117.1692   \n",
       "1238587  Jacobs      F         034 Kimberly Mountains  ...  27.9551  -82.2966   \n",
       "\n",
       "         city_pop                         job         dob  \\\n",
       "94102        1190  Designer, ceramics/pottery  1948-06-30   \n",
       "198791        761     Chief Marketing Officer  1943-06-30   \n",
       "1238587     79613    Environmental consultant  1978-11-30   \n",
       "\n",
       "                                trans_num   unix_time  merch_lat  merch_long  \\\n",
       "94102    1595dec12f6f19ceaae9b7df0f8af5c0  1330158280  46.398331  -99.813959   \n",
       "198791   0ed26b649ed0fce94d8e632b7208dea0  1334260215  45.687331 -117.488135   \n",
       "1238587  7096316ec1a4b261e8613013827abae7  1370037053  27.254081  -81.974799   \n",
       "\n",
       "         is_fraud  \n",
       "94102           0  \n",
       "198791          0  \n",
       "1238587         0  \n",
       "\n",
       "[3 rows x 23 columns]"
      ]
     },
     "execution_count": 259,
     "metadata": {},
     "output_type": "execute_result"
    }
   ],
   "source": [
    "df_train.head(3)"
   ]
  },
  {
   "cell_type": "markdown",
   "metadata": {},
   "source": [
    "#### 2.3 Checking the null values\n"
   ]
  },
  {
   "cell_type": "code",
   "execution_count": 263,
   "metadata": {},
   "outputs": [
    {
     "data": {
      "text/plain": [
       "Unnamed: 0               0\n",
       "trans_date_trans_time    0\n",
       "cc_num                   0\n",
       "merchant                 0\n",
       "category                 0\n",
       "amt                      0\n",
       "first                    0\n",
       "last                     0\n",
       "gender                   0\n",
       "street                   0\n",
       "city                     0\n",
       "state                    0\n",
       "zip                      0\n",
       "lat                      0\n",
       "long                     0\n",
       "city_pop                 0\n",
       "job                      0\n",
       "dob                      0\n",
       "trans_num                0\n",
       "unix_time                0\n",
       "merch_lat                0\n",
       "merch_long               0\n",
       "is_fraud                 0\n",
       "dtype: int64"
      ]
     },
     "execution_count": 263,
     "metadata": {},
     "output_type": "execute_result"
    }
   ],
   "source": [
    "df_train.isnull().sum()\n"
   ]
  },
  {
   "cell_type": "code",
   "execution_count": 264,
   "metadata": {},
   "outputs": [
    {
     "data": {
      "text/plain": [
       "Unnamed: 0               0\n",
       "trans_date_trans_time    0\n",
       "cc_num                   0\n",
       "merchant                 0\n",
       "category                 0\n",
       "amt                      0\n",
       "first                    0\n",
       "last                     0\n",
       "gender                   0\n",
       "street                   0\n",
       "city                     0\n",
       "state                    0\n",
       "zip                      0\n",
       "lat                      0\n",
       "long                     0\n",
       "city_pop                 0\n",
       "job                      0\n",
       "dob                      0\n",
       "trans_num                0\n",
       "unix_time                0\n",
       "merch_lat                0\n",
       "merch_long               0\n",
       "is_fraud                 0\n",
       "dtype: int64"
      ]
     },
     "execution_count": 264,
     "metadata": {},
     "output_type": "execute_result"
    }
   ],
   "source": [
    "df_test.isnull().sum()"
   ]
  },
  {
   "cell_type": "markdown",
   "metadata": {},
   "source": [
    "We see that no null values are present."
   ]
  },
  {
   "cell_type": "markdown",
   "metadata": {},
   "source": [
    "#### 2.4 Correlation Matrix\n"
   ]
  },
  {
   "cell_type": "code",
   "execution_count": 246,
   "metadata": {},
   "outputs": [
    {
     "data": {
      "image/png": "[encoded data removed]",
      "text/plain": [
       "<Figure size 1080x1080 with 2 Axes>"
      ]
     },
     "metadata": {
      "needs_background": "light"
     },
     "output_type": "display_data"
    }
   ],
   "source": [
    "#get correlations of each features in dataset\n",
    "corrmat = df_train.corr()\n",
    "top_corr_features = corrmat.index\n",
    "plt.figure(figsize=(15,15))\n",
    "\n",
    "#plot heat map\n",
    "g=sns.heatmap(df_train[top_corr_features].corr(),annot=True,cmap=\"RdYlGn\")"
   ]
  },
  {
   "cell_type": "markdown",
   "metadata": {},
   "source": [
    "#### 2.5 Histograms"
   ]
  },
  {
   "cell_type": "code",
   "execution_count": 260,
   "metadata": {},
   "outputs": [
    {
     "data": {
      "image/png": "[encoded data removed]",
      "text/plain": [
       "<Figure size 1080x1080 with 12 Axes>"
      ]
     },
     "metadata": {
      "needs_background": "light"
     },
     "output_type": "display_data"
    }
   ],
   "source": [
    "#visual representation of the data using histograms \n",
    "df_train.hist(figsize = (15, 15))\n",
    "plt.show()"
   ]
  },
  {
   "cell_type": "markdown",
   "metadata": {},
   "source": [
    "#### 2.6 Plotting the classes "
   ]
  },
  {
   "cell_type": "code",
   "execution_count": 271,
   "metadata": {},
   "outputs": [
    {
     "data": {
      "text/plain": [
       "Text(0, 0.5, 'Frequency')"
      ]
     },
     "execution_count": 271,
     "metadata": {},
     "output_type": "execute_result"
    },
    {
     "data": {
      "image/png": "[encoded data removed]",
      "text/plain": [
       "<Figure size 360x360 with 1 Axes>"
      ]
     },
     "metadata": {
      "needs_background": "light"
     },
     "output_type": "display_data"
    }
   ],
   "source": [
    "# plotting the classes\n",
    "plt.figure(figsize=(5,5))\n",
    "count_classes = pd.value_counts(df_train['is_fraud'], sort = True)\n",
    "count_classes.plot(kind = 'bar', rot=0)\n",
    "plt.title(\"Transaction Class Distribution\")\n",
    "LABELS = ['Normal','Fraud']\n",
    "plt.xticks(range(2), LABELS)\n",
    "plt.xlabel(\"Class of transaction\")\n",
    "plt.ylabel(\"Frequency\")"
   ]
  },
  {
   "cell_type": "markdown",
   "metadata": {},
   "source": [
    "We see that data is imbalanced    \n",
    "#### 2.7  Getting the Fraud and the Normal  transaction numbers for test and train dataset\n"
   ]
  },
  {
   "cell_type": "code",
   "execution_count": 289,
   "metadata": {},
   "outputs": [
    {
     "name": "stdout",
     "output_type": "stream",
     "text": [
      "Normal cases in train set : 128963 \n",
      "Fraud cases in train set : 705\n",
      "Normal cases in test set : 27656 \n",
      "Fraud cases in test set : 130\n"
     ]
    }
   ],
   "source": [
    "## Get the Fraud and the normal  transaction numbers for test and train dataset \n",
    "\n",
    "fraud_train = df_train[df_train['is_fraud']==1]\n",
    "normal_train = df_train[df_train['is_fraud']==0]\n",
    "fraud_test = df_test[df_test['is_fraud']==1]\n",
    "normal_test = df_test[df_test['is_fraud']==0]\n",
    "\n",
    "print(\"Normal cases in train set :\",len(df_train)-len(fraud_train),\"\\nFraud cases in train set :\",len(fraud_train))\n",
    "print(\"Normal cases in test set :\",len(df_test)-len(fraud_test),\"\\nFraud cases in test set :\",len(fraud_test))\n"
   ]
  },
  {
   "cell_type": "markdown",
   "metadata": {},
   "source": [
    "\n",
    "## 3. Data transformation and feature engineering"
   ]
  },
  {
   "cell_type": "markdown",
   "metadata": {},
   "source": [
    "\n",
    "From the exploratory data Analysis we make the following observations:   \n",
    "\n",
    "1. The first column contains just the indices and is not useful so we will drop it.   \n",
    "2. The third column with customer card number is also not useful , so we will drop it. \n",
    "3. \"first name\" and \"last name\" can also be dropped.  \n",
    "4. Transaction number - is it really needed? can be dropped.\n",
    "5. Date time column can be used to calculate the age of the customer\n"
   ]
  },
  {
   "cell_type": "markdown",
   "metadata": {},
   "source": [
    "#### 3.1 Dropping the columns not needed\n"
   ]
  },
  {
   "cell_type": "code",
   "execution_count": 291,
   "metadata": {},
   "outputs": [],
   "source": [
    "# function to drop tbe columns\n",
    "def dropCol(data):\n",
    "    col_to_drop = ['trans_date_trans_time','Unnamed: 0','cc_num','first','last','trans_num']\n",
    "    res = data.drop(col_to_drop,axis = 1)\n",
    "    return res\n"
   ]
  },
  {
   "cell_type": "code",
   "execution_count": 292,
   "metadata": {},
   "outputs": [
    {
     "name": "stdout",
     "output_type": "stream",
     "text": [
      "(129668, 17) (27786, 17)\n"
     ]
    }
   ],
   "source": [
    "# dropping the columns\n",
    "# dropping the columns ['trans_date_trans_time','Unnamed: 0','cc_num','first','last','trans_num']\n",
    "# train data set\n",
    "df_train = dropCol(df_train)\n",
    "# test data set\n",
    "df_test = dropCol(df_test)\n",
    "\n",
    "print ( df_train.shape, df_test.shape)"
   ]
  },
  {
   "cell_type": "markdown",
   "metadata": {},
   "source": [
    "#### 3.2 Dropping the columns not needed\n"
   ]
  },
  {
   "cell_type": "code",
   "execution_count": 294,
   "metadata": {},
   "outputs": [
    {
     "name": "stdout",
     "output_type": "stream",
     "text": [
      "(129668, 16) (129668,) (27786, 16) (27786,)\n"
     ]
    }
   ],
   "source": [
    "#Create independent and Dependent Features\n",
    "columns = df_train.columns.tolist()\n",
    "\n",
    "# removing the dependent feature is_fraud\n",
    "columns = [c for c in columns if c not in [\"is_fraud\"]]\n",
    "\n",
    "X_train = df_train[columns]\n",
    "Y_train = df_train['is_fraud']\n",
    "X_test = df_test[columns]\n",
    "Y_test = df_test['is_fraud']\n",
    "print ( X_train.shape, Y_train.shape,X_test.shape, Y_test.shape)"
   ]
  },
  {
   "cell_type": "code",
   "execution_count": 187,
   "metadata": {},
   "outputs": [],
   "source": [
    "\n",
    "#rcParams['figure.figsize'] = 14, 8\n",
    "#RANDOM_SEED = 42\n",
    "#LABELS = [\"Normal\", \"Fraud\"]"
   ]
  },
  {
   "cell_type": "markdown",
   "metadata": {},
   "source": [
    "#### 3.3 Converting dob to age\n"
   ]
  },
  {
   "cell_type": "code",
   "execution_count": 296,
   "metadata": {
    "scrolled": true
   },
   "outputs": [
    {
     "name": "stdout",
     "output_type": "stream",
     "text": [
      "(129668, 16) (27786, 16)\n"
     ]
    }
   ],
   "source": [
    "# function to convert dob to years\n",
    "def age_years(born):\n",
    "    return 2019 - int(born[0:4])\n",
    "\n",
    "# replacing the dob column with age column in our data set for test and train\n",
    "X_train['age'] = X_train['dob'].apply(lambda x: age_years(x))\n",
    "X_train = X_train.drop(['dob'],axis =1)\n",
    "\n",
    "X_test['age'] = X_test['dob'].apply(lambda x: age_years(x))\n",
    "X_test = X_test.drop(['dob'],axis =1)\n",
    "print(X_train.shape,X_test.shape)\n"
   ]
  },
  {
   "cell_type": "markdown",
   "metadata": {},
   "source": [
    "#### 3.4 Converting the categorical features to numerical by one- hot - encoding\n",
    "\n"
   ]
  },
  {
   "cell_type": "code",
   "execution_count": 303,
   "metadata": {},
   "outputs": [
    {
     "data": {
      "text/plain": [
       "(157454, 16)"
      ]
     },
     "execution_count": 303,
     "metadata": {},
     "output_type": "execute_result"
    }
   ],
   "source": [
    "# concanating the test and train data so that number of columns remain the same in both the data sets\n",
    "final_df = pd.concat([X_train,X_test],axis=0)\n",
    "final_df.shape\n"
   ]
  },
  {
   "cell_type": "code",
   "execution_count": 190,
   "metadata": {},
   "outputs": [
    {
     "data": {
      "text/plain": [
       "['merchant', 'category', 'gender', 'street', 'city', 'state', 'job']"
      ]
     },
     "execution_count": 190,
     "metadata": {},
     "output_type": "execute_result"
    }
   ],
   "source": [
    "# creating the list of categorical variables\n",
    "categorical_features =[feature for feature in X_train.columns if final_df[feature].dtypes == 'O']\n",
    "categorical_features"
   ]
  },
  {
   "cell_type": "code",
   "execution_count": 191,
   "metadata": {},
   "outputs": [
    {
     "name": "stdout",
     "output_type": "stream",
     "text": [
      "Distinct categories for merchant  are 693\n",
      "Distinct categories for category  are 14\n",
      "Distinct categories for gender  are 2\n",
      "Distinct categories for street  are 960\n",
      "Distinct categories for city  are 872\n",
      "Distinct categories for state  are 51\n",
      "Distinct categories for job  are 487\n"
     ]
    }
   ],
   "source": [
    "#observing the unique values in each feature\n",
    "for feature in categorical_features:\n",
    "    print(\"Distinct categories for {}  are {}\".format(feature,len(final_df[feature].unique())))"
   ]
  },
  {
   "cell_type": "code",
   "execution_count": 301,
   "metadata": {},
   "outputs": [],
   "source": [
    "# function to convert categorical variables to one hot encoding\n",
    "def category_onehot_multcols(data,multcolumns):\n",
    "    df_final = data\n",
    "    i=0\n",
    "    for fields in multcolumns:\n",
    "        print(fields)\n",
    "        df1=pd.get_dummies(final_df[fields],drop_first=True)\n",
    "        final_df.drop([fields],axis=1,inplace=True)\n",
    "        if i==0:\n",
    "            df_final=df1.copy()\n",
    "        else:           \n",
    "            df_final=pd.concat([df_final,df1],axis=1)\n",
    "        i=i+1             \n",
    "    df_final=pd.concat([final_df,df_final],axis=1)\n",
    "    return df_final"
   ]
  },
  {
   "cell_type": "code",
   "execution_count": 304,
   "metadata": {},
   "outputs": [
    {
     "name": "stdout",
     "output_type": "stream",
     "text": [
      "merchant\n",
      "category\n",
      "gender\n",
      "street\n",
      "city\n",
      "state\n",
      "job\n"
     ]
    }
   ],
   "source": [
    "# applying the one hot encoding\n",
    "final_df = category_onehot_multcols(final_df, categorical_features)\n"
   ]
  },
  {
   "cell_type": "code",
   "execution_count": 305,
   "metadata": {},
   "outputs": [
    {
     "data": {
      "text/plain": [
       "(157454, 3077)"
      ]
     },
     "execution_count": 305,
     "metadata": {},
     "output_type": "execute_result"
    }
   ],
   "source": [
    "# removing duplicated columns\n",
    "final_df =final_df.loc[:,~final_df.columns.duplicated()]\n",
    "final_df.shape"
   ]
  },
  {
   "cell_type": "code",
   "execution_count": 308,
   "metadata": {},
   "outputs": [
    {
     "name": "stdout",
     "output_type": "stream",
     "text": [
      "(129668, 3077) (27786, 3077)\n"
     ]
    }
   ],
   "source": [
    "# separating the test and training data\n",
    "df_Train=final_df.iloc[:129668,:]\n",
    "df_Test=final_df.iloc[129668:,:]\n",
    "print(df_Train.shape,df_Test.shape)"
   ]
  },
  {
   "cell_type": "code",
   "execution_count": 312,
   "metadata": {},
   "outputs": [
    {
     "name": "stdout",
     "output_type": "stream",
     "text": [
      "0    128963\n",
      "1       705\n",
      "Name: is_fraud, dtype: int64 \n",
      " 0    27656\n",
      "1      130\n",
      "Name: is_fraud, dtype: int64\n"
     ]
    }
   ],
   "source": [
    "print(Y_train.value_counts(),\"\\n\",Y_test.value_counts())"
   ]
  },
  {
   "cell_type": "code",
   "execution_count": 315,
   "metadata": {},
   "outputs": [
    {
     "name": "stdout",
     "output_type": "stream",
     "text": [
      "(129668, 3077) (27786, 3077) (129668,) (27786,)\n"
     ]
    }
   ],
   "source": [
    "# files ready for testing on models\n",
    "print(df_Train.shape, df_Test.shape, Y_train.shape, Y_test.shape)\n"
   ]
  },
  {
   "cell_type": "code",
   "execution_count": 327,
   "metadata": {},
   "outputs": [
    {
     "data": {
      "text/plain": [
       "0.005466684242767306"
      ]
     },
     "execution_count": 327,
     "metadata": {},
     "output_type": "execute_result"
    }
   ],
   "source": [
    "705/128963"
   ]
  },
  {
   "cell_type": "markdown",
   "metadata": {},
   "source": [
    "As we see that the data is skewed, i.e the number of samples for class 1 is less tha 0.5% of the samples of class 0.\n",
    "In this case the the machine learning algorithms with not predict the Fraud cases correctly.\n",
    "To predict the Fraud correctly we have two approaches:   \n",
    "1. Handle the imbalance in Data and apply various Machine Learning algorithms    \n",
    "2. Predict Fraud as outlier/Anomaly  \n",
    "\n",
    "We proceed for the first method first.\n"
   ]
  },
  {
   "cell_type": "markdown",
   "metadata": {},
   "source": [
    "## 4. Handling the Imbalance in data \n",
    "\n",
    "There can be two approaches to predict the the fraud cases:   \n",
    "4.1. Handle the Imbalance in data by one of the following methods:   \n",
    "> 4.1.1 Under Sampling   \n",
    "       4.1.2 Over Sampling   \n",
    "       4.1.3 SMOTE (Synthetic Minority over sampling technique)   \n",
    "       4.1.4 Near Miss algorighm ( under sampling )   \n",
    "       4.1.5 Ensemble method \n",
    "   \n",
    "\n",
    "\n"
   ]
  },
  {
   "cell_type": "markdown",
   "metadata": {},
   "source": [
    "First we apply the model without handling the imbalance. We will use Logistic Regression and Decision Tree classifier for our exploration of the method to apply to handle imbalance in data. "
   ]
  },
  {
   "cell_type": "code",
   "execution_count": 316,
   "metadata": {},
   "outputs": [
    {
     "data": {
      "text/plain": [
       "LogisticRegression()"
      ]
     },
     "execution_count": 316,
     "metadata": {},
     "output_type": "execute_result"
    }
   ],
   "source": [
    "# Logistic Regression\n",
    "model_LR = LogisticRegression()\n",
    "model_LR.fit(df_Train,Y_train)\n",
    "y_pred = model_LR.predict(df_Test)"
   ]
  },
  {
   "cell_type": "code",
   "execution_count": 321,
   "metadata": {},
   "outputs": [],
   "source": [
    "#Let's evaluate our model \n",
    "def print_eval(y_pred,model):\n",
    "    print(\"Training Accuracy: \",model.score(df_Train, Y_train))\n",
    "    print(\"Testing Accuracy: \", model.score(df_Test, Y_test))\n",
    "    cm = confusion_matrix(Y_test, y_pred)\n",
    "    print(cm)\n",
    "    print(classification_report(Y_test,y_pred))\n"
   ]
  },
  {
   "cell_type": "code",
   "execution_count": 322,
   "metadata": {},
   "outputs": [
    {
     "name": "stdout",
     "output_type": "stream",
     "text": [
      "Training Accuracy:  0.9945630379122066\n",
      "Testing Accuracy:  0.9953213848700785\n",
      "[[27656     0]\n",
      " [  130     0]]\n",
      "              precision    recall  f1-score   support\n",
      "\n",
      "           0       1.00      1.00      1.00     27656\n",
      "           1       0.00      0.00      0.00       130\n",
      "\n",
      "    accuracy                           1.00     27786\n",
      "   macro avg       0.50      0.50      0.50     27786\n",
      "weighted avg       0.99      1.00      0.99     27786\n",
      "\n"
     ]
    }
   ],
   "source": [
    "print_eval(y_pred,model_LR)"
   ]
  },
  {
   "cell_type": "code",
   "execution_count": 323,
   "metadata": {},
   "outputs": [
    {
     "name": "stdout",
     "output_type": "stream",
     "text": [
      "Training Accuracy:  1.0\n",
      "Testing Accuracy:  0.9866839415533002\n",
      "[[27333   323]\n",
      " [   47    83]]\n",
      "              precision    recall  f1-score   support\n",
      "\n",
      "           0       1.00      0.99      0.99     27656\n",
      "           1       0.20      0.64      0.31       130\n",
      "\n",
      "    accuracy                           0.99     27786\n",
      "   macro avg       0.60      0.81      0.65     27786\n",
      "weighted avg       0.99      0.99      0.99     27786\n",
      "\n"
     ]
    }
   ],
   "source": [
    "# decision tree\n",
    "decision_tree_model = DecisionTreeClassifier(random_state=137)\n",
    "decision_tree_model.fit(df_Train,Y_train)\n",
    "y_pred = decision_tree_model.predict(df_Test)\n",
    "print_eval(y_pred,decision_tree_model)"
   ]
  },
  {
   "cell_type": "markdown",
   "metadata": {},
   "source": [
    "#### Metric Analysis\n",
    "\n",
    "1. **True  Positives** : Correctly classified as Safe Transaction     = 27333 (.99)   \n",
    "2. **False Negitives** : Mis-classified Safe Transaction              = 323 (Harmless)   \n",
    "3. **False Positives** : Mis-classified as Fraud Transactions         = 47 (Dangerous )   \n",
    "4. **True Negatives**  : Correctly classified as Fraud Transactions   = 83 (out of 130 -> .64)   \n",
    "5. **Accuracy**        : .99   \n",
    "\n",
    "Here the accuracy is not taken into account as it is misleading.   \n",
    "We want to get maximum True Negatives i.e we want to predict the Fraud tranactions with maximum accuracy. This can be done by monitoring the Recall.\n",
    "\n",
    "So when the data is imbalanced the Recall is    \n",
    "class 0 (Safe) : 0.99   \n",
    "class 1 (Fraud): 0.64   \n",
    "\n",
    "**We want the recall of class 1 to be close to 1.00**    \n",
    "**We can also use f1-score as a metric to observe**\n",
    "\n",
    "\n"
   ]
  },
  {
   "cell_type": "markdown",
   "metadata": {},
   "source": [
    "### 4.1.1 Implementing Undersampling\n"
   ]
  },
  {
   "cell_type": "code",
   "execution_count": 328,
   "metadata": {},
   "outputs": [
    {
     "name": "stdout",
     "output_type": "stream",
     "text": [
      "(129668,) (129668, 3077)\n"
     ]
    },
    {
     "data": {
      "text/plain": [
       "(129668, 3078)"
      ]
     },
     "execution_count": 328,
     "metadata": {},
     "output_type": "execute_result"
    }
   ],
   "source": [
    "# adding the dependent feature in the train data set\n",
    "print(Y_train.shape,df_Train.shape)\n",
    "df_train = pd.concat([df_Train,Y_train],axis = 1)\n",
    "df_train.shape\n"
   ]
  },
  {
   "cell_type": "code",
   "execution_count": 329,
   "metadata": {},
   "outputs": [
    {
     "name": "stdout",
     "output_type": "stream",
     "text": [
      "128963 705\n",
      "(128963, 3078) (705, 3078)\n"
     ]
    }
   ],
   "source": [
    "# Class count\n",
    "count_class_0, count_class_1 = df_train.is_fraud.value_counts()\n",
    "print(count_class_0, count_class_1)\n",
    "# Divide by class\n",
    "df_class_0 = df_train[df_train['is_fraud'] == 0]\n",
    "df_class_1 = df_train[df_train['is_fraud'] == 1]\n",
    "print(df_class_0.shape,df_class_1.shape)"
   ]
  },
  {
   "cell_type": "code",
   "execution_count": 330,
   "metadata": {},
   "outputs": [
    {
     "name": "stdout",
     "output_type": "stream",
     "text": [
      "Random under-sampling:\n",
      "1    705\n",
      "0    705\n",
      "Name: is_fraud, dtype: int64\n"
     ]
    }
   ],
   "source": [
    "# Undersample 0-class and concat the DataFrames of both class\n",
    "df_class_0_under = df_class_0.sample(count_class_1)\n",
    "df_train_under_sample = pd.concat([df_class_0_under, df_class_1], axis=0)\n",
    "\n",
    "print('Random under-sampling:')\n",
    "print(df_train_under_sample.is_fraud.value_counts())\n"
   ]
  },
  {
   "cell_type": "code",
   "execution_count": 334,
   "metadata": {},
   "outputs": [
    {
     "name": "stdout",
     "output_type": "stream",
     "text": [
      "Training Accuracy:  0.8673921090785699\n",
      "Testing Accuracy:  0.8688548189735839\n",
      "[[27656     0]\n",
      " [  130     0]]\n",
      "              precision    recall  f1-score   support\n",
      "\n",
      "           0       1.00      1.00      1.00     27656\n",
      "           1       0.00      0.00      0.00       130\n",
      "\n",
      "    accuracy                           1.00     27786\n",
      "   macro avg       0.50      0.50      0.50     27786\n",
      "weighted avg       0.99      1.00      0.99     27786\n",
      "\n"
     ]
    }
   ],
   "source": [
    "# training and predictions : Logistic Regression\n",
    "X = df_train_under_sample.drop('is_fraud',axis='columns')\n",
    "y = df_train_under_sample['is_fraud']\n",
    "model_LR_under_sample = LogisticRegression()\n",
    "model_LR_under_sample.fit(X,y)\n",
    "y_pred = model_LR.predict(df_Test)\n",
    "print_eval(y_pred,model_LR_under_sample)"
   ]
  },
  {
   "cell_type": "code",
   "execution_count": 338,
   "metadata": {},
   "outputs": [
    {
     "name": "stdout",
     "output_type": "stream",
     "text": [
      "Training Accuracy:  0.939399080729247\n",
      "Testing Accuracy:  0.9397898222126251\n",
      "[[25990  1666]\n",
      " [    7   123]]\n",
      "              precision    recall  f1-score   support\n",
      "\n",
      "           0       1.00      0.94      0.97     27656\n",
      "           1       0.07      0.95      0.13       130\n",
      "\n",
      "    accuracy                           0.94     27786\n",
      "   macro avg       0.53      0.94      0.55     27786\n",
      "weighted avg       1.00      0.94      0.96     27786\n",
      "\n"
     ]
    }
   ],
   "source": [
    "# training and predictions : decision tree\n",
    "decision_tree_model_undersample = DecisionTreeClassifier(random_state=137)\n",
    "decision_tree_model_undersample.fit(X,y)\n",
    "y_pred = decision_tree_model_undersample.predict(df_Test)\n",
    "print_eval(y_pred,decision_tree_model_undersample)"
   ]
  },
  {
   "cell_type": "markdown",
   "metadata": {},
   "source": [
    "### Comparision of results and Observations :\n",
    "\n",
    "|                                       | Class-0 Recall| Class-1 Recall|Class-0 f1-score| Class-1 f1-score|\n",
    "|---------------------------------------|---------------|---------------|----------------|-----------------|\n",
    "|Logistic Regression                    |     1.00      |     0.00      |     1.00       |      0.00       |\n",
    "|Decision Tree Classifier               |     0.99      |     0.64      |     0.99       |      0.31       |\n",
    "|Logistic Regression Under Sampling     |     1.00      |     0.00      |     1.00       |      0.50       |\n",
    "|Decision Tree Classifier Under Sampling|     0.94      |     0.95      |     0.97       |      0.13       |\n"
   ]
  },
  {
   "cell_type": "markdown",
   "metadata": {},
   "source": [
    "### 4.1.2 Implementing Oversampling"
   ]
  },
  {
   "cell_type": "code",
   "execution_count": 339,
   "metadata": {},
   "outputs": [
    {
     "name": "stdout",
     "output_type": "stream",
     "text": [
      "128963 705\n",
      "(128963, 3078) (705, 3078)\n"
     ]
    }
   ],
   "source": [
    "# Class count\n",
    "count_class_0, count_class_1 = df_train.is_fraud.value_counts()\n",
    "print(count_class_0, count_class_1)\n",
    "# Divide by class\n",
    "df_class_0 = df_train[df_train['is_fraud'] == 0]\n",
    "df_class_1 = df_train[df_train['is_fraud'] == 1]\n",
    "print(df_class_0.shape,df_class_1.shape)"
   ]
  },
  {
   "cell_type": "code",
   "execution_count": 341,
   "metadata": {},
   "outputs": [
    {
     "name": "stdout",
     "output_type": "stream",
     "text": [
      "Random over-sampling:\n",
      "1    128963\n",
      "0    128963\n",
      "Name: is_fraud, dtype: int64\n"
     ]
    }
   ],
   "source": [
    "# Oversample 1-class and concat the DataFrames of both class\n",
    "df_class_1_over = df_class_1.sample(count_class_0,replace=True)\n",
    "df_train_over_sample = pd.concat([df_class_0, df_class_1_over], axis=0)\n",
    "\n",
    "print('Random over-sampling:')\n",
    "\n",
    "print(df_train_over_sample.is_fraud.value_counts())"
   ]
  },
  {
   "cell_type": "code",
   "execution_count": 342,
   "metadata": {},
   "outputs": [
    {
     "name": "stdout",
     "output_type": "stream",
     "text": [
      "Training Accuracy:  0.8591479779128235\n",
      "Testing Accuracy:  0.8621608004030807\n",
      "[[23944  3712]\n",
      " [  118    12]]\n",
      "              precision    recall  f1-score   support\n",
      "\n",
      "           0       1.00      0.87      0.93     27656\n",
      "           1       0.00      0.09      0.01       130\n",
      "\n",
      "    accuracy                           0.86     27786\n",
      "   macro avg       0.50      0.48      0.47     27786\n",
      "weighted avg       0.99      0.86      0.92     27786\n",
      "\n"
     ]
    }
   ],
   "source": [
    "# training and predictions : Logistic Regression\n",
    "X = df_train_over_sample.drop('is_fraud',axis='columns')\n",
    "y = df_train_over_sample['is_fraud']\n",
    "model_LR_over_sample = LogisticRegression()\n",
    "model_LR_over_sample.fit(X,y)\n",
    "y_pred = model_LR_over_sample.predict(df_Test)\n",
    "print_eval(y_pred,model_LR_over_sample)"
   ]
  },
  {
   "cell_type": "code",
   "execution_count": 344,
   "metadata": {},
   "outputs": [
    {
     "name": "stdout",
     "output_type": "stream",
     "text": [
      "Training Accuracy:  1.0\n",
      "Testing Accuracy:  0.9938098322896423\n",
      "[[27580    76]\n",
      " [   96    34]]\n",
      "              precision    recall  f1-score   support\n",
      "\n",
      "           0       1.00      1.00      1.00     27656\n",
      "           1       0.31      0.26      0.28       130\n",
      "\n",
      "    accuracy                           0.99     27786\n",
      "   macro avg       0.65      0.63      0.64     27786\n",
      "weighted avg       0.99      0.99      0.99     27786\n",
      "\n"
     ]
    }
   ],
   "source": [
    "# training and predictions : decision tree\n",
    "decision_tree_model_over_sample = DecisionTreeClassifier(random_state=137)\n",
    "decision_tree_model_over_sample.fit(X,y)\n",
    "y_pred = decision_tree_model_over_sample.predict(df_Test)\n",
    "print_eval(y_pred,decision_tree_model_over_sample)"
   ]
  },
  {
   "cell_type": "markdown",
   "metadata": {},
   "source": [
    "### Comparision of results and Observations :\n",
    "\n",
    "|                                       | Class-0 Recall| Class-1 Recall|Class-0 f1-score| Class-1 f1-score|\n",
    "|---------------------------------------|---------------|---------------|----------------|-----------------|\n",
    "|Logistic Regression                    |     1.00      |     0.00      |     1.00       |      0.00       |\n",
    "|Decision Tree Classifier               |     0.99      |     0.64      |     0.99       |      0.31       |\n",
    "|Logistic Regression Under Sampling     |     1.00      |     0.00      |     1.00       |      0.50       |\n",
    "|Decision Tree Classifier Under Sampling|     0.94      |   **0.95**    |     0.97       |      0.13       |\n",
    "|Logistic Regression Over Sampling      |     0.87      |     0.09      |     0.93       |      0.01       |\n",
    "|Decision Tree Classifier Over Sampling |     1.00      |     0.26      |     1.00       |      0.28       |\n",
    "\n",
    "**We see that Under sampling gives better results till now**\n"
   ]
  },
  {
   "cell_type": "markdown",
   "metadata": {},
   "source": [
    "### 4.1.3 Implementing SMOTE (Synthetic Minority Over Sampling Technique)"
   ]
  },
  {
   "cell_type": "code",
   "execution_count": 345,
   "metadata": {},
   "outputs": [
    {
     "data": {
      "text/plain": [
       "1    128963\n",
       "0    128963\n",
       "Name: is_fraud, dtype: int64"
      ]
     },
     "execution_count": 345,
     "metadata": {},
     "output_type": "execute_result"
    }
   ],
   "source": [
    "# smote implementation\n",
    "smote = SMOTE(sampling_strategy = 'minority')\n",
    "X_sm, y_sm = smote.fit_sample(X, y)\n",
    "y_sm.value_counts()"
   ]
  },
  {
   "cell_type": "code",
   "execution_count": 346,
   "metadata": {},
   "outputs": [
    {
     "name": "stdout",
     "output_type": "stream",
     "text": [
      "Training Accuracy:  0.8591479779128235\n",
      "Testing Accuracy:  0.8621608004030807\n",
      "[[27580    76]\n",
      " [   96    34]]\n",
      "              precision    recall  f1-score   support\n",
      "\n",
      "           0       1.00      1.00      1.00     27656\n",
      "           1       0.31      0.26      0.28       130\n",
      "\n",
      "    accuracy                           0.99     27786\n",
      "   macro avg       0.65      0.63      0.64     27786\n",
      "weighted avg       0.99      0.99      0.99     27786\n",
      "\n"
     ]
    }
   ],
   "source": [
    "# training and predictions : Logistic Regression\n",
    "\n",
    "model_LR_smote = LogisticRegression()\n",
    "model_LR_smote.fit(X_sm,y_sm)\n",
    "y_predict = model_LR_smote.predict(df_Test)\n",
    "print_eval(y_pred,model_LR_smote)"
   ]
  },
  {
   "cell_type": "code",
   "execution_count": 347,
   "metadata": {
    "scrolled": true
   },
   "outputs": [
    {
     "name": "stdout",
     "output_type": "stream",
     "text": [
      "Training Accuracy:  1.0\n",
      "Testing Accuracy:  0.9938098322896423\n",
      "[[27580    76]\n",
      " [   96    34]]\n",
      "              precision    recall  f1-score   support\n",
      "\n",
      "           0       1.00      1.00      1.00     27656\n",
      "           1       0.31      0.26      0.28       130\n",
      "\n",
      "    accuracy                           0.99     27786\n",
      "   macro avg       0.65      0.63      0.64     27786\n",
      "weighted avg       0.99      0.99      0.99     27786\n",
      "\n"
     ]
    }
   ],
   "source": [
    "# training and predictions : decision tree\n",
    "decision_tree_model_smote = DecisionTreeClassifier(random_state=137)\n",
    "decision_tree_model_smote.fit(X_sm,y_sm)\n",
    "y_pred = decision_tree_model_smote.predict(df_Test)\n",
    "print_eval(y_pred,decision_tree_model_smote)"
   ]
  },
  {
   "cell_type": "markdown",
   "metadata": {},
   "source": [
    "### Comparision of results and Observations :\n",
    "\n",
    "|                                       | Class-0 Recall| Class-1 Recall|Class-0 f1-score| Class-1 f1-score|\n",
    "|---------------------------------------|---------------|---------------|----------------|-----------------|\n",
    "|Logistic Regression                    |     1.00      |     0.00      |     1.00       |      0.00       |\n",
    "|Decision Tree Classifier               |     0.99      |     0.64      |     0.99       |      0.31       |\n",
    "|Logistic Regression Under Sampling     |     1.00      |     0.00      |     1.00       |      0.50       |\n",
    "|Decision Tree Classifier Under Sampling|     0.94      |   **0.95**    |     0.97       |      0.13       |\n",
    "|Logistic Regression Over Sampling      |     0.87      |     0.09      |     0.93       |      0.01       |\n",
    "|Decision Tree Classifier Over Sampling |     1.00      |     0.26      |     1.00       |      0.28       |\n",
    "|Logistic Regression SMOTE              |     1.00      |     0.26      |     1.00       |      0.28       |\n",
    "|Decision Tree ClassifierSMOTE          |     1.00      |     0.26      |     1.00       |      0.28       |\n",
    "\n",
    "**We see that Under sampling gives better results till now**"
   ]
  },
  {
   "cell_type": "code",
   "execution_count": 226,
   "metadata": {},
   "outputs": [],
   "source": [
    "from imblearn.under_sampling import NearMiss \n",
    "nr = NearMiss() \n",
    "  \n",
    "X_train_miss, y_train_miss = nr.fit_sample(X, y) "
   ]
  },
  {
   "cell_type": "code",
   "execution_count": 227,
   "metadata": {},
   "outputs": [
    {
     "data": {
      "text/plain": [
       "1    128963\n",
       "0    128963\n",
       "Name: is_fraud, dtype: int64"
      ]
     },
     "execution_count": 227,
     "metadata": {},
     "output_type": "execute_result"
    }
   ],
   "source": [
    "y_train_miss.value_counts()"
   ]
  },
  {
   "cell_type": "code",
   "execution_count": 228,
   "metadata": {},
   "outputs": [
    {
     "name": "stdout",
     "output_type": "stream",
     "text": [
      "              precision    recall  f1-score   support\n",
      "\n",
      "           0       1.00      0.87      0.93     55332\n",
      "           1       0.00      0.08      0.01       240\n",
      "\n",
      "    accuracy                           0.86     55572\n",
      "   macro avg       0.50      0.47      0.47     55572\n",
      "weighted avg       0.99      0.86      0.92     55572\n",
      "\n"
     ]
    }
   ],
   "source": [
    "# training and predictions : Logistic Regression\n",
    "\n",
    "model_LR_smote = LogisticRegression()\n",
    "model_LR_smote.fit(X_train_miss,y_train_miss)\n",
    "y_predict = model_LR_smote.predict(df_Test)\n",
    "print(classification_report(Y_test, y_predict))"
   ]
  },
  {
   "cell_type": "code",
   "execution_count": 229,
   "metadata": {},
   "outputs": [
    {
     "name": "stdout",
     "output_type": "stream",
     "text": [
      "Classification Report: \n",
      "               precision    recall  f1-score   support\n",
      "\n",
      "           0       1.00      1.00      1.00     55332\n",
      "           1       0.39      0.57      0.46       240\n",
      "\n",
      "    accuracy                           0.99     55572\n",
      "   macro avg       0.69      0.78      0.73     55572\n",
      "weighted avg       1.00      0.99      0.99     55572\n",
      "\n"
     ]
    }
   ],
   "source": [
    "# training and predictions : decision tree\n",
    "decision_tree_model = DecisionTreeClassifier(random_state=137)\n",
    "decision_tree_model.fit(X_train_miss,y_train_miss)\n",
    "y_pred = decision_tree_model.predict(df_Test)\n",
    "print(\"Classification Report: \\n\", classification_report(Y_test, y_pred))"
   ]
  },
  {
   "cell_type": "markdown",
   "metadata": {},
   "source": [
    "If we see the Recall metric for fraud detection, under sampling gave the best results.    \n",
    "\n",
    " class 0 0.94     \n",
    " \n",
    " cladd 1 0.97    "
   ]
  },
  {
   "cell_type": "markdown",
   "metadata": {},
   "source": [
    "   \n",
    "4.2. Considering the Fraud cases as anamoly and use anamoly detection methods such as:   \n",
    "> 4.2.1 Simple Statistical Methods : Metrics such as distribution, including mean, median, mode, and quantiles could be used to identify outliers since the definition of an anomalous data point is one that deviates by a certain standard deviation from the mean. \n",
    "       4.2.2 Density-Based Anomaly Detection : These include the k-nearest neighbors algorithm, Relative density of data based method known as local outlier factor (LOF) algorithm    \n",
    "       4.2.3 Clustering-Based Anomaly Detection : K-means algorithm  \n",
    "       4.2.4 Support Vector Machine-Based Anomaly Detection      \n",
    "       4.2.5 Isolation Forest : https://www.youtube.com/watch?v=TP3wdwD8JVY    \n",
    "       4.2.6 Using Auto Encoders : https://www.youtube.com/watch?v=S31E-ftRfQI\n",
    "   \n"
   ]
  },
  {
   "cell_type": "code",
   "execution_count": null,
   "metadata": {},
   "outputs": [],
   "source": []
  }
 ],
 "metadata": {
  "kernelspec": {
   "display_name": "Python 3",
   "language": "python",
   "name": "python3"
  },
  "language_info": {
   "codemirror_mode": {
    "name": "ipython",
    "version": 3
   },
   "file_extension": ".py",
   "mimetype": "text/x-python",
   "name": "python",
   "nbconvert_exporter": "python",
   "pygments_lexer": "ipython3",
   "version": "3.7.7"
  }
 },
 "nbformat": 4,
 "nbformat_minor": 4
}
