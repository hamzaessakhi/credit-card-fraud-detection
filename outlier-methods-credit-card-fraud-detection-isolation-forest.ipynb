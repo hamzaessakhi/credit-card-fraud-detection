{
 "cells": [
  {
   "cell_type": "markdown",
   "metadata": {},
   "source": [
    "## 5.3 Isolation Forest    \n",
    "Isolation Forest is based on the Decision Tree algorithm. It isolates the outliers by randomly selecting a feature from the given set of features and then randomly selecting a split value between the max and min values of that feature. This random partitioning of features will produce shorter paths in trees for the anomalous data points, thus distinguishing them from the rest of the data.  \n",
    "\n",
    "\n",
    "- Isolation Forest   \n",
    "Ad: \n",
    "  - It needs small samples from large datasets so as to derive an anomaly detection function which makes it fast and\n",
    "scalable.\n",
    "  - It does not require example anomalies in the training dataset. \n",
    "  - The tree depth is the basis of its distance threshold for determining anomalies which is autonomous from the scaling of the dataset dimensions. \n",
    "  - It can both work as a supervised and an unsupervised classifier and its objective is that the anomalies are less recurrent than usual observations and vary from their values. \n",
    "\n",
    "\n",
    "\n",
    "\n",
    "reference : http://pen.ius.edu.ba/index.php/pen/article/view/533/312\n",
    "#### Acknowledgement\n",
    "https://medium.com/datadriveninvestor/credit-card-fraud-detection-using-local-outlier-factor-and-isolation-forest-in-python-56edd0a44af5\n",
    "    \n",
    "\n",
    "**Default values are**   \n",
    "\n",
    "class sklearn.ensemble.IsolationForest(*, \n",
    "- n_estimators=100, \n",
    "- max_samples='auto',  max_samples=min(256, n_samples) for auto\n",
    "- contamination='auto', \n",
    "- max_features=1.0, \n",
    "- bootstrap=False, \n",
    "- n_jobs=None, \n",
    "- behaviour='deprecated', \n",
    "- random_state=None, \n",
    "- verbose=0, \n",
    "- warm_start=False)\n",
    "\n",
    "We train for different number of estimators\n"
   ]
  },
  {
   "cell_type": "code",
   "execution_count": 17,
   "metadata": {},
   "outputs": [],
   "source": [
    "# importing the packages\n",
    "import datetime\n",
    "import warnings\n",
    "import numpy as np\n",
    "import pandas as pd\n",
    "import seaborn as sns\n",
    "from datetime import date\n",
    "import sklearn.exceptions\n",
    "from pylab import rcParams\n",
    "import matplotlib.pyplot as plt\n",
    "from sklearn.metrics import roc_auc_score\n",
    "from sklearn.svm import OneClassSVM\n",
    "from imblearn.over_sampling import SMOTE\n",
    "from sklearn.ensemble import IsolationForest\n",
    "from imblearn.under_sampling import NearMiss \n",
    "from sklearn.metrics import confusion_matrix\n",
    "from sklearn.tree import DecisionTreeClassifier\n",
    "from sklearn.neighbors import LocalOutlierFactor\n",
    "from sklearn.metrics import plot_confusion_matrix\n",
    "from sklearn.linear_model import LogisticRegression\n",
    "from sklearn.metrics import precision_recall_fscore_support\n",
    "from sklearn.metrics import classification_report,accuracy_score\n",
    "warnings.filterwarnings(\"ignore\", category=sklearn.exceptions.UndefinedMetricWarning)\n",
    "\n",
    "\n",
    "from numpy import asarray\n",
    "from sklearn.preprocessing import StandardScaler\n",
    "from sklearn.ensemble import IsolationForest\n",
    "from sklearn.neighbors import LocalOutlierFactor"
   ]
  },
  {
   "cell_type": "code",
   "execution_count": 2,
   "metadata": {},
   "outputs": [
    {
     "name": "stdout",
     "output_type": "stream",
     "text": [
      "(129668, 23) (27786, 23)\n"
     ]
    }
   ],
   "source": [
    "data_train = pd.read_csv(\"fraudTrain.csv\")\n",
    "data_test = pd.read_csv(\"fraudTest.csv\")\n",
    "# taking smaller sample to run the model faster\n",
    "\n",
    "df_train= data_train.sample(frac = 0.1,random_state=1)\n",
    "df_test= data_test.sample(frac = 0.05,random_state=1)\n",
    "print(df_train.shape,df_test.shape)"
   ]
  },
  {
   "cell_type": "code",
   "execution_count": 3,
   "metadata": {},
   "outputs": [],
   "source": [
    "def getdatafiles():\n",
    "    # loading data\n",
    "    data_train = pd.read_csv(\"fraudTrain.csv\")\n",
    "    data_test = pd.read_csv(\"fraudTest.csv\")\n",
    "    # taking smaller sample to run the model faster\n",
    "\n",
    "    df_train= data_train.sample(frac = 0.1,random_state=1)\n",
    "    df_test= data_test.sample(frac = 0.05,random_state=1)\n",
    "    print(df_train.shape,df_test.shape)\n",
    "    \n",
    "    # function to drop tbe columns\n",
    "    def dropCol(data):\n",
    "        col_to_drop = ['trans_date_trans_time','Unnamed: 0',\n",
    "                       'cc_num','first','last','trans_num','street',\n",
    "                      'trans_date_trans_time','unix_time']\n",
    "        res = data.drop(col_to_drop,axis = 1)\n",
    "        return res\n",
    "    # dropping the columns\n",
    "    # dropping the columns ['trans_date_trans_time','Unnamed: 0','cc_num','first','last','trans_num']\n",
    "    # train data set\n",
    "    df_train = dropCol(df_train)\n",
    "    # test data set\n",
    "    df_test = dropCol(df_test)\n",
    "    \n",
    "    # creating a new feature address\n",
    "    df_train['add'] = df_train['city'] + df_train['state'] + df_train['zip'].astype(str)\n",
    "    df_test['add'] = df_test['city'] + df_test['state'] + df_test['zip'].astype(str)\n",
    "    df_train = df_train.drop(['city','state','zip'],axis =1)\n",
    "    df_test = df_test.drop(['city','state','zip'],axis =1)\n",
    "    print ( df_train.shape, df_test.shape)\n",
    "    \n",
    "\n",
    "    #Create independent and Dependent Features\n",
    "    columns = df_train.columns.tolist()\n",
    "\n",
    "    # removing the dependent feature is_fraud\n",
    "    columns = [c for c in columns if c not in [\"is_fraud\"]]\n",
    "\n",
    "    X_train = df_train[columns]\n",
    "    Y_train = df_train['is_fraud']\n",
    "    X_test = df_test[columns]\n",
    "    Y_test = df_test['is_fraud']\n",
    "    print ( X_train.shape, Y_train.shape,X_test.shape, Y_test.shape)\n",
    "\n",
    "    # function to convert dob to years\n",
    "    def age_years(born):\n",
    "        return 2019 - int(born[0:4])\n",
    "\n",
    "    # replacing the dob column with age column in our data set for test and train\n",
    "    X_train['age'] = X_train['dob'].apply(lambda x: age_years(x))\n",
    "    X_train = X_train.drop(['dob'],axis =1)\n",
    "\n",
    "    X_test['age'] = X_test['dob'].apply(lambda x: age_years(x))\n",
    "    X_test = X_test.drop(['dob'],axis =1)\n",
    "    \n",
    "    print(X_train.shape,X_test.shape)\n",
    "\n",
    "    # concanating the test and train data so that number of columns remain the same in both the data sets\n",
    "    final_df = pd.concat([X_train,X_test],axis=0)\n",
    "    final_df.shape\n",
    "\n",
    "\n",
    "    # creating the list of categorical variables\n",
    "    categorical_features =[feature for feature in X_train.columns if final_df[feature].dtypes == 'O']\n",
    "    categorical_features\n",
    "    \n",
    "    # function to convert categorical variables to one hot encoding\n",
    "    def category_onehot_multcols(data,multcolumns):\n",
    "        df_final = data\n",
    "        i=0\n",
    "        for fields in multcolumns:\n",
    "            print(fields)\n",
    "            df1=pd.get_dummies(final_df[fields],drop_first=True)\n",
    "            final_df.drop([fields],axis=1,inplace=True)\n",
    "            if i==0:\n",
    "                df_final=df1.copy()\n",
    "            else:           \n",
    "                df_final=pd.concat([df_final,df1],axis=1)\n",
    "            i=i+1             \n",
    "        df_final=pd.concat([final_df,df_final],axis=1)\n",
    "        return df_final\n",
    "\n",
    "    # applying the one hot encoding\n",
    "    final_df = category_onehot_multcols(final_df, categorical_features)\n",
    "\n",
    "    # removing duplicated columns\n",
    "    final_df =final_df.loc[:,~final_df.columns.duplicated()]\n",
    "    final_df.shape\n",
    "\n",
    "    # separating the test and training data\n",
    "    df_Train=final_df.iloc[:129668,:]\n",
    "    df_Test=final_df.iloc[129668:,:]\n",
    "    print(df_Train.shape,df_Test.shape)\n",
    "    print(Y_train.value_counts(),\"\\n\",Y_test.value_counts())\n",
    "    \n",
    "    # define standard scaler\n",
    "    scaler = StandardScaler()\n",
    "    # transform data\n",
    "    df_Train = scaler.fit_transform(df_Train)\n",
    "    df_Test = scaler.fit_transform(df_Test)# define standard scaler\n",
    "    \n",
    "    \n",
    "    \n",
    "    # files ready for testing on models\n",
    "    print(df_Train.shape, df_Test.shape, Y_train.shape, Y_test.shape)\n",
    "    return df_Train, df_Test, Y_train, Y_test\n"
   ]
  },
  {
   "cell_type": "code",
   "execution_count": 4,
   "metadata": {},
   "outputs": [],
   "source": [
    "# function to evaluate our model \n",
    "def print_eval(y_pred,model):\n",
    "    print(\"Training Accuracy: \",model.score(df_Train, Y_train))\n",
    "    print(\"Testing Accuracy: \", model.score(df_Test, Y_test))\n",
    "    print(confusion_matrix(Y_test, y_pred))\n",
    "    \n",
    "    print(classification_report(Y_test,y_pred))\n"
   ]
  },
  {
   "cell_type": "code",
   "execution_count": 5,
   "metadata": {},
   "outputs": [
    {
     "name": "stdout",
     "output_type": "stream",
     "text": [
      "(129668, 23) (27786, 23)\n",
      "(129668, 13) (27786, 13)\n",
      "(129668, 12) (129668,) (27786, 12) (27786,)\n",
      "(129668, 12) (27786, 12)\n",
      "merchant\n",
      "category\n",
      "gender\n",
      "job\n",
      "add\n",
      "(129668, 2143) (27786, 2143)\n",
      "0    128963\n",
      "1       705\n",
      "Name: is_fraud, dtype: int64 \n",
      " 0    27656\n",
      "1      130\n",
      "Name: is_fraud, dtype: int64\n",
      "(129668, 2143) (27786, 2143) (129668,) (27786,)\n"
     ]
    }
   ],
   "source": [
    "df_Train, df_Test, Y_train, Y_test = getdatafiles()"
   ]
  },
  {
   "cell_type": "code",
   "execution_count": null,
   "metadata": {},
   "outputs": [],
   "source": [
    "df_Train, df_Test, Y_train, Y_test = getdatafiles()"
   ]
  },
  {
   "cell_type": "code",
   "execution_count": 7,
   "metadata": {},
   "outputs": [
    {
     "name": "stdout",
     "output_type": "stream",
     "text": [
      "Normal cases in train set : 128963 \n",
      "Fraud cases in train set : 705\n",
      "Normal cases in test set : 27656 \n",
      "Fraud cases in test set : 130\n",
      "Fraud percentage : 0.0054\n",
      "Fraud percentage : 0.004678615129921543\n"
     ]
    }
   ],
   "source": [
    "## Get the Fraud and the normal  transaction numbers for test and train dataset \n",
    "\n",
    "fraud_train = df_train[df_train['is_fraud']==1]\n",
    "normal_train = df_train[df_train['is_fraud']==0]\n",
    "fraud_test = df_test[df_test['is_fraud']==1]\n",
    "normal_test = df_test[df_test['is_fraud']==0]\n",
    "\n",
    "print(\"Normal cases in train set :\",len(df_train)-len(fraud_train),\"\\nFraud cases in train set :\",len(fraud_train))\n",
    "print(\"Normal cases in test set :\",len(df_test)-len(fraud_test),\"\\nFraud cases in test set :\",len(fraud_test))\n",
    "outlier_fraction = round(len(fraud_train)/len(df_train),4)\n",
    "print(\"Fraud percentage :\", outlier_fraction)\n",
    "print(\"Fraud percentage :\", len(fraud_test)/len(df_test))"
   ]
  },
  {
   "cell_type": "markdown",
   "metadata": {},
   "source": [
    "### for different number of estimators"
   ]
  },
  {
   "cell_type": "code",
   "execution_count": 80,
   "metadata": {},
   "outputs": [
    {
     "name": "stdout",
     "output_type": "stream",
     "text": [
      "CPU times: user 15min 58s, sys: 10min 50s, total: 26min 48s\n",
      "Wall time: 27min 52s\n"
     ]
    }
   ],
   "source": [
    "%%time\n",
    "ne = [50,75,80,85,90,95,100,200,500]\n",
    "\n",
    "outlier_fraction = len(fraud_test)/len(df_Test)\n",
    "precesion_if_1 = []\n",
    "recall_if_1 = []\n",
    "f1score_if_1 = []\n",
    "roc = []\n",
    "for n_est in ne:\n",
    "    model_isolation = IsolationForest(n_estimators = n_est,\n",
    "                                      max_samples = len(df_Test),\n",
    "                                      contamination = outlier_fraction,\n",
    "                                     random_state = 137).fit(df_Test)\n",
    "    # predictions\n",
    "    y_pred = model_isolation.predict(df_Test) # Prediction using trained model.\n",
    "    y_pred[y_pred == 1] = 0 # Valid transactions are labelled as 0.\n",
    "    y_pred[y_pred == -1] = 1 # Fraudulent transactions are labelled as 1.\n",
    "    # results \n",
    "    errors = (y_pred != Y_test).sum() # Total number of errors is calculated.\n",
    "    #print(errors_f1)\n",
    "    #print(accuracy_score(Y_test,y_pred))\n",
    "    #print(classification_report(Y_test,y_pred))\n",
    "    #print(\"roc_auc_score\",roc_auc_score(Y_test,y_pred))\n",
    "    #print(confusion_matrix(Y_test,y_pred))\n",
    "    prfs = precision_recall_fscore_support(Y_test,y_pred , average=None)\n",
    "    #res_recall[i] = round(prfs[1][1],2)\n",
    "    precesion_if_1.append(prfs[0][1])\n",
    "    \n",
    "    recall_if_1.append(prfs[1][1])\n",
    "    \n",
    "    f1score_if_1.append(prfs[2][1])\n",
    "    \n",
    "    roc.append(roc_auc_score(Y_test,y_pred))\n",
    "    recall_0   = prfs[1][0]\n",
    "    recall_1   = prfs[1][1]\n",
    "    prec_0     = prfs[0][0]\n",
    "    prec_1     = prfs[0][1]\n",
    "    f1_score_0 = prfs[2][0]\n",
    "    f1_score_1 = prfs[2][1]\n",
    "    "
   ]
  },
  {
   "cell_type": "code",
   "execution_count": 81,
   "metadata": {},
   "outputs": [
    {
     "name": "stdout",
     "output_type": "stream",
     "text": [
      "[0.007692307692307693, 0.023076923076923078, 0.015384615384615385, 0.0, 0.0, 0.007692307692307693, 0.007692307692307693, 0.0]\n"
     ]
    }
   ],
   "source": [
    "print(recall_if_1_ne)"
   ]
  },
  {
   "cell_type": "code",
   "execution_count": 82,
   "metadata": {},
   "outputs": [
    {
     "data": {
      "text/plain": [
       "Text(0.5, 1.0, 'roc')"
      ]
     },
     "execution_count": 82,
     "metadata": {},
     "output_type": "execute_result"
    },
    {
     "data": {
      "image/png": "[encoded data removed]",
      "text/plain": [
       "<Figure size 1440x792 with 4 Axes>"
      ]
     },
     "metadata": {
      "needs_background": "light"
     },
     "output_type": "display_data"
    }
   ],
   "source": [
    "precesion_if_1_ne = precesion_if_1\n",
    "recall_if_1_ne = recall_if_1\n",
    "f1score_if_1_ne = f1score_if_1\n",
    "roc_ne = roc\n",
    "\n",
    "fig = plt.figure(1,figsize =(20,11) )\n",
    "plt.subplot(2,2,1)\n",
    "plt.plot(ne,precesion_if_1_ne)\n",
    "plt.xlabel('number of estimators')\n",
    "plt.ylabel('Precision')\n",
    "plt.title(\"Precision\",fontsize = 16)\n",
    "\n",
    "plt.subplot(2,2,2)\n",
    "plt.plot(ne,recall_if_1_ne)\n",
    "plt.xlabel('Number of estimators')\n",
    "plt.ylabel('Recall')\n",
    "plt.title(\"Recall\",fontsize = 16)\n",
    "\n",
    "plt.subplot(2,2,3)\n",
    "plt.plot(ne,f1score_if_1_ne)\n",
    "plt.xlabel('number of estimators')\n",
    "plt.ylabel('f1score')\n",
    "plt.title(\"fiscore\",fontsize = 16)\n",
    "\n",
    "plt.subplot(2,2,4)\n",
    "plt.plot(ne,roc_ne)\n",
    "plt.xlabel('number of estimators')\n",
    "plt.ylabel('roc')\n",
    "plt.title(\"roc\",fontsize = 16)\n",
    "\n"
   ]
  },
  {
   "cell_type": "code",
   "execution_count": null,
   "metadata": {},
   "outputs": [],
   "source": [
    "# plotting roc wrt to number of estimators\n",
    "plt.plot(ne,roc)\n",
    "plt.xlabel('number of estimators')\n",
    "plt.ylabel('roc Score')\n",
    "plt.title(\"ROC\",fontsize = 16)"
   ]
  },
  {
   "cell_type": "markdown",
   "metadata": {},
   "source": [
    "### We see that 100 is the number of estimators which is giivng the best roc, we try to change the max_sample size."
   ]
  },
  {
   "cell_type": "code",
   "execution_count": 38,
   "metadata": {},
   "outputs": [
    {
     "name": "stdout",
     "output_type": "stream",
     "text": [
      "CPU times: user 6min 5s, sys: 4min 1s, total: 10min 6s\n",
      "Wall time: 10min 8s\n"
     ]
    }
   ],
   "source": [
    "%%time\n",
    "ms = [100,200,256,300,400,500,600,700,1000]\n",
    "\n",
    "outlier_fraction = len(fraud_test)/len(df_Test)\n",
    "precesion_if_1 = []\n",
    "recall_if_1 = []\n",
    "f1score_if_1 = []\n",
    "roc = []\n",
    "for max_s in ms:\n",
    "    model_isolation = IsolationForest(n_estimators = 100,\n",
    "                                      max_samples = max_s,\n",
    "                                      contamination = outlier_fraction,\n",
    "                                     random_state = 137).fit(df_Test)\n",
    "    # predictions\n",
    "    y_pred = model_isolation.predict(df_Test) # Prediction using trained model.\n",
    "    y_pred[y_pred == 1] = 0 # Valid transactions are labelled as 0.\n",
    "    y_pred[y_pred == -1] = 1 # Fraudulent transactions are labelled as 1.\n",
    "    # results \n",
    "    errors = (y_pred != Y_test).sum() # Total number of errors is calculated.\n",
    "    #print(errors_f1)\n",
    "    #print(accuracy_score(Y_test,y_pred))\n",
    "    #print(classification_report(Y_test,y_pred))\n",
    "    #print(\"roc_auc_score\",roc_auc_score(Y_test,y_pred))\n",
    "    #print(confusion_matrix(Y_test,y_pred))\n",
    "    prfs = precision_recall_fscore_support(Y_test,y_pred , average=None)\n",
    "    #res_recall[i] = round(prfs[1][1],2)\n",
    "    precesion_if_1.append(prfs[0][1])\n",
    "    recall_if_1.append(prfs[1][1])\n",
    "    f1score_if_1.append(prfs[2][1])\n",
    "    roc.append(roc_auc_score(Y_test,y_pred))\n",
    "    recall_0   = prfs[1][0]\n",
    "    recall_1   = prfs[1][1]\n",
    "    prec_0     = prfs[0][0]\n",
    "    prec_1     = prfs[0][1]\n",
    "    f1_score_0 = prfs[2][0]\n",
    "    f1_score_1 = prfs[2][1]\n",
    "    "
   ]
  },
  {
   "cell_type": "code",
   "execution_count": 39,
   "metadata": {},
   "outputs": [
    {
     "data": {
      "text/plain": [
       "Text(0.5, 1.0, 'ROC')"
      ]
     },
     "execution_count": 39,
     "metadata": {},
     "output_type": "execute_result"
    },
    {
     "data": {
      "image/png": "[encoded data removed]",
      "text/plain": [
       "<Figure size 432x288 with 1 Axes>"
      ]
     },
     "metadata": {
      "needs_background": "light"
     },
     "output_type": "display_data"
    }
   ],
   "source": [
    "# plotting precision,recall,f1score,roc wrt to number of estimators\n",
    "precesion_if_1_ms = precesion_if_1\n",
    "recall_if_1_ms = recall_if_1\n",
    "f1score_if_1_ms = f1score_if_1\n",
    "roc_ms = roc\n",
    "\n",
    "fig = plt.figure(1,figsize =(20,11) )\n",
    "plt.subplot(2,2,1)\n",
    "plt.plot(ne,precesion_if_1_ms)\n",
    "plt.xlabel('Number of max_samples')\n",
    "plt.ylabel('Precision')\n",
    "plt.title(\"Precision\",fontsize = 16)\n",
    "\n",
    "plt.subplot(2,2,2)\n",
    "plt.plot(ne,recall_if_1_ms)\n",
    "plt.xlabel('Number of max_samples')\n",
    "plt.ylabel('Recall')\n",
    "plt.title(\"Recall\",fontsize = 16)\n",
    "\n",
    "plt.subplot(2,2,3)\n",
    "plt.plot(ne,f1score_if_1_ms)\n",
    "plt.xlabel('number of max_samples')\n",
    "plt.ylabel('f1score')\n",
    "plt.title(\"fiscore\",fontsize = 16)\n",
    "\n",
    "plt.subplot(2,2,4)\n",
    "plt.plot(ne,roc_ms)\n",
    "plt.xlabel('number of max_samples')\n",
    "plt.ylabel('roc')\n",
    "plt.title(\"roc\",fontsize = 16)"
   ]
  },
  {
   "cell_type": "code",
   "execution_count": 42,
   "metadata": {},
   "outputs": [
    {
     "name": "stdout",
     "output_type": "stream",
     "text": [
      "[0.0, 0.0, 0.0, 0.015384615384615385, 0.0]\n"
     ]
    }
   ],
   "source": [
    "print(recall_if_1)"
   ]
  },
  {
   "cell_type": "markdown",
   "metadata": {},
   "source": [
    "### WE choose maximum number of samples as 500, number of estimators as 100 and now we test for contamination"
   ]
  },
  {
   "cell_type": "code",
   "execution_count": 44,
   "metadata": {},
   "outputs": [
    {
     "name": "stdout",
     "output_type": "stream",
     "text": [
      "CPU times: user 9min 46s, sys: 6min 16s, total: 16min 3s\n",
      "Wall time: 16min 10s\n"
     ]
    }
   ],
   "source": [
    "%%time\n",
    "cn = [.001,.005,.006,.007,.008,.01,.02,.1]\n",
    "\n",
    "outlier_fraction = len(fraud_test)/len(df_Test)\n",
    "precesion_if_1 = []\n",
    "recall_if_1 = []\n",
    "f1score_if_1 = []\n",
    "roc = []\n",
    "for cnr in cn:\n",
    "    model_isolation = IsolationForest(n_estimators = 100,\n",
    "                                      max_samples = 500,\n",
    "                                      contamination = cnr,\n",
    "                                     random_state = 137).fit(df_Test)\n",
    "    # predictions\n",
    "    y_pred = model_isolation.predict(df_Test) # Prediction using trained model.\n",
    "    y_pred[y_pred == 1] = 0 # Valid transactions are labelled as 0.\n",
    "    y_pred[y_pred == -1] = 1 # Fraudulent transactions are labelled as 1.\n",
    "    # results \n",
    "    errors = (y_pred != Y_test).sum() # Total number of errors is calculated.\n",
    "    #print(errors_f1)\n",
    "    #print(accuracy_score(Y_test,y_pred))\n",
    "    #print(classification_report(Y_test,y_pred))\n",
    "    #print(\"roc_auc_score\",roc_auc_score(Y_test,y_pred))\n",
    "    #print(confusion_matrix(Y_test,y_pred))\n",
    "    prfs = precision_recall_fscore_support(Y_test,y_pred , average=None)\n",
    "    #res_recall[i] = round(prfs[1][1],2)\n",
    "    precesion_if_1.append(prfs[0][1])\n",
    "    recall_if_1.append(prfs[1][1])\n",
    "    f1score_if_1.append(prfs[2][1])\n",
    "    roc.append(roc_auc_score(Y_test,y_pred))\n",
    "    recall_0   = prfs[1][0]\n",
    "    recall_1   = prfs[1][1]\n",
    "    prec_0     = prfs[0][0]\n",
    "    prec_1     = prfs[0][1]\n",
    "    f1_score_0 = prfs[2][0]\n",
    "    f1_score_1 = prfs[2][1]"
   ]
  },
  {
   "cell_type": "code",
   "execution_count": 55,
   "metadata": {},
   "outputs": [
    {
     "name": "stdout",
     "output_type": "stream",
     "text": [
      "[0.0, 0.014869888475836432, 0.0202020202020202, 0.018461538461538463, 0.016997167138810203, 0.014705882352941176, 0.01457725947521866, 0.012375386730835339]\n"
     ]
    }
   ],
   "source": [
    "print(f1score_if_1)\n"
   ]
  },
  {
   "cell_type": "code",
   "execution_count": 58,
   "metadata": {},
   "outputs": [
    {
     "data": {
      "text/plain": [
       "Text(0.5, 1.0, 'ROC plot as per Contamination Rate')"
      ]
     },
     "execution_count": 58,
     "metadata": {},
     "output_type": "execute_result"
    },
    {
     "data": {
      "image/png": "[encoded data removed]",
      "text/plain": [
       "<Figure size 432x288 with 1 Axes>"
      ]
     },
     "metadata": {
      "needs_background": "light"
     },
     "output_type": "display_data"
    }
   ],
   "source": [
    "# plotting roc wrt to number of estimators\n",
    "\n",
    "\n",
    "plt.plot(cn,f1score_if_1)\n",
    "plt.xlabel('Contamination Rate')\n",
    "plt.ylabel('roc Score')\n",
    "plt.title(\"ROC plot as per Contamination Rate\",fontsize = 16)"
   ]
  },
  {
   "cell_type": "markdown",
   "metadata": {},
   "source": [
    "### We choose maximum number of samples is 500, number of estimators is 100 and contamination ratio is 0.005 which is the actual contamination ration\n",
    "\n"
   ]
  },
  {
   "cell_type": "code",
   "execution_count": 91,
   "metadata": {},
   "outputs": [
    {
     "name": "stdout",
     "output_type": "stream",
     "text": [
      "CPU times: user 1min 13s, sys: 49.4 s, total: 2min 3s\n",
      "Wall time: 2min 15s\n"
     ]
    }
   ],
   "source": [
    "%%time\n",
    "# final results without any optimization\n",
    "model_isolation = IsolationForest(n_estimators = 100,\n",
    "                                      max_samples = 500,\n",
    "                                      contamination = outlier_fraction,\n",
    "                                     random_state = 137).fit(df_Test)\n",
    "# predictions\n",
    "y_pred = model_isolation.predict(df_Test) # Prediction using trained model.\n",
    "y_pred[y_pred == 1] = 0 # Valid transactions are labelled as 0.\n",
    "y_pred[y_pred == -1] = 1 # Fraudulent transactions are labelled as 1.\n",
    "# results \n",
    "errors = (y_pred != Y_test).sum() # Total number of errors is calculated.\n",
    "#print(errors_f1)\n",
    "#print(accuracy_score(Y_test,y_pred))\n",
    "#print(classification_report(Y_test,y_pred))\n",
    "#print(\"roc_auc_score\",roc_auc_score(Y_test,y_pred))\n",
    "#print(confusion_matrix(Y_test,y_pred))\n",
    "prfs = precision_recall_fscore_support(Y_test,y_pred , average=None)\n",
    "#res_recall[i] = round(prfs[1][1],2)\n",
    "precesion_if_1.append(prfs[0][1])\n",
    "recall_if_1.append(prfs[1][1])\n",
    "f1score_if_1.append(prfs[2][1])\n",
    "roc.append(roc_auc_score(Y_test,y_pred))\n",
    "recall_0   = prfs[1][0]\n",
    "recall_1   = prfs[1][1]\n",
    "prec_0     = prfs[0][0]\n",
    "prec_1     = prfs[0][1]\n",
    "f1_score_0 = prfs[2][0]\n",
    "f1_score_1 = prfs[2][1]\n"
   ]
  },
  {
   "cell_type": "code",
   "execution_count": 92,
   "metadata": {},
   "outputs": [
    {
     "name": "stdout",
     "output_type": "stream",
     "text": [
      "[[27528   128]\n",
      " [  128     2]]\n"
     ]
    }
   ],
   "source": [
    "print(confusion_matrix(Y_test,y_pred))"
   ]
  },
  {
   "cell_type": "code",
   "execution_count": 93,
   "metadata": {},
   "outputs": [
    {
     "name": "stdout",
     "output_type": "stream",
     "text": [
      "0.015384615384615385 0.015384615384615385 0.015384615384615385\n"
     ]
    }
   ],
   "source": [
    "print(prec_1,recall_1,f1_score_1)"
   ]
  },
  {
   "cell_type": "code",
   "execution_count": 97,
   "metadata": {},
   "outputs": [],
   "source": [
    "#!pip install eif==1.0.2\n",
    "import eif as iso"
   ]
  },
  {
   "cell_type": "code",
   "execution_count": 98,
   "metadata": {},
   "outputs": [],
   "source": [
    "def pretty_cm(y_pred, y_truth, labels):\n",
    "    '''\n",
    "    'Pretty' implementation of a confusion matrix with some evaluation statistics.\n",
    "    \n",
    "    Input:\n",
    "    y_pred - object with class predictions from the model\n",
    "    y_truth - object with actual classes\n",
    "    labels - list containing label names\n",
    "    '''\n",
    "    \n",
    "    cm = metrics.confusion_matrix(y_truth, y_pred)\n",
    "    ax= plt.subplot()\n",
    "    sns.heatmap(cm, annot=True, fmt=\"d\", linewidths=.5, square = True, cmap = 'BuGn_r')\n",
    "    ax.set_xlabel('Predicted label')\n",
    "    ax.set_ylabel('Actual label')\n",
    "    ax.set_title('Confusion Matrix', size = 15) \n",
    "    ax.xaxis.set_ticklabels(labels)\n",
    "    ax.yaxis.set_ticklabels(labels)\n",
    "    \n",
    "    print('#######################')\n",
    "    print('Evaluation metrics ####')\n",
    "    print('#######################')\n",
    "    print('Accuracy: {:.4f}'.format(metrics.accuracy_score(y_truth, y_pred)))\n",
    "    print('Precision: {:.4f}'.format(metrics.precision_score(y_truth, y_pred)))\n",
    "    print('Recall: {:.4f}'.format(metrics.recall_score(y_truth, y_pred)))\n",
    "    print('F1: {:.4f}'.format(metrics.f1_score(y_truth, y_pred)))"
   ]
  },
  {
   "cell_type": "code",
   "execution_count": 105,
   "metadata": {},
   "outputs": [
    {
     "name": "stdout",
     "output_type": "stream",
     "text": [
      "CPU times: user 1min 11s, sys: 44.8 s, total: 1min 55s\n",
      "Wall time: 1min 56s\n"
     ]
    }
   ],
   "source": [
    "%%time\n",
    "if_sk = IsolationForest(n_estimators = 100, \n",
    "                        max_samples = 500,\n",
    "                        contamination = 0.005, \n",
    "                        \n",
    "                        random_state = np.random.RandomState(42))\n",
    "if_sk.fit(df_Test)\n",
    "y_pred = if_sk.predict(df_Test)\n",
    "y_pred = [1 if x == -1 else 0 for x in y_pred]"
   ]
  },
  {
   "cell_type": "markdown",
   "metadata": {},
   "source": [
    "#### https://github.com/erykml/medium_articles/blob/master/Machine%20Learning/extended_isolation_forest_example.ipynb"
   ]
  },
  {
   "cell_type": "code",
   "execution_count": 106,
   "metadata": {},
   "outputs": [
    {
     "name": "stdout",
     "output_type": "stream",
     "text": [
      "#######################\n",
      "Evaluation metrics ####\n",
      "#######################\n",
      "Accuracy: 0.9905\n",
      "Precision: 0.0144\n",
      "Recall: 0.0154\n",
      "F1: 0.0149\n"
     ]
    },
    {
     "data": {
      "image/png": "[encoded data removed]",
      "text/plain": [
       "<Figure size 432x288 with 2 Axes>"
      ]
     },
     "metadata": {
      "needs_background": "light"
     },
     "output_type": "display_data"
    }
   ],
   "source": [
    "pretty_cm(y_pred, Y_test, [0, 1])"
   ]
  },
  {
   "cell_type": "code",
   "execution_count": 103,
   "metadata": {},
   "outputs": [],
   "source": [
    "from sklearn import metrics\n"
   ]
  },
  {
   "cell_type": "code",
   "execution_count": 112,
   "metadata": {},
   "outputs": [
    {
     "data": {
      "text/plain": [
       "array([[-0.1586771 , -0.15772542,  0.31440033, ..., -0.02324074,\n",
       "        -0.0355136 , -0.03448276],\n",
       "       [-0.09945886,  0.1222537 ,  0.4049271 , ..., -0.02324074,\n",
       "        -0.0355136 , -0.03448276],\n",
       "       [-0.3738404 ,  1.7963373 , -0.42691076, ..., -0.02324074,\n",
       "        -0.0355136 , -0.03448276],\n",
       "       ...,\n",
       "       [-0.37472426, -0.29972801,  0.85060634, ..., -0.02324074,\n",
       "        -0.0355136 , -0.03448276],\n",
       "       [ 0.58044612, -0.15106161,  0.95140742, ..., -0.02324074,\n",
       "        -0.0355136 , -0.03448276],\n",
       "       [-0.27970991, -1.29368663, -0.64467186, ..., -0.02324074,\n",
       "        -0.0355136 , -0.03448276]])"
      ]
     },
     "execution_count": 112,
     "metadata": {},
     "output_type": "execute_result"
    }
   ],
   "source": [
    "pd.DataFrame(df_Test).values"
   ]
  },
  {
   "cell_type": "code",
   "execution_count": 113,
   "metadata": {},
   "outputs": [],
   "source": [
    "anomalies_ratio = 0.005\n",
    "if_eif = iso.iForest(df_Test, \n",
    "                     ntrees = 100, \n",
    "                     sample_size = 500, \n",
    "                     ExtensionLevel = 0)\n",
    "\n",
    "# calculate anomaly scores\n",
    "anomaly_scores = if_eif.compute_paths(X_in = df_Test)\n",
    "# sort the scores\n",
    "anomaly_scores_sorted = np.argsort(anomaly_scores)\n",
    "# retrieve indices of anomalous observations\n",
    "indices_with_preds = anomaly_scores_sorted[-int(np.ceil(.005* df_Test.shape[0])):]\n",
    "# create predictions \n",
    "y_pred = np.zeros_like(Y_test)\n",
    "y_pred[indices_with_preds] = 1"
   ]
  },
  {
   "cell_type": "code",
   "execution_count": 114,
   "metadata": {},
   "outputs": [
    {
     "name": "stdout",
     "output_type": "stream",
     "text": [
      "#######################\n",
      "Evaluation metrics ####\n",
      "#######################\n",
      "Accuracy: 0.9903\n",
      "Precision: 0.0000\n",
      "Recall: 0.0000\n",
      "F1: 0.0000\n"
     ]
    },
    {
     "data": {
      "image/png": "[encoded data removed]",
      "text/plain": [
       "<Figure size 432x288 with 2 Axes>"
      ]
     },
     "metadata": {
      "needs_background": "light"
     },
     "output_type": "display_data"
    }
   ],
   "source": [
    "pretty_cm(y_pred, Y_test, [0, 1])"
   ]
  },
  {
   "cell_type": "code",
   "execution_count": 116,
   "metadata": {},
   "outputs": [
    {
     "name": "stdout",
     "output_type": "stream",
     "text": [
      "#######################\n",
      "Evaluation metrics ####\n",
      "#######################\n",
      "Accuracy: 0.9910\n",
      "Precision: 0.0647\n",
      "Recall: 0.0692\n",
      "F1: 0.0669\n",
      "CPU times: user 12min 2s, sys: 20.6 s, total: 12min 23s\n",
      "Wall time: 11min 50s\n"
     ]
    },
    {
     "data": {
      "image/png": "[encoded data removed]",
      "text/plain": [
       "<Figure size 432x288 with 2 Axes>"
      ]
     },
     "metadata": {
      "needs_background": "light"
     },
     "output_type": "display_data"
    }
   ],
   "source": [
    "%%time\n",
    "anomalies_ratio = 0.005\n",
    "if_eif = iso.iForest(df_Test, \n",
    "                     ntrees = 100, \n",
    "                     sample_size = 500, \n",
    "                     ExtensionLevel = df_Test.shape[1] - 1)\n",
    "\n",
    "# calculate anomaly scores\n",
    "anomaly_scores = if_eif.compute_paths(X_in = df_Test)\n",
    "# sort the scores\n",
    "anomaly_scores_sorted = np.argsort(anomaly_scores)\n",
    "# retrieve indices of anomalous observations\n",
    "indices_with_preds = anomaly_scores_sorted[-int(np.ceil(.005* df_Test.shape[0])):]\n",
    "# create predictions \n",
    "y_pred = np.zeros_like(Y_test)\n",
    "y_pred[indices_with_preds] = 1\n",
    "pretty_cm(y_pred, Y_test, [0, 1])"
   ]
  },
  {
   "cell_type": "code",
   "execution_count": null,
   "metadata": {},
   "outputs": [],
   "source": []
  }
 ],
 "metadata": {
  "kernelspec": {
   "display_name": "Python 3",
   "language": "python",
   "name": "python3"
  },
  "language_info": {
   "codemirror_mode": {
    "name": "ipython",
    "version": 3
   },
   "file_extension": ".py",
   "mimetype": "text/x-python",
   "name": "python",
   "nbconvert_exporter": "python",
   "pygments_lexer": "ipython3",
   "version": "3.7.7"
  }
 },
 "nbformat": 4,
 "nbformat_minor": 4
}
